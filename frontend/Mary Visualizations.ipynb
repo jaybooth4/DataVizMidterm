{
 "cells": [
  {
   "cell_type": "code",
   "execution_count": 11,
   "metadata": {},
   "outputs": [
    {
     "data": {
      "text/html": [
       "<script type=\"text/javascript\">window.PlotlyConfig = {MathJaxConfig: 'local'};</script><script type=\"text/javascript\">if (window.MathJax) {MathJax.Hub.Config({SVG: {font: \"STIX-Web\"}});}</script><script>requirejs.config({paths: { 'plotly': ['https://cdn.plot.ly/plotly-latest.min']},});if(!window._Plotly) {require(['plotly'],function(plotly) {window._Plotly=plotly;});}</script>"
      ],
      "text/vnd.plotly.v1+html": [
       "<script type=\"text/javascript\">window.PlotlyConfig = {MathJaxConfig: 'local'};</script><script type=\"text/javascript\">if (window.MathJax) {MathJax.Hub.Config({SVG: {font: \"STIX-Web\"}});}</script><script>requirejs.config({paths: { 'plotly': ['https://cdn.plot.ly/plotly-latest.min']},});if(!window._Plotly) {require(['plotly'],function(plotly) {window._Plotly=plotly;});}</script>"
      ]
     },
     "metadata": {},
     "output_type": "display_data"
    },
    {
     "data": {
      "text/html": [
       "\n",
       "    <div class=\"bk-root\">\n",
       "        <a href=\"https://bokeh.pydata.org\" target=\"_blank\" class=\"bk-logo bk-logo-small bk-logo-notebook\"></a>\n",
       "        <span id=\"1003\">Loading BokehJS ...</span>\n",
       "    </div>"
      ]
     },
     "metadata": {},
     "output_type": "display_data"
    },
    {
     "data": {
      "application/javascript": [
       "\n",
       "(function(root) {\n",
       "  function now() {\n",
       "    return new Date();\n",
       "  }\n",
       "\n",
       "  var force = true;\n",
       "\n",
       "  if (typeof (root._bokeh_onload_callbacks) === \"undefined\" || force === true) {\n",
       "    root._bokeh_onload_callbacks = [];\n",
       "    root._bokeh_is_loading = undefined;\n",
       "  }\n",
       "\n",
       "  var JS_MIME_TYPE = 'application/javascript';\n",
       "  var HTML_MIME_TYPE = 'text/html';\n",
       "  var EXEC_MIME_TYPE = 'application/vnd.bokehjs_exec.v0+json';\n",
       "  var CLASS_NAME = 'output_bokeh rendered_html';\n",
       "\n",
       "  /**\n",
       "   * Render data to the DOM node\n",
       "   */\n",
       "  function render(props, node) {\n",
       "    var script = document.createElement(\"script\");\n",
       "    node.appendChild(script);\n",
       "  }\n",
       "\n",
       "  /**\n",
       "   * Handle when an output is cleared or removed\n",
       "   */\n",
       "  function handleClearOutput(event, handle) {\n",
       "    var cell = handle.cell;\n",
       "\n",
       "    var id = cell.output_area._bokeh_element_id;\n",
       "    var server_id = cell.output_area._bokeh_server_id;\n",
       "    // Clean up Bokeh references\n",
       "    if (id != null && id in Bokeh.index) {\n",
       "      Bokeh.index[id].model.document.clear();\n",
       "      delete Bokeh.index[id];\n",
       "    }\n",
       "\n",
       "    if (server_id !== undefined) {\n",
       "      // Clean up Bokeh references\n",
       "      var cmd = \"from bokeh.io.state import curstate; print(curstate().uuid_to_server['\" + server_id + \"'].get_sessions()[0].document.roots[0]._id)\";\n",
       "      cell.notebook.kernel.execute(cmd, {\n",
       "        iopub: {\n",
       "          output: function(msg) {\n",
       "            var id = msg.content.text.trim();\n",
       "            if (id in Bokeh.index) {\n",
       "              Bokeh.index[id].model.document.clear();\n",
       "              delete Bokeh.index[id];\n",
       "            }\n",
       "          }\n",
       "        }\n",
       "      });\n",
       "      // Destroy server and session\n",
       "      var cmd = \"import bokeh.io.notebook as ion; ion.destroy_server('\" + server_id + \"')\";\n",
       "      cell.notebook.kernel.execute(cmd);\n",
       "    }\n",
       "  }\n",
       "\n",
       "  /**\n",
       "   * Handle when a new output is added\n",
       "   */\n",
       "  function handleAddOutput(event, handle) {\n",
       "    var output_area = handle.output_area;\n",
       "    var output = handle.output;\n",
       "\n",
       "    // limit handleAddOutput to display_data with EXEC_MIME_TYPE content only\n",
       "    if ((output.output_type != \"display_data\") || (!output.data.hasOwnProperty(EXEC_MIME_TYPE))) {\n",
       "      return\n",
       "    }\n",
       "\n",
       "    var toinsert = output_area.element.find(\".\" + CLASS_NAME.split(' ')[0]);\n",
       "\n",
       "    if (output.metadata[EXEC_MIME_TYPE][\"id\"] !== undefined) {\n",
       "      toinsert[toinsert.length - 1].firstChild.textContent = output.data[JS_MIME_TYPE];\n",
       "      // store reference to embed id on output_area\n",
       "      output_area._bokeh_element_id = output.metadata[EXEC_MIME_TYPE][\"id\"];\n",
       "    }\n",
       "    if (output.metadata[EXEC_MIME_TYPE][\"server_id\"] !== undefined) {\n",
       "      var bk_div = document.createElement(\"div\");\n",
       "      bk_div.innerHTML = output.data[HTML_MIME_TYPE];\n",
       "      var script_attrs = bk_div.children[0].attributes;\n",
       "      for (var i = 0; i < script_attrs.length; i++) {\n",
       "        toinsert[toinsert.length - 1].firstChild.setAttribute(script_attrs[i].name, script_attrs[i].value);\n",
       "      }\n",
       "      // store reference to server id on output_area\n",
       "      output_area._bokeh_server_id = output.metadata[EXEC_MIME_TYPE][\"server_id\"];\n",
       "    }\n",
       "  }\n",
       "\n",
       "  function register_renderer(events, OutputArea) {\n",
       "\n",
       "    function append_mime(data, metadata, element) {\n",
       "      // create a DOM node to render to\n",
       "      var toinsert = this.create_output_subarea(\n",
       "        metadata,\n",
       "        CLASS_NAME,\n",
       "        EXEC_MIME_TYPE\n",
       "      );\n",
       "      this.keyboard_manager.register_events(toinsert);\n",
       "      // Render to node\n",
       "      var props = {data: data, metadata: metadata[EXEC_MIME_TYPE]};\n",
       "      render(props, toinsert[toinsert.length - 1]);\n",
       "      element.append(toinsert);\n",
       "      return toinsert\n",
       "    }\n",
       "\n",
       "    /* Handle when an output is cleared or removed */\n",
       "    events.on('clear_output.CodeCell', handleClearOutput);\n",
       "    events.on('delete.Cell', handleClearOutput);\n",
       "\n",
       "    /* Handle when a new output is added */\n",
       "    events.on('output_added.OutputArea', handleAddOutput);\n",
       "\n",
       "    /**\n",
       "     * Register the mime type and append_mime function with output_area\n",
       "     */\n",
       "    OutputArea.prototype.register_mime_type(EXEC_MIME_TYPE, append_mime, {\n",
       "      /* Is output safe? */\n",
       "      safe: true,\n",
       "      /* Index of renderer in `output_area.display_order` */\n",
       "      index: 0\n",
       "    });\n",
       "  }\n",
       "\n",
       "  // register the mime type if in Jupyter Notebook environment and previously unregistered\n",
       "  if (root.Jupyter !== undefined) {\n",
       "    var events = require('base/js/events');\n",
       "    var OutputArea = require('notebook/js/outputarea').OutputArea;\n",
       "\n",
       "    if (OutputArea.prototype.mime_types().indexOf(EXEC_MIME_TYPE) == -1) {\n",
       "      register_renderer(events, OutputArea);\n",
       "    }\n",
       "  }\n",
       "\n",
       "  \n",
       "  if (typeof (root._bokeh_timeout) === \"undefined\" || force === true) {\n",
       "    root._bokeh_timeout = Date.now() + 5000;\n",
       "    root._bokeh_failed_load = false;\n",
       "  }\n",
       "\n",
       "  var NB_LOAD_WARNING = {'data': {'text/html':\n",
       "     \"<div style='background-color: #fdd'>\\n\"+\n",
       "     \"<p>\\n\"+\n",
       "     \"BokehJS does not appear to have successfully loaded. If loading BokehJS from CDN, this \\n\"+\n",
       "     \"may be due to a slow or bad network connection. Possible fixes:\\n\"+\n",
       "     \"</p>\\n\"+\n",
       "     \"<ul>\\n\"+\n",
       "     \"<li>re-rerun `output_notebook()` to attempt to load from CDN again, or</li>\\n\"+\n",
       "     \"<li>use INLINE resources instead, as so:</li>\\n\"+\n",
       "     \"</ul>\\n\"+\n",
       "     \"<code>\\n\"+\n",
       "     \"from bokeh.resources import INLINE\\n\"+\n",
       "     \"output_notebook(resources=INLINE)\\n\"+\n",
       "     \"</code>\\n\"+\n",
       "     \"</div>\"}};\n",
       "\n",
       "  function display_loaded() {\n",
       "    var el = document.getElementById(\"1003\");\n",
       "    if (el != null) {\n",
       "      el.textContent = \"BokehJS is loading...\";\n",
       "    }\n",
       "    if (root.Bokeh !== undefined) {\n",
       "      if (el != null) {\n",
       "        el.textContent = \"BokehJS \" + root.Bokeh.version + \" successfully loaded.\";\n",
       "      }\n",
       "    } else if (Date.now() < root._bokeh_timeout) {\n",
       "      setTimeout(display_loaded, 100)\n",
       "    }\n",
       "  }\n",
       "\n",
       "\n",
       "  function run_callbacks() {\n",
       "    try {\n",
       "      root._bokeh_onload_callbacks.forEach(function(callback) { callback() });\n",
       "    }\n",
       "    finally {\n",
       "      delete root._bokeh_onload_callbacks\n",
       "    }\n",
       "    console.info(\"Bokeh: all callbacks have finished\");\n",
       "  }\n",
       "\n",
       "  function load_libs(js_urls, callback) {\n",
       "    root._bokeh_onload_callbacks.push(callback);\n",
       "    if (root._bokeh_is_loading > 0) {\n",
       "      console.log(\"Bokeh: BokehJS is being loaded, scheduling callback at\", now());\n",
       "      return null;\n",
       "    }\n",
       "    if (js_urls == null || js_urls.length === 0) {\n",
       "      run_callbacks();\n",
       "      return null;\n",
       "    }\n",
       "    console.log(\"Bokeh: BokehJS not loaded, scheduling load and callback at\", now());\n",
       "    root._bokeh_is_loading = js_urls.length;\n",
       "    for (var i = 0; i < js_urls.length; i++) {\n",
       "      var url = js_urls[i];\n",
       "      var s = document.createElement('script');\n",
       "      s.src = url;\n",
       "      s.async = false;\n",
       "      s.onreadystatechange = s.onload = function() {\n",
       "        root._bokeh_is_loading--;\n",
       "        if (root._bokeh_is_loading === 0) {\n",
       "          console.log(\"Bokeh: all BokehJS libraries loaded\");\n",
       "          run_callbacks()\n",
       "        }\n",
       "      };\n",
       "      s.onerror = function() {\n",
       "        console.warn(\"failed to load library \" + url);\n",
       "      };\n",
       "      console.log(\"Bokeh: injecting script tag for BokehJS library: \", url);\n",
       "      document.getElementsByTagName(\"head\")[0].appendChild(s);\n",
       "    }\n",
       "  };var element = document.getElementById(\"1003\");\n",
       "  if (element == null) {\n",
       "    console.log(\"Bokeh: ERROR: autoload.js configured with elementid '1003' but no matching script tag was found. \")\n",
       "    return false;\n",
       "  }\n",
       "\n",
       "  var js_urls = [\"https://cdn.pydata.org/bokeh/release/bokeh-1.0.4.min.js\", \"https://cdn.pydata.org/bokeh/release/bokeh-widgets-1.0.4.min.js\", \"https://cdn.pydata.org/bokeh/release/bokeh-tables-1.0.4.min.js\", \"https://cdn.pydata.org/bokeh/release/bokeh-gl-1.0.4.min.js\"];\n",
       "\n",
       "  var inline_js = [\n",
       "    function(Bokeh) {\n",
       "      Bokeh.set_log_level(\"info\");\n",
       "    },\n",
       "    \n",
       "    function(Bokeh) {\n",
       "      \n",
       "    },\n",
       "    function(Bokeh) {\n",
       "      console.log(\"Bokeh: injecting CSS: https://cdn.pydata.org/bokeh/release/bokeh-1.0.4.min.css\");\n",
       "      Bokeh.embed.inject_css(\"https://cdn.pydata.org/bokeh/release/bokeh-1.0.4.min.css\");\n",
       "      console.log(\"Bokeh: injecting CSS: https://cdn.pydata.org/bokeh/release/bokeh-widgets-1.0.4.min.css\");\n",
       "      Bokeh.embed.inject_css(\"https://cdn.pydata.org/bokeh/release/bokeh-widgets-1.0.4.min.css\");\n",
       "      console.log(\"Bokeh: injecting CSS: https://cdn.pydata.org/bokeh/release/bokeh-tables-1.0.4.min.css\");\n",
       "      Bokeh.embed.inject_css(\"https://cdn.pydata.org/bokeh/release/bokeh-tables-1.0.4.min.css\");\n",
       "    }\n",
       "  ];\n",
       "\n",
       "  function run_inline_js() {\n",
       "    \n",
       "    if ((root.Bokeh !== undefined) || (force === true)) {\n",
       "      for (var i = 0; i < inline_js.length; i++) {\n",
       "        inline_js[i].call(root, root.Bokeh);\n",
       "      }if (force === true) {\n",
       "        display_loaded();\n",
       "      }} else if (Date.now() < root._bokeh_timeout) {\n",
       "      setTimeout(run_inline_js, 100);\n",
       "    } else if (!root._bokeh_failed_load) {\n",
       "      console.log(\"Bokeh: BokehJS failed to load within specified timeout.\");\n",
       "      root._bokeh_failed_load = true;\n",
       "    } else if (force !== true) {\n",
       "      var cell = $(document.getElementById(\"1003\")).parents('.cell').data().cell;\n",
       "      cell.output_area.append_execute_result(NB_LOAD_WARNING)\n",
       "    }\n",
       "\n",
       "  }\n",
       "\n",
       "  if (root._bokeh_is_loading === 0) {\n",
       "    console.log(\"Bokeh: BokehJS loaded, going straight to plotting\");\n",
       "    run_inline_js();\n",
       "  } else {\n",
       "    load_libs(js_urls, function() {\n",
       "      console.log(\"Bokeh: BokehJS plotting callback run at\", now());\n",
       "      run_inline_js();\n",
       "    });\n",
       "  }\n",
       "}(window));"
      ],
      "application/vnd.bokehjs_load.v0+json": "\n(function(root) {\n  function now() {\n    return new Date();\n  }\n\n  var force = true;\n\n  if (typeof (root._bokeh_onload_callbacks) === \"undefined\" || force === true) {\n    root._bokeh_onload_callbacks = [];\n    root._bokeh_is_loading = undefined;\n  }\n\n  \n\n  \n  if (typeof (root._bokeh_timeout) === \"undefined\" || force === true) {\n    root._bokeh_timeout = Date.now() + 5000;\n    root._bokeh_failed_load = false;\n  }\n\n  var NB_LOAD_WARNING = {'data': {'text/html':\n     \"<div style='background-color: #fdd'>\\n\"+\n     \"<p>\\n\"+\n     \"BokehJS does not appear to have successfully loaded. If loading BokehJS from CDN, this \\n\"+\n     \"may be due to a slow or bad network connection. Possible fixes:\\n\"+\n     \"</p>\\n\"+\n     \"<ul>\\n\"+\n     \"<li>re-rerun `output_notebook()` to attempt to load from CDN again, or</li>\\n\"+\n     \"<li>use INLINE resources instead, as so:</li>\\n\"+\n     \"</ul>\\n\"+\n     \"<code>\\n\"+\n     \"from bokeh.resources import INLINE\\n\"+\n     \"output_notebook(resources=INLINE)\\n\"+\n     \"</code>\\n\"+\n     \"</div>\"}};\n\n  function display_loaded() {\n    var el = document.getElementById(\"1003\");\n    if (el != null) {\n      el.textContent = \"BokehJS is loading...\";\n    }\n    if (root.Bokeh !== undefined) {\n      if (el != null) {\n        el.textContent = \"BokehJS \" + root.Bokeh.version + \" successfully loaded.\";\n      }\n    } else if (Date.now() < root._bokeh_timeout) {\n      setTimeout(display_loaded, 100)\n    }\n  }\n\n\n  function run_callbacks() {\n    try {\n      root._bokeh_onload_callbacks.forEach(function(callback) { callback() });\n    }\n    finally {\n      delete root._bokeh_onload_callbacks\n    }\n    console.info(\"Bokeh: all callbacks have finished\");\n  }\n\n  function load_libs(js_urls, callback) {\n    root._bokeh_onload_callbacks.push(callback);\n    if (root._bokeh_is_loading > 0) {\n      console.log(\"Bokeh: BokehJS is being loaded, scheduling callback at\", now());\n      return null;\n    }\n    if (js_urls == null || js_urls.length === 0) {\n      run_callbacks();\n      return null;\n    }\n    console.log(\"Bokeh: BokehJS not loaded, scheduling load and callback at\", now());\n    root._bokeh_is_loading = js_urls.length;\n    for (var i = 0; i < js_urls.length; i++) {\n      var url = js_urls[i];\n      var s = document.createElement('script');\n      s.src = url;\n      s.async = false;\n      s.onreadystatechange = s.onload = function() {\n        root._bokeh_is_loading--;\n        if (root._bokeh_is_loading === 0) {\n          console.log(\"Bokeh: all BokehJS libraries loaded\");\n          run_callbacks()\n        }\n      };\n      s.onerror = function() {\n        console.warn(\"failed to load library \" + url);\n      };\n      console.log(\"Bokeh: injecting script tag for BokehJS library: \", url);\n      document.getElementsByTagName(\"head\")[0].appendChild(s);\n    }\n  };var element = document.getElementById(\"1003\");\n  if (element == null) {\n    console.log(\"Bokeh: ERROR: autoload.js configured with elementid '1003' but no matching script tag was found. \")\n    return false;\n  }\n\n  var js_urls = [\"https://cdn.pydata.org/bokeh/release/bokeh-1.0.4.min.js\", \"https://cdn.pydata.org/bokeh/release/bokeh-widgets-1.0.4.min.js\", \"https://cdn.pydata.org/bokeh/release/bokeh-tables-1.0.4.min.js\", \"https://cdn.pydata.org/bokeh/release/bokeh-gl-1.0.4.min.js\"];\n\n  var inline_js = [\n    function(Bokeh) {\n      Bokeh.set_log_level(\"info\");\n    },\n    \n    function(Bokeh) {\n      \n    },\n    function(Bokeh) {\n      console.log(\"Bokeh: injecting CSS: https://cdn.pydata.org/bokeh/release/bokeh-1.0.4.min.css\");\n      Bokeh.embed.inject_css(\"https://cdn.pydata.org/bokeh/release/bokeh-1.0.4.min.css\");\n      console.log(\"Bokeh: injecting CSS: https://cdn.pydata.org/bokeh/release/bokeh-widgets-1.0.4.min.css\");\n      Bokeh.embed.inject_css(\"https://cdn.pydata.org/bokeh/release/bokeh-widgets-1.0.4.min.css\");\n      console.log(\"Bokeh: injecting CSS: https://cdn.pydata.org/bokeh/release/bokeh-tables-1.0.4.min.css\");\n      Bokeh.embed.inject_css(\"https://cdn.pydata.org/bokeh/release/bokeh-tables-1.0.4.min.css\");\n    }\n  ];\n\n  function run_inline_js() {\n    \n    if ((root.Bokeh !== undefined) || (force === true)) {\n      for (var i = 0; i < inline_js.length; i++) {\n        inline_js[i].call(root, root.Bokeh);\n      }if (force === true) {\n        display_loaded();\n      }} else if (Date.now() < root._bokeh_timeout) {\n      setTimeout(run_inline_js, 100);\n    } else if (!root._bokeh_failed_load) {\n      console.log(\"Bokeh: BokehJS failed to load within specified timeout.\");\n      root._bokeh_failed_load = true;\n    } else if (force !== true) {\n      var cell = $(document.getElementById(\"1003\")).parents('.cell').data().cell;\n      cell.output_area.append_execute_result(NB_LOAD_WARNING)\n    }\n\n  }\n\n  if (root._bokeh_is_loading === 0) {\n    console.log(\"Bokeh: BokehJS loaded, going straight to plotting\");\n    run_inline_js();\n  } else {\n    load_libs(js_urls, function() {\n      console.log(\"Bokeh: BokehJS plotting callback run at\", now());\n      run_inline_js();\n    });\n  }\n}(window));"
     },
     "metadata": {},
     "output_type": "display_data"
    }
   ],
   "source": [
    "from plotly import __version__\n",
    "from plotly.offline import download_plotlyjs, init_notebook_mode, plot, iplot\n",
    "init_notebook_mode(connected=True)\n",
    "import plotly.graph_objs as go\n",
    "import plotly.figure_factory as FF\n",
    "\n",
    "import numpy as np\n",
    "import pandas as pd\n",
    "\n",
    "import matplotlib.pyplot as plt\n",
    "import matplotlib.patches as mpatches\n",
    "import matplotlib\n",
    "%matplotlib inline\n",
    "import seaborn as sns\n",
    "# Bokeh\n",
    "from bokeh.io import output_notebook\n",
    "from bokeh.plotting import figure, show\n",
    "from bokeh.models import HoverTool, CustomJS, ColumnDataSource, Slider\n",
    "from bokeh.layouts import column\n",
    "from bokeh.palettes import all_palettes\n",
    "output_notebook()"
   ]
  },
  {
   "cell_type": "code",
   "execution_count": 86,
   "metadata": {},
   "outputs": [
    {
     "data": {
      "text/html": [
       "<div>\n",
       "<style scoped>\n",
       "    .dataframe tbody tr th:only-of-type {\n",
       "        vertical-align: middle;\n",
       "    }\n",
       "\n",
       "    .dataframe tbody tr th {\n",
       "        vertical-align: top;\n",
       "    }\n",
       "\n",
       "    .dataframe thead th {\n",
       "        text-align: right;\n",
       "    }\n",
       "</style>\n",
       "<table border=\"1\" class=\"dataframe\">\n",
       "  <thead>\n",
       "    <tr style=\"text-align: right;\">\n",
       "      <th></th>\n",
       "      <th>term</th>\n",
       "      <th>term-frequency</th>\n",
       "      <th>importance</th>\n",
       "    </tr>\n",
       "  </thead>\n",
       "  <tbody>\n",
       "    <tr>\n",
       "      <th>0</th>\n",
       "      <td>infeasible</td>\n",
       "      <td>436</td>\n",
       "      <td>0.127641</td>\n",
       "    </tr>\n",
       "    <tr>\n",
       "      <th>1</th>\n",
       "      <td>cheekbone</td>\n",
       "      <td>362</td>\n",
       "      <td>0.239114</td>\n",
       "    </tr>\n",
       "    <tr>\n",
       "      <th>2</th>\n",
       "      <td>gable</td>\n",
       "      <td>164</td>\n",
       "      <td>0.760381</td>\n",
       "    </tr>\n",
       "    <tr>\n",
       "      <th>3</th>\n",
       "      <td>comb</td>\n",
       "      <td>222</td>\n",
       "      <td>0.979446</td>\n",
       "    </tr>\n",
       "    <tr>\n",
       "      <th>4</th>\n",
       "      <td>Switzer</td>\n",
       "      <td>13</td>\n",
       "      <td>0.367186</td>\n",
       "    </tr>\n",
       "  </tbody>\n",
       "</table>\n",
       "</div>"
      ],
      "text/plain": [
       "         term  term-frequency  importance\n",
       "0  infeasible             436    0.127641\n",
       "1   cheekbone             362    0.239114\n",
       "2       gable             164    0.760381\n",
       "3        comb             222    0.979446\n",
       "4     Switzer              13    0.367186"
      ]
     },
     "execution_count": 86,
     "metadata": {},
     "output_type": "execute_result"
    }
   ],
   "source": [
    "# set up fake data (remove when we have real data)\n",
    "# import urllib.request\n",
    "# import numpy as np\n",
    "\n",
    "# word_url = \"http://svnweb.freebsd.org/csrg/share/dict/words?view=co&content-type=text/plain\"\n",
    "# response = urllib.request.urlopen(word_url)\n",
    "# long_txt = response.read().decode()\n",
    "# words = long_txt.splitlines()\n",
    "\n",
    "# random_word_indices = np.random.randint(0,25486,100)\n",
    "# random_words = []\n",
    "# random_term_frequency = []\n",
    "# random_importance = []\n",
    "# for index in random_word_indices:\n",
    "#     random_words.append(words[index])\n",
    "#     random_term_frequency.append(np.random.randint(1,500))\n",
    "#     random_importance.append(np.random.random())\n",
    "\n",
    "# term_frequency_vs_importance_df = pd.DataFrame({\n",
    "#     'term': random_words,\n",
    "#     'term-frequency': random_term_frequency,\n",
    "#     'importance': random_importance\n",
    "# })\n",
    "\n",
    "# term_frequency_vs_importance_df.head()"
   ]
  },
  {
   "cell_type": "code",
   "execution_count": 6,
   "metadata": {},
   "outputs": [
    {
     "data": {
      "text/html": [
       "<div>\n",
       "<style scoped>\n",
       "    .dataframe tbody tr th:only-of-type {\n",
       "        vertical-align: middle;\n",
       "    }\n",
       "\n",
       "    .dataframe tbody tr th {\n",
       "        vertical-align: top;\n",
       "    }\n",
       "\n",
       "    .dataframe thead th {\n",
       "        text-align: right;\n",
       "    }\n",
       "</style>\n",
       "<table border=\"1\" class=\"dataframe\">\n",
       "  <thead>\n",
       "    <tr style=\"text-align: right;\">\n",
       "      <th></th>\n",
       "      <th>term</th>\n",
       "      <th>term-frequency</th>\n",
       "      <th>importance</th>\n",
       "    </tr>\n",
       "  </thead>\n",
       "  <tbody>\n",
       "    <tr>\n",
       "      <th>0</th>\n",
       "      <td>apple</td>\n",
       "      <td>100</td>\n",
       "      <td>0.9</td>\n",
       "    </tr>\n",
       "    <tr>\n",
       "      <th>1</th>\n",
       "      <td>circus</td>\n",
       "      <td>50</td>\n",
       "      <td>0.7</td>\n",
       "    </tr>\n",
       "    <tr>\n",
       "      <th>2</th>\n",
       "      <td>science</td>\n",
       "      <td>200</td>\n",
       "      <td>0.5</td>\n",
       "    </tr>\n",
       "  </tbody>\n",
       "</table>\n",
       "</div>"
      ],
      "text/plain": [
       "      term  term-frequency  importance\n",
       "0    apple             100         0.9\n",
       "1   circus              50         0.7\n",
       "2  science             200         0.5"
      ]
     },
     "execution_count": 6,
     "metadata": {},
     "output_type": "execute_result"
    }
   ],
   "source": [
    "# Uncomment when this is given as a file\n",
    "term_frequency_vs_importance_df = pd.read_csv('../backendOutput/term-frequency-vs-importance.csv')\n",
    "\n",
    "term_frequency_vs_importance_df.head()"
   ]
  },
  {
   "cell_type": "markdown",
   "metadata": {},
   "source": [
    "# Term-Frequency vs. Importance"
   ]
  },
  {
   "cell_type": "markdown",
   "metadata": {},
   "source": [
    "This will take data in the format of:\n",
    "\n",
    "```\n",
    "term,term-frequency,importance\n",
    "apple,105,0.5\n",
    "orange,110,0.6\n",
    "...\n",
    "```"
   ]
  },
  {
   "cell_type": "code",
   "execution_count": 101,
   "metadata": {},
   "outputs": [
    {
     "data": {
      "text/plain": [
       "'file:///mnt/c/Users/forde/Documents/DataVisualization/DataVizMidterm/frontendOutput/term-frequency-vs-importance.html'"
      ]
     },
     "execution_count": 101,
     "metadata": {},
     "output_type": "execute_result"
    }
   ],
   "source": [
    "trace = go.Scatter(\n",
    "    x=term_frequency_vs_importance_df['term-frequency'], \n",
    "    y=term_frequency_vs_importance_df['importance'],\n",
    "    mode='markers', \n",
    "    text=term_frequency_vs_importance_df['term'],\n",
    "    name='term-frequency vs. importance')\n",
    "\n",
    "layout = go.Layout(title=\"Term-frequency vs. Importance\",\n",
    "                   xaxis={'title':'Importance'},\n",
    "                   yaxis={'title':'Term-frequency'}\n",
    "                  )\n",
    "\n",
    "fig = go.Figure(data=[trace], layout=layout)\n",
    "\n",
    "plot(fig, filename=\"../frontendOutput/term-frequency-vs-importance.html\")"
   ]
  },
  {
   "cell_type": "markdown",
   "metadata": {},
   "source": [
    "## Box-Plot for Average Document Length"
   ]
  },
  {
   "cell_type": "code",
   "execution_count": 13,
   "metadata": {},
   "outputs": [
    {
     "data": {
      "text/html": [
       "<div>\n",
       "<style scoped>\n",
       "    .dataframe tbody tr th:only-of-type {\n",
       "        vertical-align: middle;\n",
       "    }\n",
       "\n",
       "    .dataframe tbody tr th {\n",
       "        vertical-align: top;\n",
       "    }\n",
       "\n",
       "    .dataframe thead th {\n",
       "        text-align: right;\n",
       "    }\n",
       "</style>\n",
       "<table border=\"1\" class=\"dataframe\">\n",
       "  <thead>\n",
       "    <tr style=\"text-align: right;\">\n",
       "      <th></th>\n",
       "      <th>document-name</th>\n",
       "      <th>number-of-words</th>\n",
       "    </tr>\n",
       "  </thead>\n",
       "  <tbody>\n",
       "    <tr>\n",
       "      <th>0</th>\n",
       "      <td>fugitive</td>\n",
       "      <td>53</td>\n",
       "    </tr>\n",
       "    <tr>\n",
       "      <th>1</th>\n",
       "      <td>cornfield</td>\n",
       "      <td>497</td>\n",
       "    </tr>\n",
       "    <tr>\n",
       "      <th>2</th>\n",
       "      <td>pick</td>\n",
       "      <td>396</td>\n",
       "    </tr>\n",
       "    <tr>\n",
       "      <th>3</th>\n",
       "      <td>Gallagher</td>\n",
       "      <td>381</td>\n",
       "    </tr>\n",
       "    <tr>\n",
       "      <th>4</th>\n",
       "      <td>Cicero</td>\n",
       "      <td>133</td>\n",
       "    </tr>\n",
       "  </tbody>\n",
       "</table>\n",
       "</div>"
      ],
      "text/plain": [
       "  document-name  number-of-words\n",
       "0      fugitive               53\n",
       "1     cornfield              497\n",
       "2          pick              396\n",
       "3     Gallagher              381\n",
       "4        Cicero              133"
      ]
     },
     "execution_count": 13,
     "metadata": {},
     "output_type": "execute_result"
    }
   ],
   "source": [
    "# set up fake data (remove when we have real data)\n",
    "import urllib.request\n",
    "import numpy as np\n",
    "\n",
    "word_url = \"http://svnweb.freebsd.org/csrg/share/dict/words?view=co&content-type=text/plain\"\n",
    "response = urllib.request.urlopen(word_url)\n",
    "long_txt = response.read().decode()\n",
    "words = long_txt.splitlines()\n",
    "\n",
    "random_word_indices = np.random.randint(0,25486,100)\n",
    "random_document_name = []\n",
    "random_number_of_words = []\n",
    "for index in random_word_indices:\n",
    "    random_document_name.append(words[index])\n",
    "    random_number_of_words.append(np.random.randint(1,500))\n",
    "\n",
    "document_length_df = pd.DataFrame({\n",
    "    'document-name': random_document_name,\n",
    "    'number-of-words': random_number_of_words,\n",
    "})\n",
    "\n",
    "document_length_df.head()"
   ]
  },
  {
   "cell_type": "code",
   "execution_count": 102,
   "metadata": {},
   "outputs": [
    {
     "data": {
      "text/plain": [
       "'file:///mnt/c/Users/forde/Documents/DataVisualization/DataVizMidterm/frontendOutput/wordcount-boxplot.html'"
      ]
     },
     "execution_count": 102,
     "metadata": {},
     "output_type": "execute_result"
    }
   ],
   "source": [
    "trace = go.Box(\n",
    "            name='Document Word Counts',\n",
    "            y=document_length_df['number-of-words'],\n",
    "            boxpoints='all'\n",
    ")\n",
    "\n",
    "data = [trace]\n",
    "\n",
    "plot(data, filename=\"../frontendOutput/wordcount-boxplot.html\")"
   ]
  },
  {
   "cell_type": "markdown",
   "metadata": {},
   "source": [
    "# LDA Topics with t-SNE and Bokeh"
   ]
  },
  {
   "cell_type": "code",
   "execution_count": 16,
   "metadata": {},
   "outputs": [],
   "source": [
    "ldamodel_df = pd.read_csv('../backendOutput/ldamodelAsMatrix.csv')\n",
    "\n",
    "ldamodel_np = ldamodel_df.to_numpy();"
   ]
  },
  {
   "cell_type": "code",
   "execution_count": 17,
   "metadata": {},
   "outputs": [],
   "source": [
    "from sklearn.manifold import TSNE\n",
    "\n",
    "tsne = TSNE(random_state=2017, perplexity=30)\n",
    "tsne_embedding = tsne.fit_transform(ldamodel_np)\n",
    "tsne_embedding = pd.DataFrame(tsne_embedding, columns=['x','y'])\n",
    "tsne_embedding['hue'] = ldamodel_np.argmax(axis=1)"
   ]
  },
  {
   "cell_type": "code",
   "execution_count": 106,
   "metadata": {},
   "outputs": [],
   "source": [
    "source = ColumnDataSource(\n",
    "    data=dict(\n",
    "        x = tsne_embedding.x,\n",
    "        y = tsne_embedding.y,\n",
    "        colors = [all_palettes['Spectral'][10][i] for i in tsne_embedding.hue],\n",
    "\n",
    "        alpha = [0.9] * tsne_embedding.shape[0],\n",
    "        size = [7] * tsne_embedding.shape[0]\n",
    "    )\n",
    ")\n",
    "hover_tsne = HoverTool(names=[\"ldamodel_df\"], tooltips=\"\"\"\n",
    "    <div style=\"margin: 10\">\n",
    "        <div style=\"margin: 0 auto; width:300px;\">\n",
    "            <span style=\"font-size: 12px; font-weight: bold;\">Title:</span>\n",
    "            <span style=\"font-size: 12px\">(Figure out what this would be)</span>\n",
    "        </div>\n",
    "    </div>\n",
    "    \"\"\")\n",
    "                      \n",
    "tools_tsne = [hover_tsne, 'pan', 'wheel_zoom', 'reset']\n",
    "plot_tsne = figure(plot_width=700, plot_height=700, tools=tools_tsne, title=\"20 News Groups\")\n",
    "plot_tsne.circle('x', 'y', size='size', fill_color='colors', \n",
    "                 alpha='alpha', line_alpha=0, line_width=0.01, source=source, name=\"ldamodel_df\")\n",
    "\n",
    "layout = column(plot_tsne)"
   ]
  },
  {
   "cell_type": "code",
   "execution_count": 110,
   "metadata": {},
   "outputs": [],
   "source": [
    "from bokeh.resources import CDN\n",
    "from bokeh.embed import file_html\n",
    "\n",
    "html = file_html(layout, CDN, \"ldamodel-tsne\")\n",
    "\n",
    "with open('../frontendOutput/ldamodel-tsne.html', 'w') as myFile:\n",
    "    myFile.write(html)"
   ]
  },
  {
   "cell_type": "code",
   "execution_count": 19,
   "metadata": {},
   "outputs": [
    {
     "data": {
      "text/html": [
       "\n",
       "\n",
       "\n",
       "\n",
       "\n",
       "\n",
       "  <div class=\"bk-root\" id=\"f8fc89ba-99de-4f3b-ae6e-28546e3af4f4\" data-root-id=\"1040\"></div>\n"
      ]
     },
     "metadata": {},
     "output_type": "display_data"
    },
    {
     "data": {
      "application/javascript": [
       "(function(root) {\n",
       "  function embed_document(root) {\n",
       "    \n",
       "  var docs_json = {\"c83e2dec-2985-4bd3-8c8a-b949fcb82637\":{\"roots\":{\"references\":[{\"attributes\":{\"children\":[{\"id\":\"1007\",\"subtype\":\"Figure\",\"type\":\"Plot\"}]},\"id\":\"1040\",\"type\":\"Column\"},{\"attributes\":{\"below\":[{\"id\":\"1017\",\"type\":\"LinearAxis\"}],\"left\":[{\"id\":\"1022\",\"type\":\"LinearAxis\"}],\"plot_height\":700,\"plot_width\":700,\"renderers\":[{\"id\":\"1017\",\"type\":\"LinearAxis\"},{\"id\":\"1021\",\"type\":\"Grid\"},{\"id\":\"1022\",\"type\":\"LinearAxis\"},{\"id\":\"1026\",\"type\":\"Grid\"},{\"id\":\"1038\",\"type\":\"GlyphRenderer\"}],\"title\":{\"id\":\"1006\",\"type\":\"Title\"},\"toolbar\":{\"id\":\"1030\",\"type\":\"Toolbar\"},\"x_range\":{\"id\":\"1009\",\"type\":\"DataRange1d\"},\"x_scale\":{\"id\":\"1013\",\"type\":\"LinearScale\"},\"y_range\":{\"id\":\"1011\",\"type\":\"DataRange1d\"},\"y_scale\":{\"id\":\"1015\",\"type\":\"LinearScale\"}},\"id\":\"1007\",\"subtype\":\"Figure\",\"type\":\"Plot\"},{\"attributes\":{},\"id\":\"1046\",\"type\":\"UnionRenderers\"},{\"attributes\":{\"data_source\":{\"id\":\"1004\",\"type\":\"ColumnDataSource\"},\"glyph\":{\"id\":\"1036\",\"type\":\"Circle\"},\"hover_glyph\":null,\"muted_glyph\":null,\"name\":\"ldamodel_df\",\"nonselection_glyph\":{\"id\":\"1037\",\"type\":\"Circle\"},\"selection_glyph\":null,\"view\":{\"id\":\"1039\",\"type\":\"CDSView\"}},\"id\":\"1038\",\"type\":\"GlyphRenderer\"},{\"attributes\":{\"source\":{\"id\":\"1004\",\"type\":\"ColumnDataSource\"}},\"id\":\"1039\",\"type\":\"CDSView\"},{\"attributes\":{\"callback\":null},\"id\":\"1009\",\"type\":\"DataRange1d\"},{\"attributes\":{},\"id\":\"1047\",\"type\":\"Selection\"},{\"attributes\":{\"callback\":null},\"id\":\"1011\",\"type\":\"DataRange1d\"},{\"attributes\":{},\"id\":\"1013\",\"type\":\"LinearScale\"},{\"attributes\":{},\"id\":\"1015\",\"type\":\"LinearScale\"},{\"attributes\":{\"formatter\":{\"id\":\"1042\",\"type\":\"BasicTickFormatter\"},\"plot\":{\"id\":\"1007\",\"subtype\":\"Figure\",\"type\":\"Plot\"},\"ticker\":{\"id\":\"1018\",\"type\":\"BasicTicker\"}},\"id\":\"1017\",\"type\":\"LinearAxis\"},{\"attributes\":{},\"id\":\"1018\",\"type\":\"BasicTicker\"},{\"attributes\":{\"plot\":{\"id\":\"1007\",\"subtype\":\"Figure\",\"type\":\"Plot\"},\"ticker\":{\"id\":\"1018\",\"type\":\"BasicTicker\"}},\"id\":\"1021\",\"type\":\"Grid\"},{\"attributes\":{\"formatter\":{\"id\":\"1044\",\"type\":\"BasicTickFormatter\"},\"plot\":{\"id\":\"1007\",\"subtype\":\"Figure\",\"type\":\"Plot\"},\"ticker\":{\"id\":\"1023\",\"type\":\"BasicTicker\"}},\"id\":\"1022\",\"type\":\"LinearAxis\"},{\"attributes\":{},\"id\":\"1042\",\"type\":\"BasicTickFormatter\"},{\"attributes\":{},\"id\":\"1023\",\"type\":\"BasicTicker\"},{\"attributes\":{\"dimension\":1,\"plot\":{\"id\":\"1007\",\"subtype\":\"Figure\",\"type\":\"Plot\"},\"ticker\":{\"id\":\"1023\",\"type\":\"BasicTicker\"}},\"id\":\"1026\",\"type\":\"Grid\"},{\"attributes\":{},\"id\":\"1044\",\"type\":\"BasicTickFormatter\"},{\"attributes\":{\"active_drag\":\"auto\",\"active_inspect\":\"auto\",\"active_multi\":null,\"active_scroll\":\"auto\",\"active_tap\":\"auto\",\"tools\":[{\"id\":\"1005\",\"type\":\"HoverTool\"},{\"id\":\"1027\",\"type\":\"PanTool\"},{\"id\":\"1028\",\"type\":\"WheelZoomTool\"},{\"id\":\"1029\",\"type\":\"ResetTool\"}]},\"id\":\"1030\",\"type\":\"Toolbar\"},{\"attributes\":{\"callback\":null,\"names\":[\"ldamodel_df\"],\"tooltips\":\"\\n    <div style=\\\"margin: 10\\\">\\n        <div style=\\\"margin: 0 auto; width:300px;\\\">\\n            <span style=\\\"font-size: 12px; font-weight: bold;\\\">Title:</span>\\n            <span style=\\\"font-size: 12px\\\">(Figure out what this would be)</span>\\n        </div>\\n    </div>\\n    \"},\"id\":\"1005\",\"type\":\"HoverTool\"},{\"attributes\":{\"fill_alpha\":{\"field\":\"alpha\"},\"fill_color\":{\"field\":\"colors\"},\"line_alpha\":{\"value\":0},\"line_color\":{\"value\":\"#1f77b4\"},\"line_width\":{\"value\":0.01},\"size\":{\"field\":\"size\",\"units\":\"screen\"},\"x\":{\"field\":\"x\"},\"y\":{\"field\":\"y\"}},\"id\":\"1036\",\"type\":\"Circle\"},{\"attributes\":{},\"id\":\"1027\",\"type\":\"PanTool\"},{\"attributes\":{\"callback\":null,\"data\":{\"alpha\":[0.9,0.9,0.9,0.9,0.9,0.9,0.9,0.9,0.9,0.9,0.9,0.9,0.9,0.9,0.9,0.9,0.9,0.9,0.9,0.9,0.9,0.9,0.9,0.9,0.9,0.9,0.9,0.9,0.9,0.9,0.9,0.9,0.9,0.9,0.9,0.9,0.9,0.9,0.9,0.9,0.9,0.9,0.9,0.9,0.9,0.9,0.9,0.9,0.9,0.9,0.9,0.9,0.9,0.9,0.9,0.9,0.9,0.9,0.9,0.9,0.9,0.9,0.9,0.9,0.9,0.9,0.9,0.9,0.9,0.9,0.9,0.9,0.9,0.9,0.9,0.9,0.9,0.9,0.9,0.9,0.9,0.9,0.9,0.9,0.9,0.9,0.9,0.9,0.9,0.9,0.9,0.9,0.9,0.9,0.9,0.9,0.9,0.9,0.9,0.9,0.9,0.9,0.9,0.9,0.9,0.9,0.9,0.9,0.9,0.9,0.9,0.9,0.9,0.9,0.9,0.9,0.9,0.9,0.9,0.9,0.9,0.9,0.9,0.9,0.9,0.9,0.9,0.9,0.9,0.9,0.9,0.9,0.9,0.9,0.9,0.9,0.9,0.9,0.9,0.9,0.9,0.9,0.9,0.9,0.9,0.9,0.9,0.9,0.9,0.9,0.9,0.9,0.9,0.9,0.9,0.9,0.9,0.9,0.9,0.9,0.9,0.9,0.9,0.9,0.9,0.9,0.9,0.9,0.9,0.9,0.9,0.9,0.9,0.9,0.9,0.9,0.9,0.9,0.9,0.9,0.9,0.9,0.9,0.9,0.9,0.9,0.9,0.9,0.9,0.9,0.9,0.9,0.9,0.9,0.9,0.9,0.9,0.9,0.9,0.9,0.9,0.9,0.9,0.9,0.9,0.9,0.9,0.9,0.9,0.9,0.9,0.9,0.9,0.9,0.9,0.9,0.9,0.9,0.9,0.9,0.9,0.9,0.9,0.9,0.9,0.9,0.9,0.9,0.9,0.9,0.9,0.9,0.9,0.9,0.9,0.9,0.9,0.9,0.9,0.9,0.9,0.9,0.9,0.9,0.9,0.9,0.9,0.9,0.9,0.9,0.9,0.9,0.9,0.9,0.9,0.9,0.9,0.9,0.9,0.9,0.9,0.9,0.9,0.9,0.9,0.9,0.9,0.9,0.9,0.9,0.9,0.9,0.9,0.9,0.9,0.9,0.9,0.9,0.9,0.9,0.9,0.9,0.9,0.9,0.9,0.9,0.9,0.9,0.9,0.9,0.9,0.9,0.9,0.9,0.9,0.9,0.9,0.9,0.9,0.9,0.9,0.9,0.9,0.9,0.9,0.9,0.9,0.9,0.9,0.9,0.9,0.9,0.9,0.9,0.9,0.9,0.9,0.9,0.9,0.9,0.9,0.9,0.9,0.9,0.9,0.9,0.9,0.9,0.9,0.9,0.9,0.9,0.9,0.9,0.9,0.9,0.9,0.9,0.9,0.9,0.9,0.9,0.9,0.9,0.9,0.9,0.9,0.9,0.9,0.9,0.9,0.9,0.9,0.9,0.9,0.9,0.9,0.9,0.9,0.9,0.9,0.9,0.9,0.9,0.9,0.9,0.9,0.9,0.9,0.9,0.9,0.9,0.9,0.9,0.9,0.9,0.9,0.9,0.9,0.9,0.9,0.9,0.9,0.9,0.9,0.9,0.9,0.9,0.9,0.9,0.9,0.9,0.9,0.9,0.9,0.9,0.9,0.9,0.9,0.9,0.9,0.9,0.9,0.9,0.9,0.9,0.9,0.9,0.9,0.9,0.9,0.9,0.9,0.9,0.9,0.9,0.9,0.9,0.9,0.9,0.9,0.9,0.9,0.9,0.9,0.9,0.9,0.9,0.9,0.9,0.9,0.9,0.9,0.9,0.9,0.9,0.9,0.9,0.9,0.9,0.9,0.9,0.9,0.9,0.9,0.9,0.9,0.9,0.9,0.9,0.9,0.9,0.9,0.9,0.9,0.9,0.9,0.9,0.9,0.9,0.9,0.9,0.9,0.9,0.9,0.9,0.9,0.9,0.9,0.9,0.9,0.9,0.9,0.9,0.9,0.9,0.9,0.9,0.9,0.9,0.9,0.9,0.9,0.9,0.9,0.9,0.9,0.9,0.9,0.9,0.9,0.9,0.9,0.9,0.9,0.9,0.9,0.9,0.9,0.9,0.9,0.9,0.9,0.9,0.9,0.9,0.9,0.9,0.9,0.9,0.9,0.9,0.9,0.9,0.9,0.9,0.9,0.9,0.9,0.9,0.9,0.9,0.9,0.9,0.9,0.9,0.9,0.9,0.9,0.9,0.9,0.9,0.9,0.9,0.9,0.9,0.9,0.9,0.9,0.9,0.9,0.9,0.9,0.9,0.9,0.9,0.9,0.9,0.9,0.9,0.9,0.9,0.9,0.9,0.9,0.9,0.9,0.9,0.9,0.9,0.9,0.9,0.9,0.9,0.9,0.9,0.9,0.9,0.9,0.9,0.9,0.9,0.9,0.9,0.9,0.9,0.9,0.9,0.9,0.9,0.9,0.9,0.9,0.9,0.9,0.9,0.9,0.9,0.9,0.9,0.9,0.9,0.9,0.9,0.9,0.9,0.9,0.9,0.9,0.9,0.9,0.9,0.9,0.9,0.9,0.9,0.9,0.9,0.9,0.9,0.9,0.9,0.9,0.9,0.9,0.9,0.9,0.9,0.9,0.9,0.9,0.9,0.9,0.9,0.9,0.9,0.9,0.9,0.9,0.9,0.9,0.9,0.9,0.9,0.9,0.9,0.9,0.9,0.9,0.9,0.9,0.9,0.9,0.9,0.9,0.9,0.9,0.9,0.9,0.9,0.9,0.9,0.9,0.9,0.9,0.9,0.9,0.9,0.9,0.9,0.9,0.9,0.9,0.9,0.9,0.9,0.9,0.9,0.9,0.9,0.9,0.9,0.9,0.9,0.9,0.9,0.9,0.9,0.9,0.9,0.9,0.9,0.9,0.9,0.9,0.9,0.9,0.9,0.9,0.9,0.9,0.9,0.9,0.9,0.9,0.9,0.9,0.9,0.9,0.9,0.9,0.9,0.9,0.9,0.9,0.9,0.9,0.9,0.9,0.9,0.9,0.9,0.9,0.9,0.9,0.9,0.9,0.9,0.9,0.9,0.9,0.9,0.9,0.9,0.9,0.9,0.9,0.9,0.9,0.9,0.9,0.9,0.9,0.9,0.9,0.9,0.9,0.9,0.9,0.9,0.9,0.9,0.9,0.9,0.9,0.9,0.9,0.9,0.9,0.9,0.9,0.9,0.9,0.9,0.9,0.9,0.9,0.9,0.9,0.9,0.9,0.9,0.9,0.9,0.9,0.9,0.9,0.9,0.9,0.9,0.9,0.9,0.9,0.9,0.9,0.9,0.9,0.9,0.9,0.9,0.9,0.9,0.9,0.9,0.9,0.9,0.9,0.9,0.9,0.9,0.9,0.9,0.9,0.9,0.9,0.9,0.9,0.9,0.9,0.9,0.9,0.9,0.9,0.9,0.9,0.9,0.9,0.9,0.9,0.9,0.9,0.9,0.9,0.9,0.9,0.9,0.9,0.9,0.9,0.9,0.9,0.9,0.9,0.9,0.9,0.9,0.9,0.9,0.9,0.9,0.9,0.9,0.9,0.9,0.9,0.9,0.9,0.9,0.9,0.9,0.9,0.9,0.9,0.9,0.9,0.9,0.9,0.9,0.9,0.9,0.9,0.9,0.9,0.9,0.9,0.9,0.9,0.9,0.9,0.9,0.9,0.9,0.9,0.9,0.9,0.9,0.9,0.9,0.9,0.9,0.9,0.9,0.9,0.9,0.9,0.9,0.9,0.9,0.9,0.9,0.9,0.9,0.9,0.9,0.9,0.9,0.9,0.9,0.9,0.9,0.9,0.9,0.9,0.9,0.9,0.9,0.9,0.9,0.9,0.9,0.9,0.9,0.9,0.9,0.9,0.9,0.9,0.9,0.9,0.9,0.9,0.9,0.9,0.9,0.9,0.9,0.9,0.9,0.9,0.9,0.9,0.9,0.9,0.9,0.9,0.9,0.9,0.9,0.9,0.9,0.9,0.9,0.9,0.9,0.9,0.9,0.9,0.9,0.9,0.9,0.9,0.9,0.9,0.9,0.9,0.9,0.9,0.9,0.9,0.9,0.9,0.9,0.9,0.9,0.9,0.9,0.9,0.9,0.9,0.9,0.9,0.9,0.9,0.9,0.9,0.9,0.9,0.9,0.9,0.9,0.9,0.9,0.9,0.9,0.9,0.9,0.9,0.9,0.9,0.9,0.9,0.9,0.9,0.9,0.9,0.9,0.9,0.9,0.9,0.9,0.9,0.9,0.9,0.9,0.9,0.9,0.9,0.9,0.9],\"colors\":[\"#9e0142\",\"#fee08b\",\"#66c2a5\",\"#9e0142\",\"#abdda4\",\"#9e0142\",\"#66c2a5\",\"#66c2a5\",\"#66c2a5\",\"#e6f598\",\"#f46d43\",\"#fdae61\",\"#e6f598\",\"#d53e4f\",\"#66c2a5\",\"#5e4fa2\",\"#fee08b\",\"#3288bd\",\"#fee08b\",\"#f46d43\",\"#e6f598\",\"#66c2a5\",\"#5e4fa2\",\"#d53e4f\",\"#66c2a5\",\"#fee08b\",\"#66c2a5\",\"#66c2a5\",\"#e6f598\",\"#f46d43\",\"#d53e4f\",\"#abdda4\",\"#fee08b\",\"#fee08b\",\"#fee08b\",\"#fee08b\",\"#fdae61\",\"#3288bd\",\"#abdda4\",\"#66c2a5\",\"#fee08b\",\"#fdae61\",\"#fee08b\",\"#f46d43\",\"#66c2a5\",\"#9e0142\",\"#fee08b\",\"#d53e4f\",\"#66c2a5\",\"#66c2a5\",\"#66c2a5\",\"#66c2a5\",\"#fee08b\",\"#f46d43\",\"#fee08b\",\"#fee08b\",\"#e6f598\",\"#d53e4f\",\"#d53e4f\",\"#66c2a5\",\"#5e4fa2\",\"#66c2a5\",\"#fee08b\",\"#d53e4f\",\"#fee08b\",\"#5e4fa2\",\"#fee08b\",\"#66c2a5\",\"#fee08b\",\"#fee08b\",\"#f46d43\",\"#66c2a5\",\"#66c2a5\",\"#fee08b\",\"#fdae61\",\"#e6f598\",\"#f46d43\",\"#fee08b\",\"#5e4fa2\",\"#fee08b\",\"#66c2a5\",\"#fee08b\",\"#fee08b\",\"#d53e4f\",\"#5e4fa2\",\"#d53e4f\",\"#fee08b\",\"#abdda4\",\"#f46d43\",\"#e6f598\",\"#66c2a5\",\"#fee08b\",\"#d53e4f\",\"#fee08b\",\"#fee08b\",\"#3288bd\",\"#9e0142\",\"#e6f598\",\"#e6f598\",\"#abdda4\",\"#fee08b\",\"#fee08b\",\"#9e0142\",\"#abdda4\",\"#66c2a5\",\"#5e4fa2\",\"#3288bd\",\"#abdda4\",\"#9e0142\",\"#f46d43\",\"#fee08b\",\"#e6f598\",\"#fdae61\",\"#f46d43\",\"#e6f598\",\"#e6f598\",\"#fee08b\",\"#fee08b\",\"#fee08b\",\"#3288bd\",\"#fee08b\",\"#d53e4f\",\"#f46d43\",\"#66c2a5\",\"#9e0142\",\"#5e4fa2\",\"#66c2a5\",\"#3288bd\",\"#fee08b\",\"#66c2a5\",\"#d53e4f\",\"#fee08b\",\"#e6f598\",\"#abdda4\",\"#66c2a5\",\"#abdda4\",\"#5e4fa2\",\"#fee08b\",\"#d53e4f\",\"#9e0142\",\"#fee08b\",\"#66c2a5\",\"#fee08b\",\"#abdda4\",\"#66c2a5\",\"#e6f598\",\"#d53e4f\",\"#fdae61\",\"#66c2a5\",\"#9e0142\",\"#66c2a5\",\"#9e0142\",\"#5e4fa2\",\"#fee08b\",\"#abdda4\",\"#fee08b\",\"#fdae61\",\"#fee08b\",\"#d53e4f\",\"#66c2a5\",\"#d53e4f\",\"#abdda4\",\"#5e4fa2\",\"#fee08b\",\"#fee08b\",\"#f46d43\",\"#fdae61\",\"#d53e4f\",\"#fee08b\",\"#fdae61\",\"#abdda4\",\"#f46d43\",\"#fdae61\",\"#5e4fa2\",\"#9e0142\",\"#e6f598\",\"#66c2a5\",\"#5e4fa2\",\"#9e0142\",\"#f46d43\",\"#fdae61\",\"#3288bd\",\"#abdda4\",\"#f46d43\",\"#d53e4f\",\"#abdda4\",\"#9e0142\",\"#e6f598\",\"#9e0142\",\"#abdda4\",\"#66c2a5\",\"#f46d43\",\"#e6f598\",\"#f46d43\",\"#abdda4\",\"#fee08b\",\"#e6f598\",\"#66c2a5\",\"#fdae61\",\"#f46d43\",\"#9e0142\",\"#66c2a5\",\"#e6f598\",\"#d53e4f\",\"#d53e4f\",\"#66c2a5\",\"#e6f598\",\"#fdae61\",\"#fee08b\",\"#f46d43\",\"#fee08b\",\"#9e0142\",\"#e6f598\",\"#66c2a5\",\"#9e0142\",\"#fee08b\",\"#5e4fa2\",\"#e6f598\",\"#fee08b\",\"#e6f598\",\"#d53e4f\",\"#fee08b\",\"#abdda4\",\"#66c2a5\",\"#fee08b\",\"#d53e4f\",\"#5e4fa2\",\"#fdae61\",\"#66c2a5\",\"#fee08b\",\"#e6f598\",\"#f46d43\",\"#d53e4f\",\"#3288bd\",\"#66c2a5\",\"#3288bd\",\"#f46d43\",\"#fee08b\",\"#fee08b\",\"#66c2a5\",\"#5e4fa2\",\"#66c2a5\",\"#66c2a5\",\"#d53e4f\",\"#f46d43\",\"#5e4fa2\",\"#3288bd\",\"#fee08b\",\"#e6f598\",\"#fdae61\",\"#e6f598\",\"#3288bd\",\"#fee08b\",\"#abdda4\",\"#66c2a5\",\"#9e0142\",\"#5e4fa2\",\"#fee08b\",\"#3288bd\",\"#66c2a5\",\"#66c2a5\",\"#e6f598\",\"#fee08b\",\"#fee08b\",\"#fee08b\",\"#fdae61\",\"#f46d43\",\"#e6f598\",\"#fdae61\",\"#d53e4f\",\"#abdda4\",\"#e6f598\",\"#fdae61\",\"#5e4fa2\",\"#66c2a5\",\"#66c2a5\",\"#fee08b\",\"#e6f598\",\"#9e0142\",\"#f46d43\",\"#f46d43\",\"#fee08b\",\"#fee08b\",\"#abdda4\",\"#d53e4f\",\"#fee08b\",\"#fee08b\",\"#f46d43\",\"#9e0142\",\"#abdda4\",\"#f46d43\",\"#3288bd\",\"#3288bd\",\"#fdae61\",\"#66c2a5\",\"#e6f598\",\"#fee08b\",\"#f46d43\",\"#fdae61\",\"#66c2a5\",\"#fee08b\",\"#d53e4f\",\"#9e0142\",\"#f46d43\",\"#9e0142\",\"#fee08b\",\"#d53e4f\",\"#66c2a5\",\"#66c2a5\",\"#fee08b\",\"#66c2a5\",\"#fee08b\",\"#fee08b\",\"#66c2a5\",\"#9e0142\",\"#e6f598\",\"#fee08b\",\"#5e4fa2\",\"#f46d43\",\"#e6f598\",\"#3288bd\",\"#66c2a5\",\"#f46d43\",\"#5e4fa2\",\"#3288bd\",\"#fee08b\",\"#fdae61\",\"#fee08b\",\"#fdae61\",\"#fee08b\",\"#e6f598\",\"#5e4fa2\",\"#e6f598\",\"#fee08b\",\"#abdda4\",\"#f46d43\",\"#fee08b\",\"#66c2a5\",\"#fee08b\",\"#66c2a5\",\"#e6f598\",\"#fee08b\",\"#fee08b\",\"#66c2a5\",\"#f46d43\",\"#66c2a5\",\"#f46d43\",\"#abdda4\",\"#3288bd\",\"#66c2a5\",\"#5e4fa2\",\"#66c2a5\",\"#fee08b\",\"#3288bd\",\"#fee08b\",\"#fdae61\",\"#fee08b\",\"#fee08b\",\"#e6f598\",\"#f46d43\",\"#fdae61\",\"#66c2a5\",\"#fdae61\",\"#66c2a5\",\"#5e4fa2\",\"#66c2a5\",\"#e6f598\",\"#9e0142\",\"#d53e4f\",\"#66c2a5\",\"#fdae61\",\"#d53e4f\",\"#fee08b\",\"#d53e4f\",\"#fee08b\",\"#66c2a5\",\"#f46d43\",\"#66c2a5\",\"#66c2a5\",\"#f46d43\",\"#66c2a5\",\"#e6f598\",\"#3288bd\",\"#e6f598\",\"#fee08b\",\"#fee08b\",\"#abdda4\",\"#abdda4\",\"#3288bd\",\"#9e0142\",\"#e6f598\",\"#3288bd\",\"#66c2a5\",\"#66c2a5\",\"#9e0142\",\"#f46d43\",\"#abdda4\",\"#d53e4f\",\"#fee08b\",\"#f46d43\",\"#fee08b\",\"#f46d43\",\"#abdda4\",\"#3288bd\",\"#abdda4\",\"#66c2a5\",\"#5e4fa2\",\"#f46d43\",\"#66c2a5\",\"#fee08b\",\"#f46d43\",\"#fee08b\",\"#e6f598\",\"#5e4fa2\",\"#abdda4\",\"#e6f598\",\"#e6f598\",\"#66c2a5\",\"#66c2a5\",\"#fee08b\",\"#fdae61\",\"#5e4fa2\",\"#d53e4f\",\"#fee08b\",\"#f46d43\",\"#fee08b\",\"#66c2a5\",\"#fee08b\",\"#f46d43\",\"#66c2a5\",\"#fee08b\",\"#e6f598\",\"#f46d43\",\"#d53e4f\",\"#66c2a5\",\"#5e4fa2\",\"#f46d43\",\"#5e4fa2\",\"#fee08b\",\"#e6f598\",\"#fee08b\",\"#9e0142\",\"#fee08b\",\"#e6f598\",\"#fee08b\",\"#f46d43\",\"#66c2a5\",\"#9e0142\",\"#66c2a5\",\"#fee08b\",\"#fee08b\",\"#e6f598\",\"#66c2a5\",\"#3288bd\",\"#d53e4f\",\"#e6f598\",\"#abdda4\",\"#d53e4f\",\"#9e0142\",\"#fee08b\",\"#fee08b\",\"#f46d43\",\"#fee08b\",\"#3288bd\",\"#e6f598\",\"#9e0142\",\"#e6f598\",\"#fdae61\",\"#f46d43\",\"#e6f598\",\"#e6f598\",\"#66c2a5\",\"#9e0142\",\"#e6f598\",\"#66c2a5\",\"#f46d43\",\"#d53e4f\",\"#5e4fa2\",\"#66c2a5\",\"#66c2a5\",\"#fdae61\",\"#66c2a5\",\"#5e4fa2\",\"#66c2a5\",\"#66c2a5\",\"#9e0142\",\"#fee08b\",\"#fee08b\",\"#d53e4f\",\"#66c2a5\",\"#fee08b\",\"#f46d43\",\"#abdda4\",\"#66c2a5\",\"#e6f598\",\"#f46d43\",\"#f46d43\",\"#9e0142\",\"#fdae61\",\"#9e0142\",\"#66c2a5\",\"#f46d43\",\"#e6f598\",\"#3288bd\",\"#abdda4\",\"#fdae61\",\"#fee08b\",\"#66c2a5\",\"#fee08b\",\"#f46d43\",\"#e6f598\",\"#f46d43\",\"#fdae61\",\"#3288bd\",\"#d53e4f\",\"#fee08b\",\"#5e4fa2\",\"#fee08b\",\"#fee08b\",\"#e6f598\",\"#66c2a5\",\"#66c2a5\",\"#66c2a5\",\"#9e0142\",\"#66c2a5\",\"#f46d43\",\"#abdda4\",\"#f46d43\",\"#e6f598\",\"#3288bd\",\"#3288bd\",\"#abdda4\",\"#fee08b\",\"#fee08b\",\"#5e4fa2\",\"#e6f598\",\"#3288bd\",\"#fee08b\",\"#d53e4f\",\"#fee08b\",\"#fee08b\",\"#fdae61\",\"#abdda4\",\"#66c2a5\",\"#d53e4f\",\"#3288bd\",\"#9e0142\",\"#f46d43\",\"#fee08b\",\"#f46d43\",\"#fee08b\",\"#abdda4\",\"#f46d43\",\"#f46d43\",\"#66c2a5\",\"#fee08b\",\"#5e4fa2\",\"#e6f598\",\"#66c2a5\",\"#d53e4f\",\"#f46d43\",\"#fee08b\",\"#5e4fa2\",\"#fee08b\",\"#66c2a5\",\"#5e4fa2\",\"#e6f598\",\"#9e0142\",\"#3288bd\",\"#e6f598\",\"#f46d43\",\"#9e0142\",\"#5e4fa2\",\"#e6f598\",\"#abdda4\",\"#fee08b\",\"#e6f598\",\"#fee08b\",\"#abdda4\",\"#3288bd\",\"#3288bd\",\"#f46d43\",\"#e6f598\",\"#fee08b\",\"#fee08b\",\"#e6f598\",\"#e6f598\",\"#f46d43\",\"#f46d43\",\"#fee08b\",\"#fdae61\",\"#fee08b\",\"#5e4fa2\",\"#66c2a5\",\"#d53e4f\",\"#e6f598\",\"#9e0142\",\"#d53e4f\",\"#fdae61\",\"#5e4fa2\",\"#5e4fa2\",\"#66c2a5\",\"#fee08b\",\"#66c2a5\",\"#d53e4f\",\"#5e4fa2\",\"#e6f598\",\"#3288bd\",\"#e6f598\",\"#66c2a5\",\"#fee08b\",\"#f46d43\",\"#fee08b\",\"#5e4fa2\",\"#fee08b\",\"#fee08b\",\"#f46d43\",\"#f46d43\",\"#fdae61\",\"#d53e4f\",\"#f46d43\",\"#abdda4\",\"#fee08b\",\"#9e0142\",\"#e6f598\",\"#fee08b\",\"#e6f598\",\"#3288bd\",\"#fee08b\",\"#5e4fa2\",\"#fee08b\",\"#abdda4\",\"#fee08b\",\"#e6f598\",\"#fdae61\",\"#fee08b\",\"#e6f598\",\"#5e4fa2\",\"#5e4fa2\",\"#f46d43\",\"#e6f598\",\"#fee08b\",\"#f46d43\",\"#f46d43\",\"#5e4fa2\",\"#fdae61\",\"#d53e4f\",\"#fee08b\",\"#f46d43\",\"#e6f598\",\"#e6f598\",\"#fee08b\",\"#fee08b\",\"#9e0142\",\"#66c2a5\",\"#fee08b\",\"#d53e4f\",\"#e6f598\",\"#fdae61\",\"#fee08b\",\"#fee08b\",\"#e6f598\",\"#fee08b\",\"#f46d43\",\"#fee08b\",\"#5e4fa2\",\"#f46d43\",\"#3288bd\",\"#5e4fa2\",\"#e6f598\",\"#abdda4\",\"#f46d43\",\"#e6f598\",\"#fdae61\",\"#e6f598\",\"#fee08b\",\"#fee08b\",\"#fdae61\",\"#5e4fa2\",\"#3288bd\",\"#f46d43\",\"#fee08b\",\"#e6f598\",\"#5e4fa2\",\"#3288bd\",\"#e6f598\",\"#fee08b\",\"#fee08b\",\"#3288bd\",\"#fee08b\",\"#9e0142\",\"#e6f598\",\"#abdda4\",\"#fee08b\",\"#fee08b\",\"#fee08b\",\"#fdae61\",\"#d53e4f\",\"#e6f598\",\"#e6f598\",\"#e6f598\",\"#66c2a5\",\"#f46d43\",\"#fdae61\",\"#fee08b\",\"#5e4fa2\",\"#66c2a5\",\"#66c2a5\",\"#f46d43\",\"#d53e4f\",\"#f46d43\",\"#abdda4\",\"#fee08b\",\"#e6f598\",\"#f46d43\",\"#f46d43\",\"#3288bd\",\"#66c2a5\",\"#9e0142\",\"#f46d43\",\"#66c2a5\",\"#fee08b\",\"#9e0142\",\"#9e0142\",\"#66c2a5\",\"#fee08b\",\"#e6f598\",\"#e6f598\",\"#f46d43\",\"#fee08b\",\"#d53e4f\",\"#9e0142\",\"#9e0142\",\"#e6f598\",\"#abdda4\",\"#fee08b\",\"#fee08b\",\"#fdae61\",\"#fee08b\",\"#9e0142\",\"#f46d43\",\"#d53e4f\",\"#f46d43\",\"#5e4fa2\",\"#fee08b\",\"#f46d43\",\"#fdae61\",\"#3288bd\",\"#66c2a5\",\"#fee08b\",\"#fee08b\",\"#66c2a5\",\"#d53e4f\",\"#5e4fa2\",\"#66c2a5\",\"#abdda4\",\"#3288bd\",\"#fee08b\",\"#5e4fa2\",\"#9e0142\",\"#e6f598\",\"#d53e4f\",\"#fee08b\",\"#fee08b\",\"#d53e4f\",\"#fee08b\",\"#abdda4\",\"#5e4fa2\",\"#e6f598\",\"#66c2a5\",\"#5e4fa2\",\"#e6f598\",\"#fee08b\",\"#3288bd\",\"#66c2a5\",\"#5e4fa2\",\"#66c2a5\",\"#fee08b\",\"#3288bd\",\"#3288bd\",\"#5e4fa2\",\"#66c2a5\",\"#66c2a5\",\"#f46d43\",\"#9e0142\",\"#fdae61\",\"#fdae61\",\"#fee08b\",\"#9e0142\",\"#fdae61\",\"#fee08b\",\"#d53e4f\",\"#9e0142\",\"#d53e4f\",\"#fee08b\",\"#f46d43\",\"#fee08b\",\"#fdae61\",\"#fee08b\",\"#fee08b\",\"#fee08b\",\"#e6f598\",\"#fdae61\",\"#f46d43\",\"#f46d43\",\"#d53e4f\",\"#fee08b\",\"#fdae61\",\"#5e4fa2\",\"#fee08b\",\"#f46d43\",\"#fee08b\",\"#5e4fa2\",\"#fee08b\",\"#fdae61\",\"#f46d43\",\"#f46d43\",\"#fdae61\",\"#fee08b\",\"#f46d43\",\"#f46d43\",\"#3288bd\",\"#5e4fa2\",\"#5e4fa2\",\"#fee08b\",\"#fee08b\",\"#fdae61\",\"#fee08b\",\"#fee08b\",\"#fee08b\",\"#66c2a5\",\"#fee08b\",\"#e6f598\",\"#e6f598\",\"#e6f598\",\"#f46d43\",\"#fee08b\",\"#66c2a5\",\"#d53e4f\",\"#f46d43\",\"#e6f598\",\"#fee08b\",\"#fee08b\",\"#fee08b\",\"#9e0142\",\"#fee08b\",\"#fdae61\",\"#fee08b\",\"#fdae61\",\"#fee08b\",\"#f46d43\",\"#fdae61\",\"#fee08b\",\"#abdda4\",\"#f46d43\",\"#fdae61\",\"#fee08b\",\"#fee08b\",\"#9e0142\",\"#fee08b\",\"#f46d43\",\"#fee08b\",\"#fee08b\",\"#e6f598\",\"#fdae61\",\"#f46d43\",\"#5e4fa2\",\"#f46d43\",\"#e6f598\",\"#f46d43\",\"#3288bd\",\"#fee08b\",\"#fee08b\",\"#fdae61\",\"#fee08b\",\"#fdae61\",\"#fee08b\",\"#fee08b\",\"#f46d43\",\"#e6f598\",\"#e6f598\",\"#f46d43\",\"#f46d43\",\"#f46d43\",\"#9e0142\",\"#fdae61\",\"#5e4fa2\",\"#fee08b\",\"#66c2a5\",\"#fee08b\",\"#66c2a5\",\"#fee08b\",\"#fdae61\",\"#5e4fa2\",\"#fee08b\",\"#f46d43\",\"#fee08b\",\"#fee08b\",\"#5e4fa2\",\"#5e4fa2\",\"#5e4fa2\",\"#fee08b\",\"#e6f598\",\"#66c2a5\",\"#fee08b\",\"#e6f598\",\"#e6f598\",\"#abdda4\",\"#fee08b\",\"#fee08b\",\"#fee08b\",\"#fee08b\",\"#9e0142\",\"#fee08b\",\"#f46d43\",\"#fee08b\",\"#e6f598\",\"#3288bd\",\"#3288bd\",\"#abdda4\",\"#fdae61\",\"#fee08b\",\"#fee08b\",\"#fee08b\",\"#9e0142\",\"#e6f598\",\"#abdda4\",\"#fee08b\",\"#e6f598\",\"#fee08b\",\"#5e4fa2\",\"#fee08b\",\"#f46d43\",\"#fee08b\",\"#fee08b\",\"#abdda4\",\"#fee08b\",\"#fee08b\",\"#3288bd\",\"#fee08b\",\"#fdae61\",\"#f46d43\",\"#fdae61\",\"#f46d43\",\"#abdda4\",\"#e6f598\",\"#fee08b\",\"#d53e4f\",\"#e6f598\",\"#abdda4\",\"#fdae61\",\"#e6f598\",\"#fee08b\",\"#e6f598\",\"#e6f598\",\"#66c2a5\",\"#fdae61\",\"#3288bd\",\"#fdae61\",\"#fdae61\",\"#d53e4f\",\"#e6f598\",\"#fee08b\",\"#abdda4\",\"#9e0142\",\"#fee08b\",\"#f46d43\",\"#3288bd\",\"#fdae61\",\"#fee08b\",\"#fdae61\",\"#5e4fa2\",\"#e6f598\",\"#66c2a5\",\"#e6f598\",\"#fee08b\",\"#d53e4f\",\"#3288bd\",\"#abdda4\",\"#fee08b\",\"#f46d43\",\"#d53e4f\",\"#9e0142\",\"#5e4fa2\",\"#fee08b\",\"#fdae61\",\"#fee08b\",\"#fdae61\",\"#f46d43\",\"#f46d43\",\"#5e4fa2\",\"#fee08b\",\"#fee08b\",\"#d53e4f\",\"#fee08b\",\"#fdae61\",\"#5e4fa2\",\"#fee08b\",\"#fee08b\"],\"size\":[7,7,7,7,7,7,7,7,7,7,7,7,7,7,7,7,7,7,7,7,7,7,7,7,7,7,7,7,7,7,7,7,7,7,7,7,7,7,7,7,7,7,7,7,7,7,7,7,7,7,7,7,7,7,7,7,7,7,7,7,7,7,7,7,7,7,7,7,7,7,7,7,7,7,7,7,7,7,7,7,7,7,7,7,7,7,7,7,7,7,7,7,7,7,7,7,7,7,7,7,7,7,7,7,7,7,7,7,7,7,7,7,7,7,7,7,7,7,7,7,7,7,7,7,7,7,7,7,7,7,7,7,7,7,7,7,7,7,7,7,7,7,7,7,7,7,7,7,7,7,7,7,7,7,7,7,7,7,7,7,7,7,7,7,7,7,7,7,7,7,7,7,7,7,7,7,7,7,7,7,7,7,7,7,7,7,7,7,7,7,7,7,7,7,7,7,7,7,7,7,7,7,7,7,7,7,7,7,7,7,7,7,7,7,7,7,7,7,7,7,7,7,7,7,7,7,7,7,7,7,7,7,7,7,7,7,7,7,7,7,7,7,7,7,7,7,7,7,7,7,7,7,7,7,7,7,7,7,7,7,7,7,7,7,7,7,7,7,7,7,7,7,7,7,7,7,7,7,7,7,7,7,7,7,7,7,7,7,7,7,7,7,7,7,7,7,7,7,7,7,7,7,7,7,7,7,7,7,7,7,7,7,7,7,7,7,7,7,7,7,7,7,7,7,7,7,7,7,7,7,7,7,7,7,7,7,7,7,7,7,7,7,7,7,7,7,7,7,7,7,7,7,7,7,7,7,7,7,7,7,7,7,7,7,7,7,7,7,7,7,7,7,7,7,7,7,7,7,7,7,7,7,7,7,7,7,7,7,7,7,7,7,7,7,7,7,7,7,7,7,7,7,7,7,7,7,7,7,7,7,7,7,7,7,7,7,7,7,7,7,7,7,7,7,7,7,7,7,7,7,7,7,7,7,7,7,7,7,7,7,7,7,7,7,7,7,7,7,7,7,7,7,7,7,7,7,7,7,7,7,7,7,7,7,7,7,7,7,7,7,7,7,7,7,7,7,7,7,7,7,7,7,7,7,7,7,7,7,7,7,7,7,7,7,7,7,7,7,7,7,7,7,7,7,7,7,7,7,7,7,7,7,7,7,7,7,7,7,7,7,7,7,7,7,7,7,7,7,7,7,7,7,7,7,7,7,7,7,7,7,7,7,7,7,7,7,7,7,7,7,7,7,7,7,7,7,7,7,7,7,7,7,7,7,7,7,7,7,7,7,7,7,7,7,7,7,7,7,7,7,7,7,7,7,7,7,7,7,7,7,7,7,7,7,7,7,7,7,7,7,7,7,7,7,7,7,7,7,7,7,7,7,7,7,7,7,7,7,7,7,7,7,7,7,7,7,7,7,7,7,7,7,7,7,7,7,7,7,7,7,7,7,7,7,7,7,7,7,7,7,7,7,7,7,7,7,7,7,7,7,7,7,7,7,7,7,7,7,7,7,7,7,7,7,7,7,7,7,7,7,7,7,7,7,7,7,7,7,7,7,7,7,7,7,7,7,7,7,7,7,7,7,7,7,7,7,7,7,7,7,7,7,7,7,7,7,7,7,7,7,7,7,7,7,7,7,7,7,7,7,7,7,7,7,7,7,7,7,7,7,7,7,7,7,7,7,7,7,7,7,7,7,7,7,7,7,7,7,7,7,7,7,7,7,7,7,7,7,7,7,7,7,7,7,7,7,7,7,7,7,7,7,7,7,7,7,7,7,7,7,7,7,7,7,7,7,7,7,7,7,7,7,7,7,7,7,7,7,7,7,7,7,7,7,7,7,7,7,7,7,7,7,7,7,7,7,7,7,7,7,7,7,7,7,7,7,7,7,7,7,7,7,7,7,7,7,7,7,7,7,7,7,7,7,7,7,7,7,7,7,7,7,7,7,7,7,7,7,7,7,7,7,7,7,7,7,7,7,7,7,7,7,7,7,7,7,7,7,7,7,7,7,7,7,7,7,7,7,7,7,7,7,7,7,7,7,7,7,7,7,7,7,7,7,7,7,7,7,7,7,7,7,7,7,7,7,7,7,7,7,7,7,7,7,7,7,7,7,7,7,7,7,7,7,7,7,7,7,7,7,7,7,7,7,7,7,7,7,7,7,7,7,7,7,7,7,7,7,7,7,7,7,7,7,7,7,7,7,7,7,7,7,7,7,7,7,7,7,7,7,7,7,7,7,7,7,7,7,7],\"x\":{\"__ndarray__\":\"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\",\"dtype\":\"float32\",\"shape\":[999]},\"y\":{\"__ndarray__\":\"tWsYQShonEETaW9BSR80QVa6skHiWP9APtdSQWzMh0EHtNFAuKr2wH7bacHcmCbC8QxDweei58Df5etAT889wspWs0CEHl3B9SyWPzNLasGd4DvBGjSCQQqEMcLEpanAG3AaQcZGFkLAhFdB0zOIQdy3PsHp5hPBUWWNwP1840GFWRFC+djXQQMXakDKXnpBwi0awmEag8ENYMZBq3ODQcASnkFiFCPCSd+HQW1nfcHZ8GdB4rP0QFXn+8C0B4vAz5XRQFWUhUFnYGdBlfVTQYaHFkG1FYXB5b75QKruH0GWCpfAakt0wFIuCMDg7opB4MxCwkEiYkGrGOBBtVOjwONkGkKHa/E+oZsZQDlMG0GUSX5AyIeuQF+dJcG6SY1BUApNQfXfEUJqvx7CjY/jvx09XsGfCtdBU40uwjfCHUHuKYBB+uXlQNc47EErmrHARAUowlxnLcDF8SW/f9DlQaDDpsE1Mr7AnPhBQeE9kEEbHY3AqnP9QUA09UGiw1nBzKoSQZUKtMCDbOZARbuzQUT5yEH7RBVBJKX2QFQp4EHK3zpBm9o9wiglgMHk7N9BQ2g9QYKaqMHpKRNBOxcYwZerJMIFghvBhQ48wap3JcGnLThBCfJtQdBXE0FUoWrB9XqzvrHqwcBHGELB4R2LQVaDK0Hg8C/CU7UXQSxpi8FD/efA5OIdQcBo1MDFpZRBKhw+wWs/2kGRyqlA0QfSQX9rHcLdhgBBuXOywHwTOkFuuTtB9b8dQWXWB0IDTOZBUcSLQextT8HTSNjAHx4lwvRud0GcHxZBZVVWQfSxDkHtIUHCwjAvQcreyEGsUAFCkm8owjdPtUAczrPAKP0kQbTCucBy0NpBk1Ixwm4VE0Hlp4pBZKy3wXQ6I8IzoNfAB1jKQfnKfUAKVN5Bb5GfwTdnJ8LdfTHCPlhAQbOv48BCI2hBELkbwhm/EUGC8QXBjZITwltNhMEIUeRBKsHhQJlb97/f3cFBwN97QDFI9sAwyEdBsveTQa0hkUGh/73BegH4wMqsrMEdmJRBB/tTv1JLKcE87WRBWDcYwuRvrsFqkxZBmsJ+QY3GrL8TVIrA3ep0wFT9g0FU3a3AXfgjwtPwM0Fmq7TBE1bSQZpVDkGroDbBqxItQfM2O0HW1BNCcdY+wqf/M8HdRwlCzfeSwBMVrMDWqohAmN61QV/SIkFnDA9ChpZrwOkdL8L0m7dAUOEeQejt3kEc0zjB/vuywfXu3MCEg4TB/9TxQNZPP8HsZvDAObsSQh4fhT80lCRBTfktwhbrDEEiE6lAAPaNwLrKpcFLHi/CBkJLwYY8FEKeOW3AlrQmwuNIIMC9N43BGHUgQafZ10EMREZBrtI4QTx3P8KQufxAo39RwS8DiEHMMU1BrzoCwQDnG0FGVxFBZwhfQX5JhUCH+QPBmHZOwUUdJcIiTDPA1onUQZgEIMHfeiPCIRBAwkQdIkFIgV5B0yr2QenXQcEV6hxB6XNdwdNpPMHOxe5BdWbFP/0Ju0H1OurAGwAaQljIgkHWIq/BUCkAQbvwz0H3pJbBm3ODwfw8WcHkSCfCrPs+QcOjSME5Sow+vBB6waUlFMIU+4BBBFFJQYcim8DKIBZBB52vwe8kHkERrlxB9VS+wCo2LUG9h4xBlTnnQDgNTkGOJxNB2GZ4QBasvECrYS1ByBxZwIlSEUBzyEPCapafwT03NsHKA3vBAKEeQYcXxMGPJxzCmJ6JwUP0+EBxURbC7HqaQPmljkBUoc5Bt7lSwD1mM8Iy3yrB8vUOQlnd3kHO053BNKOnQWGC0UC4+J5BwR1cQdBEvMAoeMpBsRkjQdotd0Hdq5HB7Ls9Qd9LKsH5grhBzC2GwdyzikH36UHCO7aAQdh3aEByZn7BDfwTQvZQJ8KYP/5BdtzBQAiVQsHRxarBdUSHQDEFWkHGwSDCTl4XQbvRLsIknHZB3ninv6CHF0FcCcHAeIeEQaYbFsKE24TAmw6vPN3FyMCQ4iNBYh1nQTCcGMJMezpBrNF9QdQMjcG313NBAhA0wDB7a8Hnxj7BvtqMQfnU10EeCNZB2/DiQeqyh8E+/kZBtpBUwMoagMERgHdA3fuFQX+J/UDBqx/BQTyxQWMny8DvkzxBg32lwZAcI0HGKyjB8SjmQbWrbkBWEbtBPViDQWcQJ8JiBIjB0YMnQTlWR0Hfby/BL3KiQG9pEMBfdivCRz7RQd2z27/4sni//KO6QAIKGkGBGJlAFcccwoHiOsJV8snA/jPlQAFYmMEJuS1BnhmGQZxtF0EbHKHBKoopQS32fUCaRS/BCKWWwfRAoMCS+j1BtyNFwnGlTsFQnyfCGrUSQl1qZMCa5uJAiFooQZITFEI6ajTBGPEWQWFAhcFT3qRALjA8QUspTkGcRcBBDeXgQGWxM8FPFohB5VhCwcEPwcCImxzBTpPeQQP/i8B4XiRBR7wUQglz/0GB1j3BhaELQATfjcH9a0rBdJsYQcfuQ8EI1SLCUWh4we2YKcHyHNG/3q1iQZMhQkHWf7S/vIpeQQnQosFjrsfARapBwqAfU0ErYNdAX/gjwvL5IEEmyzTC/q6MQT6DREFV+jBBtcMTQYr3rUCHeLDA40KGQfm3/kHOJxXBqgTPQR7lWUFRz/G/vxK8wbOKvcGwCDRBETwRwlUw9kBTbk5BJmYewVapF8FdcFXBtZ/mQSGRJsK5j/1B2SAWQbqAFULr+rzBvBo6wNJqA8FGZJ9AzUCIwS1fP8Crv+5B/tUmwjFUsUB8xmJBAkkbwRBAGEE7+VhB4FyCQR+3NUGtwH5BYaKcwaF84EFc1cLBAqUCwd8HjsHS6U7BAszDQV0yDkIBqMhABJk1wsg1tb8ubVPBj38QQrt9sMBx3vJB/GP5QSDIgkCle+FBj4I/QU95ssAMwk/B/fQjQfdrrsG6WQFCW7q5wZC6EEEIQuJBevqjwa4MtsHOhudAUw+cP6TYOsJUEbe//KxiQWUn0sAr6OvA1M4CQt0eL8KHCYs+tsNEQY/QRMIQTZTAWmo5QScfisExH3HAwBepwR+cOEG/kxY/NkXsQEX+vkFXjhdCkNNPwQ0r20AAQd1B65okQXPZasHdd7PBZRgOwakHeD4JqpRB9f5KwZBWT8HbW4nB7hOBwXoCHEFG7RjCAIIYQiyHKMKV5DpBPq/mv/oPUcDEA0dBOMnmwBTFGsJyejzCrTYrwtZbKUH9EgFBqJQbQWXBs8Do8DnCZUxDwSXxfcEjqCLBMixIQbJOpUFOqbTBO7smQVhJPMI0AXhB9g5+QbGXqMHQkrLBDUcgwiqW1cAwe6XBgDXGQc5uFkIi0wlBciz1wLPmuEGhpxvBstKGwRywrUEGpjvCRxtzQf/VyEFRs61B/12+wMpBHMJkZnBBn78UwU3LM8LEVUXCw2hnwXYIJMHziftB+skYwW/7PsEfxSjCLX0Twg1ckMDyRVFBci2VwUUvyMCWAUfBUeOdQU+faEC+kEdBJfijQHh9EkJDJd7AIEXzwEbKIsL/cdpBk1SxQUy6FMHVwjtBU/B3wU3NlUEyDT7CCbwmwV0zg8F7ADfCE38lwQbCyEFegrfBTgv6wI43JcIUKgnB/8yEQdPF2kE04R3CdooowtNIg8FzPrPB/woBQbQoE8Hm9jzCrSdbwd0NDcHlpBhCD9LgQOVgasHB40BBukswQVCDob+w3d5BqwJBQY3kmb58ZhlCfAEjwj725cBc9gvB6iayv+VmBsEOkjlBaMKKwTDVYEA32MZB9+dAwkwUHkHCUxdB3LK0wYwzn8D5zZPB5vbjQf/G2kFIsCLBQCkewXphu8GemojBrhsZQd18I0FOHKHB3+leQR/NekF7APpA5OpMQeJaKUHLK+hA7egZwQL/B8HqVbrBO53NQS5lxMDVHg5Bbv8VQcBt9cACg9BB0dIBQou9qUEGqR/CbwAzQf+FP0ENN17BQ3uGwOvqOcHEJ0DCio8aQcytt8HzzyHCDO1TwZERLEEOsbNBrXfIQQJALkEG5M7AcLwawhEzIEEpPdBBi8KNwadqEkJYC0LC3q8nQTVSOMHpY8TAY2cBQiP1FUKELNXAeJlRQR8TlkHs4TXC+9YZwZKn6UA+qkPCPo7twEfq5MDNPn/B/e4gQep7PMI9oz1BjptcQUcRTsH9MknBwGw6wmWRF0HWWRhBhfqwwWn4LkFfDxvCVRQmwkrZj0ElsjhB9hUlwkKfjUD178bA1KNCQToEpMB6INFB1RmZwSgOSEGClSPCe787QXeInEHTtMe+wnEGwUqiIcK+oiHBn9KTwVUl0MBwaY1BSekgwvQhPMI6KMBBOSAawp5EBkIfwyzCNHRXQQWWEMIMUa7BdSKvwUk9JcJNW6VBIb+Zwdb+hcE2gYjB5tQ5wul0JcI6PQhCRsRqQYJ7KMJxLp9AM9KXQRGxWUG6tO1Aw81iQWo037+MuhTBEci0wNBGosF9Os1BA1Q1QfA4sMCefpjBGkgXwXOl20HwvoRBai3rwPLeF0Ho+OpA5/YgwiZfw0EwNyDCP1KTQUxhrMFZjxzCFvkCQk4uwEFiipHBsFIWwkVqqUARC19BWyIiQf6wF0J5zRHBE+AVQriE40GfRnXAbWMewkNXicE0ITbCwOaxwQ2JFMHrN53BbZ2JwS2kZUFWdhVBUsEcwmKN20H0eibCEtJZQZQfiEE58IbBBksvweicEsFSdZXBV0yswXDvn8HdAxRBl4SIQOWwL8KqmRxB3pQpQQDSj0GNDDlBo9cuQSc5JMIvCz/CAPIPQvhGkcHWy6lBsm1wQVz1LMINizfChIQnwnkZ+UFgSOXAGuCBQKZnoEC5IwnBgpejv4px3EGD8ZpBrB/+QXxASUGWMe9AX2kZQQqHBEGJtLbB/OmBQTIYCcH514vBcP6GwaoI0UENeh/CBWdoQd0k7MDguGRBTd8kQQmTrcDZR+RBkH7TQRXQK8GHvrhBwOEcwtVfpUG2nj7BP5AFQU09yT+AzcFBJ9fyQdeqDEE3lovB4riiQPlNEMLNlcTBTC4gwlWNj8GpV+VBPBRHwQ2YuD7O8rXAbx0OwaEp4EG00Y5AaS7EwMNssEBi1QzBoLZzwNA9RkGJSx7CCoOEwUZoKML0Vx7CY8OLwIdnccDqQVm/scCzQaAyQUHyPudBH6o3wbi3hsEkfR7CWhd+QUauGMIvxibCQPC8QWa9MUGbeD/BJMrpQao5rMC3fY7BuWfeQVYQJEH1HKHBTZHFwLoPDkGpLzDCQNyYQUB5F8LF5rtA6q0iwmpgpcF+Y5TB3VQ+wrbQxUGiNXhBF1q3wIbMzUFcLCLCU2tDwjLXxUHAIf9B\",\"dtype\":\"float32\",\"shape\":[999]}},\"selected\":{\"id\":\"1047\",\"type\":\"Selection\"},\"selection_policy\":{\"id\":\"1046\",\"type\":\"UnionRenderers\"}},\"id\":\"1004\",\"type\":\"ColumnDataSource\"},{\"attributes\":{},\"id\":\"1028\",\"type\":\"WheelZoomTool\"},{\"attributes\":{},\"id\":\"1029\",\"type\":\"ResetTool\"},{\"attributes\":{\"fill_alpha\":{\"value\":0.1},\"fill_color\":{\"value\":\"#1f77b4\"},\"line_alpha\":{\"value\":0.1},\"line_color\":{\"value\":\"#1f77b4\"},\"line_width\":{\"value\":0.01},\"size\":{\"field\":\"size\",\"units\":\"screen\"},\"x\":{\"field\":\"x\"},\"y\":{\"field\":\"y\"}},\"id\":\"1037\",\"type\":\"Circle\"},{\"attributes\":{\"plot\":null,\"text\":\"20 News Groups\"},\"id\":\"1006\",\"type\":\"Title\"}],\"root_ids\":[\"1040\"]},\"title\":\"Bokeh Application\",\"version\":\"1.0.4\"}};\n",
       "  var render_items = [{\"docid\":\"c83e2dec-2985-4bd3-8c8a-b949fcb82637\",\"roots\":{\"1040\":\"f8fc89ba-99de-4f3b-ae6e-28546e3af4f4\"}}];\n",
       "  root.Bokeh.embed.embed_items_notebook(docs_json, render_items);\n",
       "\n",
       "  }\n",
       "  if (root.Bokeh !== undefined) {\n",
       "    embed_document(root);\n",
       "  } else {\n",
       "    var attempts = 0;\n",
       "    var timer = setInterval(function(root) {\n",
       "      if (root.Bokeh !== undefined) {\n",
       "        embed_document(root);\n",
       "        clearInterval(timer);\n",
       "      }\n",
       "      attempts++;\n",
       "      if (attempts > 100) {\n",
       "        console.log(\"Bokeh: ERROR: Unable to run BokehJS code because BokehJS library is missing\");\n",
       "        clearInterval(timer);\n",
       "      }\n",
       "    }, 10, root)\n",
       "  }\n",
       "})(window);"
      ],
      "application/vnd.bokehjs_exec.v0+json": ""
     },
     "metadata": {
      "application/vnd.bokehjs_exec.v0+json": {
       "id": "1040"
      }
     },
     "output_type": "display_data"
    }
   ],
   "source": [
    "show(layout)"
   ]
  },
  {
   "cell_type": "markdown",
   "metadata": {},
   "source": [
    "# LDA Topics as Word Cloud"
   ]
  },
  {
   "cell_type": "code",
   "execution_count": 80,
   "metadata": {},
   "outputs": [
    {
     "name": "stdout",
     "output_type": "stream",
     "text": [
      "[('i', 0.017049573), ('god', 0.011921607), ('the', 0.01077147), ('write', 0.0047879997), ('he', 0.004449174), ('-pron-', 0.0043893293), ('it', 0.0038834359), ('if', 0.0038281411), ('come', 0.0037052697), ('christian', 0.0036825868)]\n"
     ]
    }
   ],
   "source": [
    "import csv\n",
    "from ast import literal_eval\n",
    "\n",
    "topics = []\n",
    "with open('../backendOutput/topics.csv', 'r') as myfile:\n",
    "    rows = myfile.readlines()\n",
    "    for row in rows:\n",
    "        topics.append(literal_eval(row))"
   ]
  },
  {
   "cell_type": "code",
   "execution_count": 114,
   "metadata": {},
   "outputs": [
    {
     "data": {
      "image/png": "[encoded data removed]",
      "text/plain": [
       "<Figure size 720x720 with 4 Axes>"
      ]
     },
     "metadata": {
      "needs_background": "light"
     },
     "output_type": "display_data"
    }
   ],
   "source": [
    "from matplotlib import pyplot as plt\n",
    "from wordcloud import WordCloud, STOPWORDS\n",
    "import matplotlib.colors as mcolors\n",
    "\n",
    "cols = [color for name, color in mcolors.TABLEAU_COLORS.items()]  # more colors: 'mcolors.XKCD_COLORS'\n",
    "cloud = WordCloud(background_color='white', \n",
    "                  width=2500, \n",
    "                  height=1800, \n",
    "                  max_words=20,\n",
    "                 colormap='tab10',\n",
    "                 color_func=lambda *args, **kwargs: cols[i],\n",
    "                 prefer_horizontal=1.0)\n",
    "\n",
    "fig, axes = plt.subplots(2,2, figsize=(10,10), sharex=True, sharey=True)\n",
    "\n",
    "for i, ax in enumerate(axes.flatten()):\n",
    "    fig.add_subplot(ax)\n",
    "    topic_words = dict(topics[i][1])\n",
    "    cloud.generate_from_frequencies(topic_words, max_font_size=300)\n",
    "    plt.gca().imshow(cloud)\n",
    "    plt.gca().set_title('Topic ' + str(i))\n",
    "    plt.gca().axis('off')\n",
    "    \n",
    "plt.subplots_adjust(wspace=0, hspace=0)\n",
    "plt.axis('off')\n",
    "plt.margins(x=0, y=0)\n",
    "plt.tight_layout()\n",
    "plt.savefig('../frontendOutput/ldamodel-wordcloud.png')\n",
    "plt.show()"
   ]
  },
  {
   "cell_type": "markdown",
   "metadata": {},
   "source": [
    "### LDA Model with pyLDAVis"
   ]
  },
  {
   "cell_type": "code",
   "execution_count": 87,
   "metadata": {},
   "outputs": [],
   "source": [
    "## Not sure how to export/import ldamodel and corpus for this visualization\n",
    "\n",
    "import pyLDAvis\n",
    "import pyLDAvis.gensim\n",
    "\n",
    "pyLDAvis.enable_notebook()\n",
    "a = pyLDAvis.gensim.prepare(topic_model=ldamodel, corpus=bow, dictionary=dictionary)\n",
    "\n",
    "pyLDAvis.save_html(a, \"frontendOutput/ldamodel-pyLDAvis.html\")"
   ]
  },
  {
   "cell_type": "markdown",
   "metadata": {},
   "source": [
    "### K-Means Topic Clustering"
   ]
  },
  {
   "cell_type": "code",
   "execution_count": 96,
   "metadata": {},
   "outputs": [],
   "source": [
    "kmeanslabels = []\n",
    "with open('../backendOutput/kmeansLabels.csv', 'r') as myfile:\n",
    "    rows = myfile.readlines()\n",
    "    for row in rows:\n",
    "        kmeanslabels.append(literal_eval(row))"
   ]
  },
  {
   "cell_type": "code",
   "execution_count": 97,
   "metadata": {},
   "outputs": [],
   "source": [
    "tsne = TSNE(random_state=2017, perplexity=30)\n",
    "tsne_embedding = tsne.fit_transform(kmeanslabels)\n",
    "tsne_embedding = pd.DataFrame(tsne_embedding, columns=['x','y'])\n",
    "tsne_embedding['hue'] = ldamodel_np.argmax(axis=1)"
   ]
  },
  {
   "cell_type": "code",
   "execution_count": 98,
   "metadata": {},
   "outputs": [],
   "source": [
    "source = ColumnDataSource(\n",
    "    data=dict(\n",
    "        x = tsne_embedding.x,\n",
    "        y = tsne_embedding.y,\n",
    "        colors = [all_palettes['Spectral'][10][i] for i in tsne_embedding.hue],\n",
    "\n",
    "        alpha = [0.9] * tsne_embedding.shape[0],\n",
    "        size = [7] * tsne_embedding.shape[0]\n",
    "    )\n",
    ")\n",
    "hover_tsne = HoverTool(names=[\"ldamodel_df\"], tooltips=\"\"\"\n",
    "    <div style=\"margin: 10\">\n",
    "        <div style=\"margin: 0 auto; width:300px;\">\n",
    "            <span style=\"font-size: 12px; font-weight: bold;\">Title:</span>\n",
    "            <span style=\"font-size: 12px\">(Figure out what this would be)</span>\n",
    "        </div>\n",
    "    </div>\n",
    "    \"\"\")\n",
    "                      \n",
    "tools_tsne = [hover_tsne, 'pan', 'wheel_zoom', 'reset']\n",
    "plot_tsne = figure(plot_width=700, plot_height=700, tools=tools_tsne, title=\"20 News Groups\")\n",
    "plot_tsne.circle('x', 'y', size='size', fill_color='colors', \n",
    "                 alpha='alpha', line_alpha=0, line_width=0.01, source=source, name=\"ldamodel_df\")\n",
    "\n",
    "layout = column(plot_tsne)"
   ]
  },
  {
   "cell_type": "code",
   "execution_count": 99,
   "metadata": {},
   "outputs": [
    {
     "data": {
      "text/html": [
       "\n",
       "\n",
       "\n",
       "\n",
       "\n",
       "\n",
       "  <div class=\"bk-root\" id=\"eb3b555d-96cc-4e0b-802d-3c34a7b23982\" data-root-id=\"1126\"></div>\n"
      ]
     },
     "metadata": {},
     "output_type": "display_data"
    },
    {
     "data": {
      "application/javascript": [
       "(function(root) {\n",
       "  function embed_document(root) {\n",
       "    \n",
       "  var docs_json = {\"f821f9ad-71cd-4bb8-9468-f08afdca946f\":{\"roots\":{\"references\":[{\"attributes\":{\"children\":[{\"id\":\"1093\",\"subtype\":\"Figure\",\"type\":\"Plot\"}]},\"id\":\"1126\",\"type\":\"Column\"},{\"attributes\":{\"below\":[{\"id\":\"1103\",\"type\":\"LinearAxis\"}],\"left\":[{\"id\":\"1108\",\"type\":\"LinearAxis\"}],\"plot_height\":700,\"plot_width\":700,\"renderers\":[{\"id\":\"1103\",\"type\":\"LinearAxis\"},{\"id\":\"1107\",\"type\":\"Grid\"},{\"id\":\"1108\",\"type\":\"LinearAxis\"},{\"id\":\"1112\",\"type\":\"Grid\"},{\"id\":\"1124\",\"type\":\"GlyphRenderer\"}],\"title\":{\"id\":\"1092\",\"type\":\"Title\"},\"toolbar\":{\"id\":\"1116\",\"type\":\"Toolbar\"},\"x_range\":{\"id\":\"1095\",\"type\":\"DataRange1d\"},\"x_scale\":{\"id\":\"1099\",\"type\":\"LinearScale\"},\"y_range\":{\"id\":\"1097\",\"type\":\"DataRange1d\"},\"y_scale\":{\"id\":\"1101\",\"type\":\"LinearScale\"}},\"id\":\"1093\",\"subtype\":\"Figure\",\"type\":\"Plot\"},{\"attributes\":{\"callback\":null},\"id\":\"1095\",\"type\":\"DataRange1d\"},{\"attributes\":{},\"id\":\"1137\",\"type\":\"BasicTickFormatter\"},{\"attributes\":{\"active_drag\":\"auto\",\"active_inspect\":\"auto\",\"active_multi\":null,\"active_scroll\":\"auto\",\"active_tap\":\"auto\",\"tools\":[{\"id\":\"1091\",\"type\":\"HoverTool\"},{\"id\":\"1113\",\"type\":\"PanTool\"},{\"id\":\"1114\",\"type\":\"WheelZoomTool\"},{\"id\":\"1115\",\"type\":\"ResetTool\"}]},\"id\":\"1116\",\"type\":\"Toolbar\"},{\"attributes\":{\"plot\":null,\"text\":\"20 News Groups\"},\"id\":\"1092\",\"type\":\"Title\"},{\"attributes\":{\"fill_alpha\":{\"field\":\"alpha\"},\"fill_color\":{\"field\":\"colors\"},\"line_alpha\":{\"value\":0},\"line_color\":{\"value\":\"#1f77b4\"},\"line_width\":{\"value\":0.01},\"size\":{\"field\":\"size\",\"units\":\"screen\"},\"x\":{\"field\":\"x\"},\"y\":{\"field\":\"y\"}},\"id\":\"1122\",\"type\":\"Circle\"},{\"attributes\":{\"source\":{\"id\":\"1090\",\"type\":\"ColumnDataSource\"}},\"id\":\"1125\",\"type\":\"CDSView\"},{\"attributes\":{},\"id\":\"1115\",\"type\":\"ResetTool\"},{\"attributes\":{\"fill_alpha\":{\"value\":0.1},\"fill_color\":{\"value\":\"#1f77b4\"},\"line_alpha\":{\"value\":0.1},\"line_color\":{\"value\":\"#1f77b4\"},\"line_width\":{\"value\":0.01},\"size\":{\"field\":\"size\",\"units\":\"screen\"},\"x\":{\"field\":\"x\"},\"y\":{\"field\":\"y\"}},\"id\":\"1123\",\"type\":\"Circle\"},{\"attributes\":{\"callback\":null,\"names\":[\"ldamodel_df\"],\"tooltips\":\"\\n    <div style=\\\"margin: 10\\\">\\n        <div style=\\\"margin: 0 auto; width:300px;\\\">\\n            <span style=\\\"font-size: 12px; font-weight: bold;\\\">Title:</span>\\n            <span style=\\\"font-size: 12px\\\">(Figure out what this would be)</span>\\n        </div>\\n    </div>\\n    \"},\"id\":\"1091\",\"type\":\"HoverTool\"},{\"attributes\":{\"plot\":{\"id\":\"1093\",\"subtype\":\"Figure\",\"type\":\"Plot\"},\"ticker\":{\"id\":\"1104\",\"type\":\"BasicTicker\"}},\"id\":\"1107\",\"type\":\"Grid\"},{\"attributes\":{},\"id\":\"1114\",\"type\":\"WheelZoomTool\"},{\"attributes\":{\"data_source\":{\"id\":\"1090\",\"type\":\"ColumnDataSource\"},\"glyph\":{\"id\":\"1122\",\"type\":\"Circle\"},\"hover_glyph\":null,\"muted_glyph\":null,\"name\":\"ldamodel_df\",\"nonselection_glyph\":{\"id\":\"1123\",\"type\":\"Circle\"},\"selection_glyph\":null,\"view\":{\"id\":\"1125\",\"type\":\"CDSView\"}},\"id\":\"1124\",\"type\":\"GlyphRenderer\"},{\"attributes\":{\"callback\":null,\"data\":{\"alpha\":[0.9,0.9,0.9,0.9,0.9,0.9,0.9,0.9,0.9,0.9,0.9,0.9,0.9,0.9,0.9,0.9,0.9,0.9,0.9,0.9,0.9,0.9,0.9,0.9,0.9,0.9,0.9,0.9,0.9,0.9,0.9,0.9,0.9,0.9,0.9,0.9,0.9,0.9,0.9,0.9,0.9,0.9,0.9,0.9,0.9,0.9,0.9,0.9,0.9,0.9,0.9,0.9,0.9,0.9,0.9,0.9,0.9,0.9,0.9,0.9,0.9,0.9,0.9,0.9,0.9,0.9,0.9,0.9,0.9,0.9,0.9,0.9,0.9,0.9,0.9,0.9,0.9,0.9,0.9,0.9,0.9,0.9,0.9,0.9,0.9,0.9,0.9,0.9,0.9,0.9,0.9,0.9,0.9,0.9,0.9,0.9,0.9,0.9,0.9,0.9,0.9,0.9,0.9,0.9,0.9,0.9,0.9,0.9,0.9,0.9,0.9,0.9,0.9,0.9,0.9,0.9,0.9,0.9,0.9,0.9,0.9,0.9,0.9,0.9,0.9,0.9,0.9,0.9,0.9,0.9,0.9,0.9,0.9,0.9,0.9,0.9,0.9,0.9,0.9,0.9,0.9,0.9,0.9,0.9,0.9,0.9,0.9,0.9,0.9,0.9,0.9,0.9,0.9,0.9,0.9,0.9,0.9,0.9,0.9,0.9,0.9,0.9,0.9,0.9,0.9,0.9,0.9,0.9,0.9,0.9,0.9,0.9,0.9,0.9,0.9,0.9,0.9,0.9,0.9,0.9,0.9,0.9,0.9,0.9,0.9,0.9,0.9,0.9,0.9,0.9,0.9,0.9,0.9,0.9,0.9,0.9,0.9,0.9,0.9,0.9,0.9,0.9,0.9,0.9,0.9,0.9,0.9,0.9,0.9,0.9,0.9,0.9,0.9,0.9,0.9,0.9,0.9,0.9,0.9,0.9,0.9,0.9,0.9,0.9,0.9,0.9,0.9,0.9,0.9,0.9,0.9,0.9,0.9,0.9,0.9,0.9,0.9,0.9,0.9,0.9,0.9,0.9,0.9,0.9,0.9,0.9,0.9,0.9,0.9,0.9,0.9,0.9,0.9,0.9,0.9,0.9,0.9,0.9,0.9,0.9,0.9,0.9,0.9,0.9,0.9,0.9,0.9,0.9,0.9,0.9,0.9,0.9,0.9,0.9,0.9,0.9,0.9,0.9,0.9,0.9,0.9,0.9,0.9,0.9,0.9,0.9,0.9,0.9,0.9,0.9,0.9,0.9,0.9,0.9,0.9,0.9,0.9,0.9,0.9,0.9,0.9,0.9,0.9,0.9,0.9,0.9,0.9,0.9,0.9,0.9,0.9,0.9,0.9,0.9,0.9,0.9,0.9,0.9,0.9,0.9,0.9,0.9,0.9,0.9,0.9,0.9,0.9,0.9,0.9,0.9,0.9,0.9,0.9,0.9,0.9,0.9,0.9,0.9,0.9,0.9,0.9,0.9,0.9,0.9,0.9,0.9,0.9,0.9,0.9,0.9,0.9,0.9,0.9,0.9,0.9,0.9,0.9,0.9,0.9,0.9,0.9,0.9,0.9,0.9,0.9,0.9,0.9,0.9,0.9,0.9,0.9,0.9,0.9,0.9,0.9,0.9,0.9,0.9,0.9,0.9,0.9,0.9,0.9,0.9,0.9,0.9,0.9,0.9,0.9,0.9,0.9,0.9,0.9,0.9,0.9,0.9,0.9,0.9,0.9,0.9,0.9,0.9,0.9,0.9,0.9,0.9,0.9,0.9,0.9,0.9,0.9,0.9,0.9,0.9,0.9,0.9,0.9,0.9,0.9,0.9,0.9,0.9,0.9,0.9,0.9,0.9,0.9,0.9,0.9,0.9,0.9,0.9,0.9,0.9,0.9,0.9,0.9,0.9,0.9,0.9,0.9,0.9,0.9,0.9,0.9,0.9,0.9,0.9,0.9,0.9,0.9,0.9,0.9,0.9,0.9,0.9,0.9,0.9,0.9,0.9,0.9,0.9,0.9,0.9,0.9,0.9,0.9,0.9,0.9,0.9,0.9,0.9,0.9,0.9,0.9,0.9,0.9,0.9,0.9,0.9,0.9,0.9,0.9,0.9,0.9,0.9,0.9,0.9,0.9,0.9,0.9,0.9,0.9,0.9,0.9,0.9,0.9,0.9,0.9,0.9,0.9,0.9,0.9,0.9,0.9,0.9,0.9,0.9,0.9,0.9,0.9,0.9,0.9,0.9,0.9,0.9,0.9,0.9,0.9,0.9,0.9,0.9,0.9,0.9,0.9,0.9,0.9,0.9,0.9,0.9,0.9,0.9,0.9,0.9,0.9,0.9,0.9,0.9,0.9,0.9,0.9,0.9,0.9,0.9,0.9,0.9,0.9,0.9,0.9,0.9,0.9,0.9,0.9,0.9,0.9,0.9,0.9,0.9,0.9,0.9,0.9,0.9,0.9,0.9,0.9,0.9,0.9,0.9,0.9,0.9,0.9,0.9,0.9,0.9,0.9,0.9,0.9,0.9,0.9,0.9,0.9,0.9,0.9,0.9,0.9,0.9,0.9,0.9,0.9,0.9,0.9,0.9,0.9,0.9,0.9,0.9,0.9,0.9,0.9,0.9,0.9,0.9,0.9,0.9,0.9,0.9,0.9,0.9,0.9,0.9,0.9,0.9,0.9,0.9,0.9,0.9,0.9,0.9,0.9,0.9,0.9,0.9,0.9,0.9,0.9,0.9,0.9,0.9,0.9,0.9,0.9,0.9,0.9,0.9,0.9,0.9,0.9,0.9,0.9,0.9,0.9,0.9,0.9,0.9,0.9,0.9,0.9,0.9,0.9,0.9,0.9,0.9,0.9,0.9,0.9,0.9,0.9,0.9,0.9,0.9,0.9,0.9,0.9,0.9,0.9,0.9,0.9,0.9,0.9,0.9,0.9,0.9,0.9,0.9,0.9,0.9,0.9,0.9,0.9,0.9,0.9,0.9,0.9,0.9,0.9,0.9,0.9,0.9,0.9,0.9,0.9,0.9,0.9,0.9,0.9,0.9,0.9,0.9,0.9,0.9,0.9,0.9,0.9,0.9,0.9,0.9,0.9,0.9,0.9,0.9,0.9,0.9,0.9,0.9,0.9,0.9,0.9,0.9,0.9,0.9,0.9,0.9,0.9,0.9,0.9,0.9,0.9,0.9,0.9,0.9,0.9,0.9,0.9,0.9,0.9,0.9,0.9,0.9,0.9,0.9,0.9,0.9,0.9,0.9,0.9,0.9,0.9,0.9,0.9,0.9,0.9,0.9,0.9,0.9,0.9,0.9,0.9,0.9,0.9,0.9,0.9,0.9,0.9,0.9,0.9,0.9,0.9,0.9,0.9,0.9,0.9,0.9,0.9,0.9,0.9,0.9,0.9,0.9,0.9,0.9,0.9,0.9,0.9,0.9,0.9,0.9,0.9,0.9,0.9,0.9,0.9,0.9,0.9,0.9,0.9,0.9,0.9,0.9,0.9,0.9,0.9,0.9,0.9,0.9,0.9,0.9,0.9,0.9,0.9,0.9,0.9,0.9,0.9,0.9,0.9,0.9,0.9,0.9,0.9,0.9,0.9,0.9,0.9,0.9,0.9,0.9,0.9,0.9,0.9,0.9,0.9,0.9,0.9,0.9,0.9,0.9,0.9,0.9,0.9,0.9,0.9,0.9,0.9,0.9,0.9,0.9,0.9,0.9,0.9,0.9,0.9,0.9,0.9,0.9,0.9,0.9,0.9,0.9,0.9,0.9,0.9,0.9,0.9,0.9,0.9,0.9,0.9,0.9,0.9,0.9,0.9,0.9,0.9,0.9,0.9,0.9,0.9,0.9,0.9,0.9,0.9,0.9,0.9,0.9,0.9,0.9,0.9,0.9,0.9,0.9,0.9,0.9,0.9,0.9,0.9,0.9,0.9,0.9,0.9,0.9,0.9,0.9,0.9,0.9,0.9,0.9,0.9,0.9,0.9,0.9,0.9,0.9,0.9,0.9,0.9,0.9,0.9,0.9,0.9,0.9,0.9,0.9,0.9,0.9,0.9,0.9,0.9,0.9,0.9,0.9,0.9,0.9,0.9,0.9,0.9,0.9,0.9,0.9,0.9,0.9,0.9,0.9,0.9,0.9,0.9,0.9,0.9,0.9,0.9,0.9,0.9,0.9,0.9,0.9,0.9,0.9,0.9,0.9,0.9,0.9,0.9,0.9,0.9,0.9,0.9,0.9,0.9,0.9,0.9,0.9,0.9,0.9,0.9,0.9,0.9,0.9,0.9,0.9,0.9,0.9,0.9,0.9,0.9,0.9,0.9,0.9,0.9,0.9,0.9,0.9,0.9,0.9,0.9,0.9,0.9,0.9,0.9,0.9,0.9],\"colors\":[\"#9e0142\",\"#fee08b\",\"#66c2a5\",\"#9e0142\",\"#abdda4\",\"#9e0142\",\"#66c2a5\",\"#66c2a5\",\"#66c2a5\",\"#e6f598\",\"#f46d43\",\"#fdae61\",\"#e6f598\",\"#d53e4f\",\"#66c2a5\",\"#5e4fa2\",\"#fee08b\",\"#3288bd\",\"#fee08b\",\"#f46d43\",\"#e6f598\",\"#66c2a5\",\"#5e4fa2\",\"#d53e4f\",\"#66c2a5\",\"#fee08b\",\"#66c2a5\",\"#66c2a5\",\"#e6f598\",\"#f46d43\",\"#d53e4f\",\"#abdda4\",\"#fee08b\",\"#fee08b\",\"#fee08b\",\"#fee08b\",\"#fdae61\",\"#3288bd\",\"#abdda4\",\"#66c2a5\",\"#fee08b\",\"#fdae61\",\"#fee08b\",\"#f46d43\",\"#66c2a5\",\"#9e0142\",\"#fee08b\",\"#d53e4f\",\"#66c2a5\",\"#66c2a5\",\"#66c2a5\",\"#66c2a5\",\"#fee08b\",\"#f46d43\",\"#fee08b\",\"#fee08b\",\"#e6f598\",\"#d53e4f\",\"#d53e4f\",\"#66c2a5\",\"#5e4fa2\",\"#66c2a5\",\"#fee08b\",\"#d53e4f\",\"#fee08b\",\"#5e4fa2\",\"#fee08b\",\"#66c2a5\",\"#fee08b\",\"#fee08b\",\"#f46d43\",\"#66c2a5\",\"#66c2a5\",\"#fee08b\",\"#fdae61\",\"#e6f598\",\"#f46d43\",\"#fee08b\",\"#5e4fa2\",\"#fee08b\",\"#66c2a5\",\"#fee08b\",\"#fee08b\",\"#d53e4f\",\"#5e4fa2\",\"#d53e4f\",\"#fee08b\",\"#abdda4\",\"#f46d43\",\"#e6f598\",\"#66c2a5\",\"#fee08b\",\"#d53e4f\",\"#fee08b\",\"#fee08b\",\"#3288bd\",\"#9e0142\",\"#e6f598\",\"#e6f598\",\"#abdda4\",\"#fee08b\",\"#fee08b\",\"#9e0142\",\"#abdda4\",\"#66c2a5\",\"#5e4fa2\",\"#3288bd\",\"#abdda4\",\"#9e0142\",\"#f46d43\",\"#fee08b\",\"#e6f598\",\"#fdae61\",\"#f46d43\",\"#e6f598\",\"#e6f598\",\"#fee08b\",\"#fee08b\",\"#fee08b\",\"#3288bd\",\"#fee08b\",\"#d53e4f\",\"#f46d43\",\"#66c2a5\",\"#9e0142\",\"#5e4fa2\",\"#66c2a5\",\"#3288bd\",\"#fee08b\",\"#66c2a5\",\"#d53e4f\",\"#fee08b\",\"#e6f598\",\"#abdda4\",\"#66c2a5\",\"#abdda4\",\"#5e4fa2\",\"#fee08b\",\"#d53e4f\",\"#9e0142\",\"#fee08b\",\"#66c2a5\",\"#fee08b\",\"#abdda4\",\"#66c2a5\",\"#e6f598\",\"#d53e4f\",\"#fdae61\",\"#66c2a5\",\"#9e0142\",\"#66c2a5\",\"#9e0142\",\"#5e4fa2\",\"#fee08b\",\"#abdda4\",\"#fee08b\",\"#fdae61\",\"#fee08b\",\"#d53e4f\",\"#66c2a5\",\"#d53e4f\",\"#abdda4\",\"#5e4fa2\",\"#fee08b\",\"#fee08b\",\"#f46d43\",\"#fdae61\",\"#d53e4f\",\"#fee08b\",\"#fdae61\",\"#abdda4\",\"#f46d43\",\"#fdae61\",\"#5e4fa2\",\"#9e0142\",\"#e6f598\",\"#66c2a5\",\"#5e4fa2\",\"#9e0142\",\"#f46d43\",\"#fdae61\",\"#3288bd\",\"#abdda4\",\"#f46d43\",\"#d53e4f\",\"#abdda4\",\"#9e0142\",\"#e6f598\",\"#9e0142\",\"#abdda4\",\"#66c2a5\",\"#f46d43\",\"#e6f598\",\"#f46d43\",\"#abdda4\",\"#fee08b\",\"#e6f598\",\"#66c2a5\",\"#fdae61\",\"#f46d43\",\"#9e0142\",\"#66c2a5\",\"#e6f598\",\"#d53e4f\",\"#d53e4f\",\"#66c2a5\",\"#e6f598\",\"#fdae61\",\"#fee08b\",\"#f46d43\",\"#fee08b\",\"#9e0142\",\"#e6f598\",\"#66c2a5\",\"#9e0142\",\"#fee08b\",\"#5e4fa2\",\"#e6f598\",\"#fee08b\",\"#e6f598\",\"#d53e4f\",\"#fee08b\",\"#abdda4\",\"#66c2a5\",\"#fee08b\",\"#d53e4f\",\"#5e4fa2\",\"#fdae61\",\"#66c2a5\",\"#fee08b\",\"#e6f598\",\"#f46d43\",\"#d53e4f\",\"#3288bd\",\"#66c2a5\",\"#3288bd\",\"#f46d43\",\"#fee08b\",\"#fee08b\",\"#66c2a5\",\"#5e4fa2\",\"#66c2a5\",\"#66c2a5\",\"#d53e4f\",\"#f46d43\",\"#5e4fa2\",\"#3288bd\",\"#fee08b\",\"#e6f598\",\"#fdae61\",\"#e6f598\",\"#3288bd\",\"#fee08b\",\"#abdda4\",\"#66c2a5\",\"#9e0142\",\"#5e4fa2\",\"#fee08b\",\"#3288bd\",\"#66c2a5\",\"#66c2a5\",\"#e6f598\",\"#fee08b\",\"#fee08b\",\"#fee08b\",\"#fdae61\",\"#f46d43\",\"#e6f598\",\"#fdae61\",\"#d53e4f\",\"#abdda4\",\"#e6f598\",\"#fdae61\",\"#5e4fa2\",\"#66c2a5\",\"#66c2a5\",\"#fee08b\",\"#e6f598\",\"#9e0142\",\"#f46d43\",\"#f46d43\",\"#fee08b\",\"#fee08b\",\"#abdda4\",\"#d53e4f\",\"#fee08b\",\"#fee08b\",\"#f46d43\",\"#9e0142\",\"#abdda4\",\"#f46d43\",\"#3288bd\",\"#3288bd\",\"#fdae61\",\"#66c2a5\",\"#e6f598\",\"#fee08b\",\"#f46d43\",\"#fdae61\",\"#66c2a5\",\"#fee08b\",\"#d53e4f\",\"#9e0142\",\"#f46d43\",\"#9e0142\",\"#fee08b\",\"#d53e4f\",\"#66c2a5\",\"#66c2a5\",\"#fee08b\",\"#66c2a5\",\"#fee08b\",\"#fee08b\",\"#66c2a5\",\"#9e0142\",\"#e6f598\",\"#fee08b\",\"#5e4fa2\",\"#f46d43\",\"#e6f598\",\"#3288bd\",\"#66c2a5\",\"#f46d43\",\"#5e4fa2\",\"#3288bd\",\"#fee08b\",\"#fdae61\",\"#fee08b\",\"#fdae61\",\"#fee08b\",\"#e6f598\",\"#5e4fa2\",\"#e6f598\",\"#fee08b\",\"#abdda4\",\"#f46d43\",\"#fee08b\",\"#66c2a5\",\"#fee08b\",\"#66c2a5\",\"#e6f598\",\"#fee08b\",\"#fee08b\",\"#66c2a5\",\"#f46d43\",\"#66c2a5\",\"#f46d43\",\"#abdda4\",\"#3288bd\",\"#66c2a5\",\"#5e4fa2\",\"#66c2a5\",\"#fee08b\",\"#3288bd\",\"#fee08b\",\"#fdae61\",\"#fee08b\",\"#fee08b\",\"#e6f598\",\"#f46d43\",\"#fdae61\",\"#66c2a5\",\"#fdae61\",\"#66c2a5\",\"#5e4fa2\",\"#66c2a5\",\"#e6f598\",\"#9e0142\",\"#d53e4f\",\"#66c2a5\",\"#fdae61\",\"#d53e4f\",\"#fee08b\",\"#d53e4f\",\"#fee08b\",\"#66c2a5\",\"#f46d43\",\"#66c2a5\",\"#66c2a5\",\"#f46d43\",\"#66c2a5\",\"#e6f598\",\"#3288bd\",\"#e6f598\",\"#fee08b\",\"#fee08b\",\"#abdda4\",\"#abdda4\",\"#3288bd\",\"#9e0142\",\"#e6f598\",\"#3288bd\",\"#66c2a5\",\"#66c2a5\",\"#9e0142\",\"#f46d43\",\"#abdda4\",\"#d53e4f\",\"#fee08b\",\"#f46d43\",\"#fee08b\",\"#f46d43\",\"#abdda4\",\"#3288bd\",\"#abdda4\",\"#66c2a5\",\"#5e4fa2\",\"#f46d43\",\"#66c2a5\",\"#fee08b\",\"#f46d43\",\"#fee08b\",\"#e6f598\",\"#5e4fa2\",\"#abdda4\",\"#e6f598\",\"#e6f598\",\"#66c2a5\",\"#66c2a5\",\"#fee08b\",\"#fdae61\",\"#5e4fa2\",\"#d53e4f\",\"#fee08b\",\"#f46d43\",\"#fee08b\",\"#66c2a5\",\"#fee08b\",\"#f46d43\",\"#66c2a5\",\"#fee08b\",\"#e6f598\",\"#f46d43\",\"#d53e4f\",\"#66c2a5\",\"#5e4fa2\",\"#f46d43\",\"#5e4fa2\",\"#fee08b\",\"#e6f598\",\"#fee08b\",\"#9e0142\",\"#fee08b\",\"#e6f598\",\"#fee08b\",\"#f46d43\",\"#66c2a5\",\"#9e0142\",\"#66c2a5\",\"#fee08b\",\"#fee08b\",\"#e6f598\",\"#66c2a5\",\"#3288bd\",\"#d53e4f\",\"#e6f598\",\"#abdda4\",\"#d53e4f\",\"#9e0142\",\"#fee08b\",\"#fee08b\",\"#f46d43\",\"#fee08b\",\"#3288bd\",\"#e6f598\",\"#9e0142\",\"#e6f598\",\"#fdae61\",\"#f46d43\",\"#e6f598\",\"#e6f598\",\"#66c2a5\",\"#9e0142\",\"#e6f598\",\"#66c2a5\",\"#f46d43\",\"#d53e4f\",\"#5e4fa2\",\"#66c2a5\",\"#66c2a5\",\"#fdae61\",\"#66c2a5\",\"#5e4fa2\",\"#66c2a5\",\"#66c2a5\",\"#9e0142\",\"#fee08b\",\"#fee08b\",\"#d53e4f\",\"#66c2a5\",\"#fee08b\",\"#f46d43\",\"#abdda4\",\"#66c2a5\",\"#e6f598\",\"#f46d43\",\"#f46d43\",\"#9e0142\",\"#fdae61\",\"#9e0142\",\"#66c2a5\",\"#f46d43\",\"#e6f598\",\"#3288bd\",\"#abdda4\",\"#fdae61\",\"#fee08b\",\"#66c2a5\",\"#fee08b\",\"#f46d43\",\"#e6f598\",\"#f46d43\",\"#fdae61\",\"#3288bd\",\"#d53e4f\",\"#fee08b\",\"#5e4fa2\",\"#fee08b\",\"#fee08b\",\"#e6f598\",\"#66c2a5\",\"#66c2a5\",\"#66c2a5\",\"#9e0142\",\"#66c2a5\",\"#f46d43\",\"#abdda4\",\"#f46d43\",\"#e6f598\",\"#3288bd\",\"#3288bd\",\"#abdda4\",\"#fee08b\",\"#fee08b\",\"#5e4fa2\",\"#e6f598\",\"#3288bd\",\"#fee08b\",\"#d53e4f\",\"#fee08b\",\"#fee08b\",\"#fdae61\",\"#abdda4\",\"#66c2a5\",\"#d53e4f\",\"#3288bd\",\"#9e0142\",\"#f46d43\",\"#fee08b\",\"#f46d43\",\"#fee08b\",\"#abdda4\",\"#f46d43\",\"#f46d43\",\"#66c2a5\",\"#fee08b\",\"#5e4fa2\",\"#e6f598\",\"#66c2a5\",\"#d53e4f\",\"#f46d43\",\"#fee08b\",\"#5e4fa2\",\"#fee08b\",\"#66c2a5\",\"#5e4fa2\",\"#e6f598\",\"#9e0142\",\"#3288bd\",\"#e6f598\",\"#f46d43\",\"#9e0142\",\"#5e4fa2\",\"#e6f598\",\"#abdda4\",\"#fee08b\",\"#e6f598\",\"#fee08b\",\"#abdda4\",\"#3288bd\",\"#3288bd\",\"#f46d43\",\"#e6f598\",\"#fee08b\",\"#fee08b\",\"#e6f598\",\"#e6f598\",\"#f46d43\",\"#f46d43\",\"#fee08b\",\"#fdae61\",\"#fee08b\",\"#5e4fa2\",\"#66c2a5\",\"#d53e4f\",\"#e6f598\",\"#9e0142\",\"#d53e4f\",\"#fdae61\",\"#5e4fa2\",\"#5e4fa2\",\"#66c2a5\",\"#fee08b\",\"#66c2a5\",\"#d53e4f\",\"#5e4fa2\",\"#e6f598\",\"#3288bd\",\"#e6f598\",\"#66c2a5\",\"#fee08b\",\"#f46d43\",\"#fee08b\",\"#5e4fa2\",\"#fee08b\",\"#fee08b\",\"#f46d43\",\"#f46d43\",\"#fdae61\",\"#d53e4f\",\"#f46d43\",\"#abdda4\",\"#fee08b\",\"#9e0142\",\"#e6f598\",\"#fee08b\",\"#e6f598\",\"#3288bd\",\"#fee08b\",\"#5e4fa2\",\"#fee08b\",\"#abdda4\",\"#fee08b\",\"#e6f598\",\"#fdae61\",\"#fee08b\",\"#e6f598\",\"#5e4fa2\",\"#5e4fa2\",\"#f46d43\",\"#e6f598\",\"#fee08b\",\"#f46d43\",\"#f46d43\",\"#5e4fa2\",\"#fdae61\",\"#d53e4f\",\"#fee08b\",\"#f46d43\",\"#e6f598\",\"#e6f598\",\"#fee08b\",\"#fee08b\",\"#9e0142\",\"#66c2a5\",\"#fee08b\",\"#d53e4f\",\"#e6f598\",\"#fdae61\",\"#fee08b\",\"#fee08b\",\"#e6f598\",\"#fee08b\",\"#f46d43\",\"#fee08b\",\"#5e4fa2\",\"#f46d43\",\"#3288bd\",\"#5e4fa2\",\"#e6f598\",\"#abdda4\",\"#f46d43\",\"#e6f598\",\"#fdae61\",\"#e6f598\",\"#fee08b\",\"#fee08b\",\"#fdae61\",\"#5e4fa2\",\"#3288bd\",\"#f46d43\",\"#fee08b\",\"#e6f598\",\"#5e4fa2\",\"#3288bd\",\"#e6f598\",\"#fee08b\",\"#fee08b\",\"#3288bd\",\"#fee08b\",\"#9e0142\",\"#e6f598\",\"#abdda4\",\"#fee08b\",\"#fee08b\",\"#fee08b\",\"#fdae61\",\"#d53e4f\",\"#e6f598\",\"#e6f598\",\"#e6f598\",\"#66c2a5\",\"#f46d43\",\"#fdae61\",\"#fee08b\",\"#5e4fa2\",\"#66c2a5\",\"#66c2a5\",\"#f46d43\",\"#d53e4f\",\"#f46d43\",\"#abdda4\",\"#fee08b\",\"#e6f598\",\"#f46d43\",\"#f46d43\",\"#3288bd\",\"#66c2a5\",\"#9e0142\",\"#f46d43\",\"#66c2a5\",\"#fee08b\",\"#9e0142\",\"#9e0142\",\"#66c2a5\",\"#fee08b\",\"#e6f598\",\"#e6f598\",\"#f46d43\",\"#fee08b\",\"#d53e4f\",\"#9e0142\",\"#9e0142\",\"#e6f598\",\"#abdda4\",\"#fee08b\",\"#fee08b\",\"#fdae61\",\"#fee08b\",\"#9e0142\",\"#f46d43\",\"#d53e4f\",\"#f46d43\",\"#5e4fa2\",\"#fee08b\",\"#f46d43\",\"#fdae61\",\"#3288bd\",\"#66c2a5\",\"#fee08b\",\"#fee08b\",\"#66c2a5\",\"#d53e4f\",\"#5e4fa2\",\"#66c2a5\",\"#abdda4\",\"#3288bd\",\"#fee08b\",\"#5e4fa2\",\"#9e0142\",\"#e6f598\",\"#d53e4f\",\"#fee08b\",\"#fee08b\",\"#d53e4f\",\"#fee08b\",\"#abdda4\",\"#5e4fa2\",\"#e6f598\",\"#66c2a5\",\"#5e4fa2\",\"#e6f598\",\"#fee08b\",\"#3288bd\",\"#66c2a5\",\"#5e4fa2\",\"#66c2a5\",\"#fee08b\",\"#3288bd\",\"#3288bd\",\"#5e4fa2\",\"#66c2a5\",\"#66c2a5\",\"#f46d43\",\"#9e0142\",\"#fdae61\",\"#fdae61\",\"#fee08b\",\"#9e0142\",\"#fdae61\",\"#fee08b\",\"#d53e4f\",\"#9e0142\",\"#d53e4f\",\"#fee08b\",\"#f46d43\",\"#fee08b\",\"#fdae61\",\"#fee08b\",\"#fee08b\",\"#fee08b\",\"#e6f598\",\"#fdae61\",\"#f46d43\",\"#f46d43\",\"#d53e4f\",\"#fee08b\",\"#fdae61\",\"#5e4fa2\",\"#fee08b\",\"#f46d43\",\"#fee08b\",\"#5e4fa2\",\"#fee08b\",\"#fdae61\",\"#f46d43\",\"#f46d43\",\"#fdae61\",\"#fee08b\",\"#f46d43\",\"#f46d43\",\"#3288bd\",\"#5e4fa2\",\"#5e4fa2\",\"#fee08b\",\"#fee08b\",\"#fdae61\",\"#fee08b\",\"#fee08b\",\"#fee08b\",\"#66c2a5\",\"#fee08b\",\"#e6f598\",\"#e6f598\",\"#e6f598\",\"#f46d43\",\"#fee08b\",\"#66c2a5\",\"#d53e4f\",\"#f46d43\",\"#e6f598\",\"#fee08b\",\"#fee08b\",\"#fee08b\",\"#9e0142\",\"#fee08b\",\"#fdae61\",\"#fee08b\",\"#fdae61\",\"#fee08b\",\"#f46d43\",\"#fdae61\",\"#fee08b\",\"#abdda4\",\"#f46d43\",\"#fdae61\",\"#fee08b\",\"#fee08b\",\"#9e0142\",\"#fee08b\",\"#f46d43\",\"#fee08b\",\"#fee08b\",\"#e6f598\",\"#fdae61\",\"#f46d43\",\"#5e4fa2\",\"#f46d43\",\"#e6f598\",\"#f46d43\",\"#3288bd\",\"#fee08b\",\"#fee08b\",\"#fdae61\",\"#fee08b\",\"#fdae61\",\"#fee08b\",\"#fee08b\",\"#f46d43\",\"#e6f598\",\"#e6f598\",\"#f46d43\",\"#f46d43\",\"#f46d43\",\"#9e0142\",\"#fdae61\",\"#5e4fa2\",\"#fee08b\",\"#66c2a5\",\"#fee08b\",\"#66c2a5\",\"#fee08b\",\"#fdae61\",\"#5e4fa2\",\"#fee08b\",\"#f46d43\",\"#fee08b\",\"#fee08b\",\"#5e4fa2\",\"#5e4fa2\",\"#5e4fa2\",\"#fee08b\",\"#e6f598\",\"#66c2a5\",\"#fee08b\",\"#e6f598\",\"#e6f598\",\"#abdda4\",\"#fee08b\",\"#fee08b\",\"#fee08b\",\"#fee08b\",\"#9e0142\",\"#fee08b\",\"#f46d43\",\"#fee08b\",\"#e6f598\",\"#3288bd\",\"#3288bd\",\"#abdda4\",\"#fdae61\",\"#fee08b\",\"#fee08b\",\"#fee08b\",\"#9e0142\",\"#e6f598\",\"#abdda4\",\"#fee08b\",\"#e6f598\",\"#fee08b\",\"#5e4fa2\",\"#fee08b\",\"#f46d43\",\"#fee08b\",\"#fee08b\",\"#abdda4\",\"#fee08b\",\"#fee08b\",\"#3288bd\",\"#fee08b\",\"#fdae61\",\"#f46d43\",\"#fdae61\",\"#f46d43\",\"#abdda4\",\"#e6f598\",\"#fee08b\",\"#d53e4f\",\"#e6f598\",\"#abdda4\",\"#fdae61\",\"#e6f598\",\"#fee08b\",\"#e6f598\",\"#e6f598\",\"#66c2a5\",\"#fdae61\",\"#3288bd\",\"#fdae61\",\"#fdae61\",\"#d53e4f\",\"#e6f598\",\"#fee08b\",\"#abdda4\",\"#9e0142\",\"#fee08b\",\"#f46d43\",\"#3288bd\",\"#fdae61\",\"#fee08b\",\"#fdae61\",\"#5e4fa2\",\"#e6f598\",\"#66c2a5\",\"#e6f598\",\"#fee08b\",\"#d53e4f\",\"#3288bd\",\"#abdda4\",\"#fee08b\",\"#f46d43\",\"#d53e4f\",\"#9e0142\",\"#5e4fa2\",\"#fee08b\",\"#fdae61\",\"#fee08b\",\"#fdae61\",\"#f46d43\",\"#f46d43\",\"#5e4fa2\",\"#fee08b\",\"#fee08b\",\"#d53e4f\",\"#fee08b\",\"#fdae61\",\"#5e4fa2\",\"#fee08b\",\"#fee08b\"],\"size\":[7,7,7,7,7,7,7,7,7,7,7,7,7,7,7,7,7,7,7,7,7,7,7,7,7,7,7,7,7,7,7,7,7,7,7,7,7,7,7,7,7,7,7,7,7,7,7,7,7,7,7,7,7,7,7,7,7,7,7,7,7,7,7,7,7,7,7,7,7,7,7,7,7,7,7,7,7,7,7,7,7,7,7,7,7,7,7,7,7,7,7,7,7,7,7,7,7,7,7,7,7,7,7,7,7,7,7,7,7,7,7,7,7,7,7,7,7,7,7,7,7,7,7,7,7,7,7,7,7,7,7,7,7,7,7,7,7,7,7,7,7,7,7,7,7,7,7,7,7,7,7,7,7,7,7,7,7,7,7,7,7,7,7,7,7,7,7,7,7,7,7,7,7,7,7,7,7,7,7,7,7,7,7,7,7,7,7,7,7,7,7,7,7,7,7,7,7,7,7,7,7,7,7,7,7,7,7,7,7,7,7,7,7,7,7,7,7,7,7,7,7,7,7,7,7,7,7,7,7,7,7,7,7,7,7,7,7,7,7,7,7,7,7,7,7,7,7,7,7,7,7,7,7,7,7,7,7,7,7,7,7,7,7,7,7,7,7,7,7,7,7,7,7,7,7,7,7,7,7,7,7,7,7,7,7,7,7,7,7,7,7,7,7,7,7,7,7,7,7,7,7,7,7,7,7,7,7,7,7,7,7,7,7,7,7,7,7,7,7,7,7,7,7,7,7,7,7,7,7,7,7,7,7,7,7,7,7,7,7,7,7,7,7,7,7,7,7,7,7,7,7,7,7,7,7,7,7,7,7,7,7,7,7,7,7,7,7,7,7,7,7,7,7,7,7,7,7,7,7,7,7,7,7,7,7,7,7,7,7,7,7,7,7,7,7,7,7,7,7,7,7,7,7,7,7,7,7,7,7,7,7,7,7,7,7,7,7,7,7,7,7,7,7,7,7,7,7,7,7,7,7,7,7,7,7,7,7,7,7,7,7,7,7,7,7,7,7,7,7,7,7,7,7,7,7,7,7,7,7,7,7,7,7,7,7,7,7,7,7,7,7,7,7,7,7,7,7,7,7,7,7,7,7,7,7,7,7,7,7,7,7,7,7,7,7,7,7,7,7,7,7,7,7,7,7,7,7,7,7,7,7,7,7,7,7,7,7,7,7,7,7,7,7,7,7,7,7,7,7,7,7,7,7,7,7,7,7,7,7,7,7,7,7,7,7,7,7,7,7,7,7,7,7,7,7,7,7,7,7,7,7,7,7,7,7,7,7,7,7,7,7,7,7,7,7,7,7,7,7,7,7,7,7,7,7,7,7,7,7,7,7,7,7,7,7,7,7,7,7,7,7,7,7,7,7,7,7,7,7,7,7,7,7,7,7,7,7,7,7,7,7,7,7,7,7,7,7,7,7,7,7,7,7,7,7,7,7,7,7,7,7,7,7,7,7,7,7,7,7,7,7,7,7,7,7,7,7,7,7,7,7,7,7,7,7,7,7,7,7,7,7,7,7,7,7,7,7,7,7,7,7,7,7,7,7,7,7,7,7,7,7,7,7,7,7,7,7,7,7,7,7,7,7,7,7,7,7,7,7,7,7,7,7,7,7,7,7,7,7,7,7,7,7,7,7,7,7,7,7,7,7,7,7,7,7,7,7,7,7,7,7,7,7,7,7,7,7,7,7,7,7,7,7,7,7,7,7,7,7,7,7,7,7,7,7,7,7,7,7,7,7,7,7,7,7,7,7,7,7,7,7,7,7,7,7,7,7,7,7,7,7,7,7,7,7,7,7,7,7,7,7,7,7,7,7,7,7,7,7,7,7,7,7,7,7,7,7,7,7,7,7,7,7,7,7,7,7,7,7,7,7,7,7,7,7,7,7,7,7,7,7,7,7,7,7,7,7,7,7,7,7,7,7,7,7,7,7,7,7,7,7,7,7,7,7,7,7,7,7,7,7,7,7,7,7,7,7,7,7,7,7,7,7,7,7,7,7,7,7,7,7,7,7,7,7,7,7,7,7,7,7,7,7,7,7,7,7,7,7,7,7,7,7,7,7,7,7,7,7,7,7,7,7,7,7,7,7,7,7,7,7,7,7,7,7,7,7,7,7,7,7,7,7,7,7,7,7,7,7,7,7,7,7,7,7,7,7,7,7,7,7,7,7,7,7,7,7,7,7,7,7,7,7,7,7,7,7,7,7,7,7,7,7,7,7,7,7,7,7,7,7,7,7,7,7,7,7,7,7],\"x\":{\"__ndarray__\":\"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\",\"dtype\":\"float32\",\"shape\":[999]},\"y\":{\"__ndarray__\":\"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\",\"dtype\":\"float32\",\"shape\":[999]}},\"selected\":{\"id\":\"1140\",\"type\":\"Selection\"},\"selection_policy\":{\"id\":\"1139\",\"type\":\"UnionRenderers\"}},\"id\":\"1090\",\"type\":\"ColumnDataSource\"},{\"attributes\":{},\"id\":\"1109\",\"type\":\"BasicTicker\"},{\"attributes\":{},\"id\":\"1139\",\"type\":\"UnionRenderers\"},{\"attributes\":{\"callback\":null},\"id\":\"1097\",\"type\":\"DataRange1d\"},{\"attributes\":{},\"id\":\"1140\",\"type\":\"Selection\"},{\"attributes\":{},\"id\":\"1135\",\"type\":\"BasicTickFormatter\"},{\"attributes\":{\"formatter\":{\"id\":\"1137\",\"type\":\"BasicTickFormatter\"},\"plot\":{\"id\":\"1093\",\"subtype\":\"Figure\",\"type\":\"Plot\"},\"ticker\":{\"id\":\"1109\",\"type\":\"BasicTicker\"}},\"id\":\"1108\",\"type\":\"LinearAxis\"},{\"attributes\":{},\"id\":\"1099\",\"type\":\"LinearScale\"},{\"attributes\":{\"formatter\":{\"id\":\"1135\",\"type\":\"BasicTickFormatter\"},\"plot\":{\"id\":\"1093\",\"subtype\":\"Figure\",\"type\":\"Plot\"},\"ticker\":{\"id\":\"1104\",\"type\":\"BasicTicker\"}},\"id\":\"1103\",\"type\":\"LinearAxis\"},{\"attributes\":{},\"id\":\"1113\",\"type\":\"PanTool\"},{\"attributes\":{},\"id\":\"1104\",\"type\":\"BasicTicker\"},{\"attributes\":{},\"id\":\"1101\",\"type\":\"LinearScale\"},{\"attributes\":{\"dimension\":1,\"plot\":{\"id\":\"1093\",\"subtype\":\"Figure\",\"type\":\"Plot\"},\"ticker\":{\"id\":\"1109\",\"type\":\"BasicTicker\"}},\"id\":\"1112\",\"type\":\"Grid\"}],\"root_ids\":[\"1126\"]},\"title\":\"Bokeh Application\",\"version\":\"1.0.4\"}};\n",
       "  var render_items = [{\"docid\":\"f821f9ad-71cd-4bb8-9468-f08afdca946f\",\"roots\":{\"1126\":\"eb3b555d-96cc-4e0b-802d-3c34a7b23982\"}}];\n",
       "  root.Bokeh.embed.embed_items_notebook(docs_json, render_items);\n",
       "\n",
       "  }\n",
       "  if (root.Bokeh !== undefined) {\n",
       "    embed_document(root);\n",
       "  } else {\n",
       "    var attempts = 0;\n",
       "    var timer = setInterval(function(root) {\n",
       "      if (root.Bokeh !== undefined) {\n",
       "        embed_document(root);\n",
       "        clearInterval(timer);\n",
       "      }\n",
       "      attempts++;\n",
       "      if (attempts > 100) {\n",
       "        console.log(\"Bokeh: ERROR: Unable to run BokehJS code because BokehJS library is missing\");\n",
       "        clearInterval(timer);\n",
       "      }\n",
       "    }, 10, root)\n",
       "  }\n",
       "})(window);"
      ],
      "application/vnd.bokehjs_exec.v0+json": ""
     },
     "metadata": {
      "application/vnd.bokehjs_exec.v0+json": {
       "id": "1126"
      }
     },
     "output_type": "display_data"
    }
   ],
   "source": [
    "show(layout)"
   ]
  }
 ],
 "metadata": {
  "kernelspec": {
   "display_name": "Python 3",
   "language": "python",
   "name": "python3"
  },
  "language_info": {
   "codemirror_mode": {
    "name": "ipython",
    "version": 3
   },
   "file_extension": ".py",
   "mimetype": "text/x-python",
   "name": "python",
   "nbconvert_exporter": "python",
   "pygments_lexer": "ipython3",
   "version": "3.6.7"
  }
 },
 "nbformat": 4,
 "nbformat_minor": 2
}
