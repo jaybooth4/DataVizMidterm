{
 "cells": [
  {
   "cell_type": "code",
   "execution_count": 1,
   "metadata": {},
   "outputs": [],
   "source": [
    "import plotly.plotly as py\n",
    "import plotly.graph_objs as go\n",
    "import plotly.figure_factory as FF\n",
    "\n",
    "import numpy as np\n",
    "import pandas as pd"
   ]
  },
  {
   "cell_type": "code",
   "execution_count": 2,
   "metadata": {},
   "outputs": [
    {
     "data": {
      "text/html": [
       "<div>\n",
       "<style scoped>\n",
       "    .dataframe tbody tr th:only-of-type {\n",
       "        vertical-align: middle;\n",
       "    }\n",
       "\n",
       "    .dataframe tbody tr th {\n",
       "        vertical-align: top;\n",
       "    }\n",
       "\n",
       "    .dataframe thead th {\n",
       "        text-align: right;\n",
       "    }\n",
       "</style>\n",
       "<table border=\"1\" class=\"dataframe\">\n",
       "  <thead>\n",
       "    <tr style=\"text-align: right;\">\n",
       "      <th></th>\n",
       "      <th>term</th>\n",
       "      <th>term-frequency</th>\n",
       "      <th>importance</th>\n",
       "    </tr>\n",
       "  </thead>\n",
       "  <tbody>\n",
       "    <tr>\n",
       "      <th>0</th>\n",
       "      <td>chamois</td>\n",
       "      <td>258</td>\n",
       "      <td>0.484144</td>\n",
       "    </tr>\n",
       "    <tr>\n",
       "      <th>1</th>\n",
       "      <td>transshipping</td>\n",
       "      <td>311</td>\n",
       "      <td>0.486072</td>\n",
       "    </tr>\n",
       "    <tr>\n",
       "      <th>2</th>\n",
       "      <td>nightgown</td>\n",
       "      <td>150</td>\n",
       "      <td>0.993922</td>\n",
       "    </tr>\n",
       "    <tr>\n",
       "      <th>3</th>\n",
       "      <td>lawyer</td>\n",
       "      <td>262</td>\n",
       "      <td>0.185945</td>\n",
       "    </tr>\n",
       "    <tr>\n",
       "      <th>4</th>\n",
       "      <td>Larsen</td>\n",
       "      <td>260</td>\n",
       "      <td>0.316849</td>\n",
       "    </tr>\n",
       "  </tbody>\n",
       "</table>\n",
       "</div>"
      ],
      "text/plain": [
       "            term  term-frequency  importance\n",
       "0        chamois             258    0.484144\n",
       "1  transshipping             311    0.486072\n",
       "2      nightgown             150    0.993922\n",
       "3         lawyer             262    0.185945\n",
       "4         Larsen             260    0.316849"
      ]
     },
     "execution_count": 2,
     "metadata": {},
     "output_type": "execute_result"
    }
   ],
   "source": [
    "# set up fake data (remove when we have real data)\n",
    "import urllib.request\n",
    "import numpy as np\n",
    "\n",
    "word_url = \"http://svnweb.freebsd.org/csrg/share/dict/words?view=co&content-type=text/plain\"\n",
    "response = urllib.request.urlopen(word_url)\n",
    "long_txt = response.read().decode()\n",
    "words = long_txt.splitlines()\n",
    "\n",
    "random_word_indices = np.random.randint(0,25486,100)\n",
    "random_words = []\n",
    "random_term_frequency = []\n",
    "random_importance = []\n",
    "for index in random_word_indices:\n",
    "    random_words.append(words[index])\n",
    "    random_term_frequency.append(np.random.randint(1,500))\n",
    "    random_importance.append(np.random.random())\n",
    "\n",
    "term_frequency_vs_importance_df = pd.DataFrame({\n",
    "    'term': random_words,\n",
    "    'term-frequency': random_term_frequency,\n",
    "    'importance': random_importance\n",
    "})\n",
    "\n",
    "term_frequency_vs_importance_df.head()"
   ]
  },
  {
   "cell_type": "code",
   "execution_count": 3,
   "metadata": {},
   "outputs": [],
   "source": [
    "# Uncomment when this is given as a file\n",
    "# term_frequency_vs_importance_df = pd.read_csv('term-frequency-vs-importance-data.csv')\n",
    "\n",
    "# term_frequency_vs_importance_df.head()"
   ]
  },
  {
   "cell_type": "markdown",
   "metadata": {},
   "source": [
    "# Term-Frequency vs. Importance"
   ]
  },
  {
   "cell_type": "markdown",
   "metadata": {},
   "source": [
    "This will take data in the format of:\n",
    "\n",
    "```\n",
    "term,term-frequency,importance\n",
    "apple,105,0.5\n",
    "orange,110,0.6\n",
    "...\n",
    "```"
   ]
  },
  {
   "cell_type": "code",
   "execution_count": 4,
   "metadata": {},
   "outputs": [
    {
     "name": "stderr",
     "output_type": "stream",
     "text": [
      "c:\\users\\forde\\appdata\\local\\programs\\python\\python37-32\\lib\\site-packages\\IPython\\core\\display.py:689: UserWarning:\n",
      "\n",
      "Consider using IPython.display.IFrame instead\n",
      "\n"
     ]
    },
    {
     "data": {
      "text/html": [
       "<iframe id=\"igraph\" scrolling=\"no\" style=\"border:none;\" seamless=\"seamless\" src=\"https://plot.ly/~forde.mary/2.embed\" height=\"525px\" width=\"100%\"></iframe>"
      ],
      "text/plain": [
       "<plotly.tools.PlotlyDisplay object>"
      ]
     },
     "execution_count": 4,
     "metadata": {},
     "output_type": "execute_result"
    }
   ],
   "source": [
    "trace = go.Scatter(\n",
    "    x=term_frequency_vs_importance_df['term-frequency'], \n",
    "    y=term_frequency_vs_importance_df['importance'],\n",
    "    mode='markers', \n",
    "    text=term_frequency_vs_importance_df['term'],\n",
    "    name='term-frequency vs. importance')\n",
    "\n",
    "layout = go.Layout(title=\"Term-frequency vs. Importance\",\n",
    "                   xaxis={'title':'Importance'},\n",
    "                   yaxis={'title':'Term-frequency'}\n",
    "                  )\n",
    "\n",
    "fig = go.Figure(data=[trace], layout=layout)\n",
    "\n",
    "py.iplot(fig, filename=\"term-frequency-vs-importance\")"
   ]
  },
  {
   "cell_type": "markdown",
   "metadata": {},
   "source": [
    "## Box-Plot for Average Document Length"
   ]
  },
  {
   "cell_type": "code",
   "execution_count": 5,
   "metadata": {},
   "outputs": [
    {
     "data": {
      "text/html": [
       "<div>\n",
       "<style scoped>\n",
       "    .dataframe tbody tr th:only-of-type {\n",
       "        vertical-align: middle;\n",
       "    }\n",
       "\n",
       "    .dataframe tbody tr th {\n",
       "        vertical-align: top;\n",
       "    }\n",
       "\n",
       "    .dataframe thead th {\n",
       "        text-align: right;\n",
       "    }\n",
       "</style>\n",
       "<table border=\"1\" class=\"dataframe\">\n",
       "  <thead>\n",
       "    <tr style=\"text-align: right;\">\n",
       "      <th></th>\n",
       "      <th>document-name</th>\n",
       "      <th>number-of-words</th>\n",
       "    </tr>\n",
       "  </thead>\n",
       "  <tbody>\n",
       "    <tr>\n",
       "      <th>0</th>\n",
       "      <td>chair</td>\n",
       "      <td>10</td>\n",
       "    </tr>\n",
       "    <tr>\n",
       "      <th>1</th>\n",
       "      <td>truth</td>\n",
       "      <td>423</td>\n",
       "    </tr>\n",
       "    <tr>\n",
       "      <th>2</th>\n",
       "      <td>invocable</td>\n",
       "      <td>270</td>\n",
       "    </tr>\n",
       "    <tr>\n",
       "      <th>3</th>\n",
       "      <td>lowland</td>\n",
       "      <td>453</td>\n",
       "    </tr>\n",
       "    <tr>\n",
       "      <th>4</th>\n",
       "      <td>drab</td>\n",
       "      <td>250</td>\n",
       "    </tr>\n",
       "  </tbody>\n",
       "</table>\n",
       "</div>"
      ],
      "text/plain": [
       "  document-name  number-of-words\n",
       "0         chair               10\n",
       "1         truth              423\n",
       "2     invocable              270\n",
       "3       lowland              453\n",
       "4          drab              250"
      ]
     },
     "execution_count": 5,
     "metadata": {},
     "output_type": "execute_result"
    }
   ],
   "source": [
    "# set up fake data (remove when we have real data)\n",
    "import urllib.request\n",
    "import numpy as np\n",
    "\n",
    "word_url = \"http://svnweb.freebsd.org/csrg/share/dict/words?view=co&content-type=text/plain\"\n",
    "response = urllib.request.urlopen(word_url)\n",
    "long_txt = response.read().decode()\n",
    "words = long_txt.splitlines()\n",
    "\n",
    "random_word_indices = np.random.randint(0,25486,100)\n",
    "random_document_name = []\n",
    "random_number_of_words = []\n",
    "for index in random_word_indices:\n",
    "    random_document_name.append(words[index])\n",
    "    random_number_of_words.append(np.random.randint(1,500))\n",
    "\n",
    "document_length_df = pd.DataFrame({\n",
    "    'document-name': random_document_name,\n",
    "    'number-of-words': random_number_of_words,\n",
    "})\n",
    "\n",
    "document_length_df.head()"
   ]
  },
  {
   "cell_type": "code",
   "execution_count": 6,
   "metadata": {},
   "outputs": [
    {
     "data": {
      "text/html": [
       "<iframe id=\"igraph\" scrolling=\"no\" style=\"border:none;\" seamless=\"seamless\" src=\"https://plot.ly/~forde.mary/18.embed\" height=\"525px\" width=\"100%\"></iframe>"
      ],
      "text/plain": [
       "<plotly.tools.PlotlyDisplay object>"
      ]
     },
     "execution_count": 6,
     "metadata": {},
     "output_type": "execute_result"
    }
   ],
   "source": [
    "trace = go.Box(\n",
    "            name='Document Word Counts',\n",
    "            y=document_length_df['number-of-words'],\n",
    "            boxpoints='all'\n",
    ")\n",
    "\n",
    "data = [trace]\n",
    "\n",
    "py.iplot(data)"
   ]
  }
 ],
 "metadata": {
  "kernelspec": {
   "display_name": "Python 3",
   "language": "python",
   "name": "python3"
  },
  "language_info": {
   "codemirror_mode": {
    "name": "ipython",
    "version": 3
   },
   "file_extension": ".py",
   "mimetype": "text/x-python",
   "name": "python",
   "nbconvert_exporter": "python",
   "pygments_lexer": "ipython3",
   "version": "3.7.0b4"
  }
 },
 "nbformat": 4,
 "nbformat_minor": 2
}
