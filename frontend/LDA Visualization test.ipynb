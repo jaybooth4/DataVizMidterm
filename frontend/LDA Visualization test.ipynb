{
 "cells": [
  {
   "cell_type": "code",
   "execution_count": null,
   "metadata": {},
   "outputs": [],
   "source": []
  },
  {
   "cell_type": "code",
   "execution_count": 23,
   "metadata": {},
   "outputs": [
    {
     "data": {
      "text/html": [
       "<script type=\"text/javascript\">window.PlotlyConfig = {MathJaxConfig: 'local'};</script><script type=\"text/javascript\">if (window.MathJax) {MathJax.Hub.Config({SVG: {font: \"STIX-Web\"}});}</script><script>requirejs.config({paths: { 'plotly': ['https://cdn.plot.ly/plotly-latest.min']},});if(!window._Plotly) {require(['plotly'],function(plotly) {window._Plotly=plotly;});}</script>"
      ],
      "text/vnd.plotly.v1+html": [
       "<script type=\"text/javascript\">window.PlotlyConfig = {MathJaxConfig: 'local'};</script><script type=\"text/javascript\">if (window.MathJax) {MathJax.Hub.Config({SVG: {font: \"STIX-Web\"}});}</script><script>requirejs.config({paths: { 'plotly': ['https://cdn.plot.ly/plotly-latest.min']},});if(!window._Plotly) {require(['plotly'],function(plotly) {window._Plotly=plotly;});}</script>"
      ]
     },
     "metadata": {},
     "output_type": "display_data"
    }
   ],
   "source": [
    "from plotly.offline import download_plotlyjs, init_notebook_mode, plot, iplot\n",
    "init_notebook_mode(connected=True)"
   ]
  },
  {
   "cell_type": "code",
   "execution_count": 21,
   "metadata": {},
   "outputs": [
    {
     "ename": "NameError",
     "evalue": "name 'init_notebook_mode' is not defined",
     "output_type": "error",
     "traceback": [
      "\u001b[1;31m---------------------------------------------------------------------------\u001b[0m",
      "\u001b[1;31mNameError\u001b[0m                                 Traceback (most recent call last)",
      "\u001b[1;32m<ipython-input-21-cb005e79cee4>\u001b[0m in \u001b[0;36m<module>\u001b[1;34m()\u001b[0m\n\u001b[0;32m     10\u001b[0m \u001b[1;32mimport\u001b[0m \u001b[0mplotly\u001b[0m\u001b[1;33m.\u001b[0m\u001b[0mgraph_objs\u001b[0m \u001b[1;32mas\u001b[0m \u001b[0mgo\u001b[0m\u001b[1;33m\u001b[0m\u001b[0m\n\u001b[0;32m     11\u001b[0m \u001b[1;32mimport\u001b[0m \u001b[0mnumpy\u001b[0m \u001b[1;32mas\u001b[0m \u001b[0mnp\u001b[0m\u001b[1;33m\u001b[0m\u001b[0m\n\u001b[1;32m---> 12\u001b[1;33m \u001b[0minit_notebook_mode\u001b[0m\u001b[1;33m(\u001b[0m\u001b[0mconnected\u001b[0m\u001b[1;33m=\u001b[0m\u001b[1;32mTrue\u001b[0m\u001b[1;33m)\u001b[0m\u001b[1;33m\u001b[0m\u001b[0m\n\u001b[0m\u001b[0;32m     13\u001b[0m \u001b[0mtokenizer\u001b[0m \u001b[1;33m=\u001b[0m \u001b[0mRegexpTokenizer\u001b[0m\u001b[1;33m(\u001b[0m\u001b[1;34mr'\\w+'\u001b[0m\u001b[1;33m)\u001b[0m\u001b[1;33m\u001b[0m\u001b[0m\n\u001b[0;32m     14\u001b[0m \u001b[1;33m\u001b[0m\u001b[0m\n",
      "\u001b[1;31mNameError\u001b[0m: name 'init_notebook_mode' is not defined"
     ]
    }
   ],
   "source": [
    "import nltk\n",
    "import sklearn\n",
    "from nltk.corpus import stopwords\n",
    "from nltk.tokenize import RegexpTokenizer\n",
    "from stop_words import get_stop_words\n",
    "from nltk.stem.porter import PorterStemmer\n",
    "from gensim import corpora, models\n",
    "import gensim\n",
    "import plotly.plotly as py\n",
    "import plotly.graph_objs as go\n",
    "import numpy as np\n",
    "\n",
    "tokenizer = RegexpTokenizer(r'\\w+')\n",
    "\n",
    "# create English stop words list\n",
    "en_stop = get_stop_words('en')\n",
    "\n",
    "# Create p_stemmer of class PorterStemmer\n",
    "p_stemmer = PorterStemmer()\n",
    "    \n",
    "# create sample documents\n",
    "doc_a = \"Brocolli is good to eat. My brother likes to eat good brocolli, but not my mother.\"\n",
    "doc_b = \"My mother spends a lot of time driving my brother around to baseball practice.\"\n",
    "doc_c = \"Some health experts suggest that driving may cause increased tension and blood pressure.\"\n",
    "doc_d = \"I often feel pressure to perform well at school, but my mother never seems to drive my brother to do better.\"\n",
    "doc_e = \"Health professionals say that brocolli is good for your health.\" \n",
    "\n",
    "# compile sample documents into a list\n",
    "doc_set = [doc_a, doc_b, doc_c, doc_d, doc_e]\n",
    "\n",
    "# list for tokenized documents in loop\n",
    "texts = []\n",
    "\n",
    "# loop through document list\n",
    "for i in doc_set:\n",
    "    \n",
    "    # clean and tokenize document string\n",
    "    raw = i.lower()\n",
    "    tokens = tokenizer.tokenize(raw)\n",
    "\n",
    "    # remove stop words from tokens\n",
    "    stopped_tokens = [i for i in tokens if not i in en_stop]\n",
    "    \n",
    "    # stem tokens\n",
    "    stemmed_tokens = [p_stemmer.stem(i) for i in stopped_tokens]\n",
    "    \n",
    "    # add tokens to list\n",
    "    texts.append(stemmed_tokens)\n",
    "\n",
    "# turn our tokenized documents into a id <-> term dictionary\n",
    "dictionary = corpora.Dictionary(texts)\n",
    "    \n",
    "# convert tokenized documents into a document-term matrix\n",
    "corpus = [dictionary.doc2bow(text) for text in texts]\n",
    "\n",
    "# generate LDA model\n",
    "ldamodel = gensim.models.ldamodel.LdaModel(corpus, num_topics=2, id2word = dictionary, passes=20)"
   ]
  },
  {
   "cell_type": "code",
   "execution_count": 3,
   "metadata": {
    "scrolled": false
   },
   "outputs": [
    {
     "name": "stdout",
     "output_type": "stream",
     "text": [
      "[(0, '0.112*\"brocolli\" + 0.112*\"good\" + 0.082*\"health\" + 0.080*\"eat\"'), (1, '0.075*\"drive\" + 0.053*\"mother\" + 0.053*\"brother\" + 0.053*\"pressur\"')]\n"
     ]
    }
   ],
   "source": [
    "print(ldamodel.print_topics(num_topics=2, num_words=4))"
   ]
  },
  {
   "cell_type": "code",
   "execution_count": 5,
   "metadata": {},
   "outputs": [
    {
     "name": "stdout",
     "output_type": "stream",
     "text": [
      "{'brocolli': 0, 'brother': 1, 'eat': 2, 'good': 3, 'like': 4, 'mother': 5, 'around': 6, 'basebal': 7, 'drive': 8, 'lot': 9, 'practic': 10, 'spend': 11, 'time': 12, 'blood': 13, 'caus': 14, 'expert': 15, 'health': 16, 'increas': 17, 'may': 18, 'pressur': 19, 'suggest': 20, 'tension': 21, 'better': 22, 'feel': 23, 'never': 24, 'often': 25, 'perform': 26, 'school': 27, 'seem': 28, 'well': 29, 'profession': 30, 'say': 31}\n"
     ]
    }
   ],
   "source": [
    "print(dictionary.token2id)"
   ]
  },
  {
   "cell_type": "code",
   "execution_count": 6,
   "metadata": {},
   "outputs": [
    {
     "data": {
      "text/plain": [
       "array([[0.11235365, 0.04825171, 0.08023989, 0.11235233, 0.04812133,\n",
       "        0.04825043, 0.01619889, 0.01619874, 0.01620718, 0.0161991 ,\n",
       "        0.01619889, 0.01619925, 0.01619845, 0.01620775, 0.01620944,\n",
       "        0.01620888, 0.08181372, 0.01620872, 0.0162094 , 0.01619704,\n",
       "        0.01620714, 0.01620804, 0.01616873, 0.01616953, 0.01616823,\n",
       "        0.01616837, 0.01616891, 0.0161683 , 0.01617066, 0.0161696 ,\n",
       "        0.04810359, 0.04810413],\n",
       "       [0.01071452, 0.05329499, 0.01070977, 0.01071539, 0.01070821,\n",
       "        0.05329584, 0.03191308, 0.03191318, 0.07458095, 0.03191294,\n",
       "        0.03191308, 0.03191284, 0.03191337, 0.0319072 , 0.03190606,\n",
       "        0.03190644, 0.03100103, 0.03190655, 0.03190609, 0.05325099,\n",
       "        0.0319076 , 0.031907  , 0.03193312, 0.03193258, 0.03193345,\n",
       "        0.03193335, 0.03193299, 0.0319334 , 0.03193183, 0.03193253,\n",
       "        0.01072   , 0.01071964]], dtype=float32)"
      ]
     },
     "execution_count": 6,
     "metadata": {},
     "output_type": "execute_result"
    }
   ],
   "source": [
    "ldamodel.get_topics()"
   ]
  },
  {
   "cell_type": "code",
   "execution_count": 9,
   "metadata": {},
   "outputs": [
    {
     "data": {
      "text/plain": [
       "[('drive', 0.074580945),\n",
       " ('mother', 0.053295843),\n",
       " ('brother', 0.053294994),\n",
       " ('pressur', 0.053250995),\n",
       " ('never', 0.031933445),\n",
       " ('school', 0.031933397),\n",
       " ('often', 0.031933352),\n",
       " ('better', 0.031933118),\n",
       " ('perform', 0.03193299),\n",
       " ('feel', 0.03193258)]"
      ]
     },
     "execution_count": 9,
     "metadata": {},
     "output_type": "execute_result"
    }
   ],
   "source": [
    "ldamodel.show_topic(1)"
   ]
  },
  {
   "cell_type": "code",
   "execution_count": 17,
   "metadata": {},
   "outputs": [
    {
     "data": {
      "text/plain": [
       "array([['brocolli', '0.11235365'],\n",
       "       ['good', '0.112352334'],\n",
       "       ['health', '0.08181372'],\n",
       "       ['eat', '0.0802399'],\n",
       "       ['brother', '0.04825172'],\n",
       "       ['mother', '0.048250437'],\n",
       "       ['like', '0.048121337'],\n",
       "       ['say', '0.04810413'],\n",
       "       ['profession', '0.048103593'],\n",
       "       ['caus', '0.016209446']], dtype='<U11')"
      ]
     },
     "execution_count": 17,
     "metadata": {},
     "output_type": "execute_result"
    }
   ],
   "source": [
    "topic1Array = np.asarray(ldamodel.show_topic(0))\n",
    "topic1Array"
   ]
  },
  {
   "cell_type": "code",
   "execution_count": 16,
   "metadata": {},
   "outputs": [
    {
     "data": {
      "text/plain": [
       "array([['drive', '0.074580945'],\n",
       "       ['mother', '0.053295843'],\n",
       "       ['brother', '0.053294994'],\n",
       "       ['pressur', '0.053250995'],\n",
       "       ['never', '0.031933445'],\n",
       "       ['school', '0.031933397'],\n",
       "       ['often', '0.031933352'],\n",
       "       ['better', '0.031933118'],\n",
       "       ['perform', '0.03193299'],\n",
       "       ['feel', '0.03193258']], dtype='<U11')"
      ]
     },
     "execution_count": 16,
     "metadata": {},
     "output_type": "execute_result"
    }
   ],
   "source": [
    "topic2Array = np.asarray(ldamodel.show_topic(1))\n",
    "topic2Array"
   ]
  },
  {
   "cell_type": "code",
   "execution_count": 28,
   "metadata": {},
   "outputs": [
    {
     "data": {
      "application/vnd.plotly.v1+json": {
       "config": {
        "linkText": "Export to plot.ly",
        "plotlyServerURL": "https://plot.ly",
        "showLink": false
       },
       "data": [
        {
         "marker": {
          "color": "rgb(158,202,225)",
          "line": {
           "color": "rgb(8,48,107)",
           "width": 1.5
          }
         },
         "opacity": 0.6,
         "text": [
          "0.11235365",
          "0.112352334",
          "0.08181372",
          "0.0802399",
          "0.04825172",
          "0.048250437",
          "0.048121337",
          "0.04810413",
          "0.048103593",
          "0.016209446"
         ],
         "textposition": "auto",
         "type": "bar",
         "uid": "964d2cd2-0fd1-4e03-8ca5-6162d082809d",
         "x": [
          "brocolli",
          "good",
          "health",
          "eat",
          "brother",
          "mother",
          "like",
          "say",
          "profession",
          "caus"
         ],
         "y": [
          "0.11235365",
          "0.112352334",
          "0.08181372",
          "0.0802399",
          "0.04825172",
          "0.048250437",
          "0.048121337",
          "0.04810413",
          "0.048103593",
          "0.016209446"
         ]
        },
        {
         "marker": {
          "color": "rgb(58,200,225)",
          "line": {
           "color": "rgb(8,48,107)",
           "width": 1.5
          }
         },
         "opacity": 0.6,
         "text": [
          "0.074580945",
          "0.053295843",
          "0.053294994",
          "0.053250995",
          "0.031933445",
          "0.031933397",
          "0.031933352",
          "0.031933118",
          "0.03193299",
          "0.03193258"
         ],
         "textposition": "auto",
         "type": "bar",
         "uid": "cc5141ee-7ae5-441a-9f8a-d764c8aa7496",
         "x": [
          "drive",
          "mother",
          "brother",
          "pressur",
          "never",
          "school",
          "often",
          "better",
          "perform",
          "feel"
         ],
         "y": [
          "0.074580945",
          "0.053295843",
          "0.053294994",
          "0.053250995",
          "0.031933445",
          "0.031933397",
          "0.031933352",
          "0.031933118",
          "0.03193299",
          "0.03193258"
         ]
        }
       ],
       "layout": {}
      },
      "text/html": [
       "<div id=\"5202c0f9-65e9-4cab-8ea4-c34fdc97d7d3\" style=\"height: 525px; width: 100%;\" class=\"plotly-graph-div\"></div><script type=\"text/javascript\">require([\"plotly\"], function(Plotly) { window.PLOTLYENV=window.PLOTLYENV || {};window.PLOTLYENV.BASE_URL=\"https://plot.ly\";Plotly.newPlot(\"5202c0f9-65e9-4cab-8ea4-c34fdc97d7d3\", [{\"marker\": {\"color\": \"rgb(158,202,225)\", \"line\": {\"color\": \"rgb(8,48,107)\", \"width\": 1.5}}, \"opacity\": 0.6, \"text\": [\"0.11235365\", \"0.112352334\", \"0.08181372\", \"0.0802399\", \"0.04825172\", \"0.048250437\", \"0.048121337\", \"0.04810413\", \"0.048103593\", \"0.016209446\"], \"textposition\": \"auto\", \"x\": [\"brocolli\", \"good\", \"health\", \"eat\", \"brother\", \"mother\", \"like\", \"say\", \"profession\", \"caus\"], \"y\": [\"0.11235365\", \"0.112352334\", \"0.08181372\", \"0.0802399\", \"0.04825172\", \"0.048250437\", \"0.048121337\", \"0.04810413\", \"0.048103593\", \"0.016209446\"], \"type\": \"bar\", \"uid\": \"13383314-e624-4f12-a699-c0c3d8425e81\"}, {\"marker\": {\"color\": \"rgb(58,200,225)\", \"line\": {\"color\": \"rgb(8,48,107)\", \"width\": 1.5}}, \"opacity\": 0.6, \"text\": [\"0.074580945\", \"0.053295843\", \"0.053294994\", \"0.053250995\", \"0.031933445\", \"0.031933397\", \"0.031933352\", \"0.031933118\", \"0.03193299\", \"0.03193258\"], \"textposition\": \"auto\", \"x\": [\"drive\", \"mother\", \"brother\", \"pressur\", \"never\", \"school\", \"often\", \"better\", \"perform\", \"feel\"], \"y\": [\"0.074580945\", \"0.053295843\", \"0.053294994\", \"0.053250995\", \"0.031933445\", \"0.031933397\", \"0.031933352\", \"0.031933118\", \"0.03193299\", \"0.03193258\"], \"type\": \"bar\", \"uid\": \"0cad4600-b6e4-48d7-9bf4-20cfa654c3e7\"}], {}, {\"showLink\": false, \"linkText\": \"Export to plot.ly\", \"plotlyServerURL\": \"https://plot.ly\"})});</script><script type=\"text/javascript\">window.addEventListener(\"resize\", function(){window._Plotly.Plots.resize(document.getElementById(\"5202c0f9-65e9-4cab-8ea4-c34fdc97d7d3\"));});</script>"
      ],
      "text/vnd.plotly.v1+html": [
       "<div id=\"5202c0f9-65e9-4cab-8ea4-c34fdc97d7d3\" style=\"height: 525px; width: 100%;\" class=\"plotly-graph-div\"></div><script type=\"text/javascript\">require([\"plotly\"], function(Plotly) { window.PLOTLYENV=window.PLOTLYENV || {};window.PLOTLYENV.BASE_URL=\"https://plot.ly\";Plotly.newPlot(\"5202c0f9-65e9-4cab-8ea4-c34fdc97d7d3\", [{\"marker\": {\"color\": \"rgb(158,202,225)\", \"line\": {\"color\": \"rgb(8,48,107)\", \"width\": 1.5}}, \"opacity\": 0.6, \"text\": [\"0.11235365\", \"0.112352334\", \"0.08181372\", \"0.0802399\", \"0.04825172\", \"0.048250437\", \"0.048121337\", \"0.04810413\", \"0.048103593\", \"0.016209446\"], \"textposition\": \"auto\", \"x\": [\"brocolli\", \"good\", \"health\", \"eat\", \"brother\", \"mother\", \"like\", \"say\", \"profession\", \"caus\"], \"y\": [\"0.11235365\", \"0.112352334\", \"0.08181372\", \"0.0802399\", \"0.04825172\", \"0.048250437\", \"0.048121337\", \"0.04810413\", \"0.048103593\", \"0.016209446\"], \"type\": \"bar\", \"uid\": \"13383314-e624-4f12-a699-c0c3d8425e81\"}, {\"marker\": {\"color\": \"rgb(58,200,225)\", \"line\": {\"color\": \"rgb(8,48,107)\", \"width\": 1.5}}, \"opacity\": 0.6, \"text\": [\"0.074580945\", \"0.053295843\", \"0.053294994\", \"0.053250995\", \"0.031933445\", \"0.031933397\", \"0.031933352\", \"0.031933118\", \"0.03193299\", \"0.03193258\"], \"textposition\": \"auto\", \"x\": [\"drive\", \"mother\", \"brother\", \"pressur\", \"never\", \"school\", \"often\", \"better\", \"perform\", \"feel\"], \"y\": [\"0.074580945\", \"0.053295843\", \"0.053294994\", \"0.053250995\", \"0.031933445\", \"0.031933397\", \"0.031933352\", \"0.031933118\", \"0.03193299\", \"0.03193258\"], \"type\": \"bar\", \"uid\": \"0cad4600-b6e4-48d7-9bf4-20cfa654c3e7\"}], {}, {\"showLink\": false, \"linkText\": \"Export to plot.ly\", \"plotlyServerURL\": \"https://plot.ly\"})});</script><script type=\"text/javascript\">window.addEventListener(\"resize\", function(){window._Plotly.Plots.resize(document.getElementById(\"5202c0f9-65e9-4cab-8ea4-c34fdc97d7d3\"));});</script>"
      ]
     },
     "metadata": {},
     "output_type": "display_data"
    }
   ],
   "source": [
    "x1 = [topic1Array[0,0],topic1Array[1,0],topic1Array[2,0],topic1Array[3,0],topic1Array[4,0],topic1Array[5,0],\n",
    "     topic1Array[6,0],topic1Array[7,0],topic1Array[8,0],topic1Array[9,0]]\n",
    "y1 = [topic1Array[0,1],topic1Array[1,1],topic1Array[2,1],topic1Array[3,1],topic1Array[4,1],topic1Array[5,1],\n",
    "     topic1Array[6,1],topic1Array[7,1],topic1Array[8,1],topic1Array[9,1]]\n",
    "x2 = [topic2Array[0,0],topic2Array[1,0],topic2Array[2,0],topic2Array[3,0],topic2Array[4,0],topic2Array[5,0],\n",
    "     topic2Array[6,0],topic2Array[7,0],topic2Array[8,0],topic2Array[9,0]]\n",
    "y2 = [topic2Array[0,1],topic2Array[1,1],topic2Array[2,1],topic2Array[3,1],topic2Array[4,1],topic2Array[5,1],\n",
    "     topic2Array[6,1],topic2Array[7,1],topic2Array[8,1],topic2Array[9,1]]\n",
    "\n",
    "topic1 = go.Bar(\n",
    "    x=x1,\n",
    "    y=y1,\n",
    "    text=y1,\n",
    "    textposition = 'auto',\n",
    "    marker=dict(\n",
    "        color='rgb(158,202,225)',\n",
    "        line=dict(\n",
    "            color='rgb(8,48,107)',\n",
    "            width=1.5),\n",
    "        ),\n",
    "    opacity=0.6\n",
    ")\n",
    "\n",
    "topic2 = go.Bar(\n",
    "    x=x2,\n",
    "    y=y2,\n",
    "    text=y2,\n",
    "    textposition = 'auto',\n",
    "    marker=dict(\n",
    "        color='rgb(58,200,225)',\n",
    "        line=dict(\n",
    "            color='rgb(8,48,107)',\n",
    "            width=1.5),\n",
    "        ),\n",
    "    opacity=0.6\n",
    ")\n",
    "\n",
    "data = [trace1,trace2]\n",
    "\n",
    "iplot(data, filename='grouped-bar-direct-labels')"
   ]
  },
  {
   "cell_type": "code",
   "execution_count": null,
   "metadata": {},
   "outputs": [],
   "source": []
  }
 ],
 "metadata": {
  "kernelspec": {
   "display_name": "Python 3",
   "language": "python",
   "name": "python3"
  },
  "language_info": {
   "codemirror_mode": {
    "name": "ipython",
    "version": 3
   },
   "file_extension": ".py",
   "mimetype": "text/x-python",
   "name": "python",
   "nbconvert_exporter": "python",
   "pygments_lexer": "ipython3",
   "version": "3.6.4"
  }
 },
 "nbformat": 4,
 "nbformat_minor": 2
}
