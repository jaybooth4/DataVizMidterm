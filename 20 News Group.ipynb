{
 "cells": [
  {
   "cell_type": "markdown",
   "metadata": {},
   "source": [
    "# Data Cleaning and ML"
   ]
  },
  {
   "cell_type": "code",
   "execution_count": 1,
   "metadata": {},
   "outputs": [],
   "source": [
    "NUM_DOCS = 1000\n",
    "NUM_THREADS = 4\n",
    "BATCH_SIZE = NUM_DOCS/NUM_THREADS"
   ]
  },
  {
   "cell_type": "code",
   "execution_count": 2,
   "metadata": {},
   "outputs": [],
   "source": [
    "import gensim.downloader as api\n",
    "\n",
    "# Downloads dataset locally on your machine, which you can read directly\n",
    "# Won't re-download if the dataset is already there\n",
    "dataset = api.load(\"20-newsgroups\")"
   ]
  },
  {
   "cell_type": "markdown",
   "metadata": {},
   "source": [
    "## Pre-processing"
   ]
  },
  {
   "cell_type": "code",
   "execution_count": 3,
   "metadata": {},
   "outputs": [],
   "source": [
    "import json\n",
    "import gzip\n",
    "from pathlib import Path\n",
    "\n",
    "# Gensim data should load data to the ~/gensim-data directory\n",
    "home = str(Path.home())\n",
    "dataPath = home + \"/gensim-data/20-newsgroups/20-newsgroups.gz\"\n",
    "\n",
    "corpusJson = []\n",
    "file = gzip.open(dataPath)\n",
    "corpusJson = [json.loads(line) for line in file]\n",
    "file.close()"
   ]
  },
  {
   "cell_type": "markdown",
   "metadata": {},
   "source": [
    "### Extract data"
   ]
  },
  {
   "cell_type": "code",
   "execution_count": 4,
   "metadata": {},
   "outputs": [],
   "source": [
    "# Extract the corpus data and topic labels from Dataset\n",
    "corpus = list(map(lambda jsonDoc: jsonDoc[\"data\"], corpusJson))\n",
    "corpusTopics = list(map(lambda jsonDoc: jsonDoc[\"topic\"], corpusJson))"
   ]
  },
  {
   "cell_type": "markdown",
   "metadata": {},
   "source": [
    "### Clean Data (stemming, stop word removal)"
   ]
  },
  {
   "cell_type": "code",
   "execution_count": 5,
   "metadata": {},
   "outputs": [
    {
     "name": "stdout",
     "output_type": "stream",
     "text": [
      "CPU times: user 16.1 s, sys: 101 ms, total: 16.2 s\n",
      "Wall time: 16.2 s\n"
     ]
    }
   ],
   "source": [
    "%%time\n",
    "import spacy\n",
    "\n",
    "def addStopWords(stopWords, nlp):\n",
    "    for stopWord in stopWords:\n",
    "        lexeme = nlp.vocab[stopWord]\n",
    "        lexeme.is_stop = True\n",
    "        \n",
    "def filterWords(word):\n",
    "    return word.is_alpha and not word.is_stop\n",
    "\n",
    "def convertWords(word):\n",
    "    return word.lemma_.lower()\n",
    "\n",
    "def cleanDoc(doc):\n",
    "    return list(map(convertWords, filter(filterWords, doc)))\n",
    "\n",
    "nlp = spacy.load(\"en\", disable=['tagger', 'parser', 'ner', 'textcat'])\n",
    "# Currently adding no other stop words\n",
    "addStopWords([], nlp) \n",
    "\n",
    "# nlp.add_pipe(cleanDoc, name='cleanDoc', last=True)\n",
    "nlpCorpus = []\n",
    "for doc in nlp.pipe(corpus[:NUM_DOCS], n_threads=NUM_THREADS, batch_size=BATCH_SIZE):\n",
    "    nlpCorpus.append(nlp(doc.text))\n",
    "    \n",
    "cleanCorpus = list(map(lambda doc: cleanDoc(doc), nlpCorpus))"
   ]
  },
  {
   "cell_type": "markdown",
   "metadata": {},
   "source": [
    "### Add bigrams"
   ]
  },
  {
   "cell_type": "code",
   "execution_count": 6,
   "metadata": {},
   "outputs": [
    {
     "name": "stdout",
     "output_type": "stream",
     "text": [
      "CPU times: user 735 ms, sys: 8.37 ms, total: 743 ms\n",
      "Wall time: 742 ms\n"
     ]
    }
   ],
   "source": [
    "%%time\n",
    "from gensim.models.phrases import Phrases\n",
    "\n",
    "# We need to mess around with these\n",
    "# threshold = 1\n",
    "# minCount = 1\n",
    "bigram = Phrases(cleanCorpus)#, min_count=minCount, threshold=threshold)\n",
    "cleanBigramCorpus = [bigram[doc] for doc in cleanCorpus]"
   ]
  },
  {
   "cell_type": "markdown",
   "metadata": {},
   "source": [
    "### Create BOW and tfidf"
   ]
  },
  {
   "cell_type": "code",
   "execution_count": 7,
   "metadata": {},
   "outputs": [
    {
     "name": "stdout",
     "output_type": "stream",
     "text": [
      "CPU times: user 692 ms, sys: 9.78 ms, total: 702 ms\n",
      "Wall time: 701 ms\n"
     ]
    }
   ],
   "source": [
    "%%time\n",
    "from gensim.corpora.dictionary import Dictionary\n",
    "from gensim.models.tfidfmodel import TfidfModel\n",
    "\n",
    "dictionary = Dictionary(cleanBigramCorpus)\n",
    "bow = [dictionary.doc2bow(doc) for doc in cleanBigramCorpus]\n",
    "\n",
    "tfidfModel = TfidfModel(bow)  # fit model\n",
    "tfidf = [tfidfModel[doc] for doc in bow]\n",
    "\n",
    "doc2Vec = bow = [dictionary.doc2bow(doc) for doc in cleanBigramCorpus]"
   ]
  },
  {
   "cell_type": "markdown",
   "metadata": {},
   "source": [
    "### Train LDA model"
   ]
  },
  {
   "cell_type": "code",
   "execution_count": 8,
   "metadata": {},
   "outputs": [
    {
     "name": "stdout",
     "output_type": "stream",
     "text": [
      "CPU times: user 2.2 s, sys: 88.4 ms, total: 2.29 s\n",
      "Wall time: 1.7 s\n"
     ]
    }
   ],
   "source": [
    "%%time\n",
    "from gensim.models import LdaModel\n",
    "\n",
    "ldamodel = LdaModel(bow, num_topics=10, id2word=dictionary)"
   ]
  },
  {
   "cell_type": "markdown",
   "metadata": {},
   "source": [
    "### Perform Clustering for Validation"
   ]
  },
  {
   "cell_type": "code",
   "execution_count": 9,
   "metadata": {},
   "outputs": [
    {
     "name": "stdout",
     "output_type": "stream",
     "text": [
      "CPU times: user 22.6 s, sys: 1.14 s, total: 23.8 s\n",
      "Wall time: 13 s\n"
     ]
    }
   ],
   "source": [
    "%%time\n",
    "from sklearn.cluster import KMeans\n",
    "import numpy as np\n",
    "\n",
    "clusterData = []\n",
    "maxLength = max(map(lambda doc: doc[-1][0], bow))\n",
    "for doc in bow:\n",
    "    docDict = dict(doc)\n",
    "    vectorOnly = []\n",
    "    for i in range(maxLength):\n",
    "        vectorOnly.append(docDict.get(i, 0))\n",
    "    clusterData.append(vectorOnly)\n",
    "\n",
    "kmeans = KMeans(n_clusters=20).fit(clusterData)\n",
    "# kmeans.labels_"
   ]
  },
  {
   "cell_type": "markdown",
   "metadata": {},
   "source": [
    "### Verify Labels"
   ]
  },
  {
   "cell_type": "code",
   "execution_count": 10,
   "metadata": {},
   "outputs": [
    {
     "name": "stdout",
     "output_type": "stream",
     "text": [
      "-0.000470476394326084\n",
      "CPU times: user 2.5 ms, sys: 1.24 ms, total: 3.73 ms\n",
      "Wall time: 2.61 ms\n"
     ]
    }
   ],
   "source": [
    "%%time\n",
    "from sklearn.metrics import adjusted_rand_score\n",
    "\n",
    "# Similarity metric between groups\n",
    "score = adjusted_rand_score(kmeans.labels_, corpusTopics[:NUM_DOCS])\n",
    "print(score)"
   ]
  },
  {
   "cell_type": "code",
   "execution_count": 11,
   "metadata": {},
   "outputs": [
    {
     "data": {
      "text/plain": [
       "1.0"
      ]
     },
     "execution_count": 11,
     "metadata": {},
     "output_type": "execute_result"
    }
   ],
   "source": [
    "label1 = [1, 1, 1, 2, 3, 4, 4, 4, 5]\n",
    "label2 = list(map(lambda i: str(i), label1))\n",
    "\n",
    "adjusted_rand_score(label1, label2)"
   ]
  },
  {
   "cell_type": "code",
   "execution_count": null,
   "metadata": {},
   "outputs": [],
   "source": []
  }
 ],
 "metadata": {
  "kernelspec": {
   "display_name": "Python 3",
   "language": "python",
   "name": "python3"
  },
  "language_info": {
   "codemirror_mode": {
    "name": "ipython",
    "version": 3
   },
   "file_extension": ".py",
   "mimetype": "text/x-python",
   "name": "python",
   "nbconvert_exporter": "python",
   "pygments_lexer": "ipython3",
   "version": "3.7.2"
  }
 },
 "nbformat": 4,
 "nbformat_minor": 2
}
