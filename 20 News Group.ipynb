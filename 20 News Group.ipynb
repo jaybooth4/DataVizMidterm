{
 "cells": [
  {
   "cell_type": "code",
   "execution_count": 53,
   "metadata": {},
   "outputs": [],
   "source": [
    "import gensim.downloader as api\n",
    "from gensim.models.word2vec import Word2Vec"
   ]
  },
  {
   "cell_type": "code",
   "execution_count": 54,
   "metadata": {},
   "outputs": [
    {
     "data": {
      "text/plain": [
       "{'num_records': 18846,\n",
       " 'record_format': 'dict',\n",
       " 'file_size': 14483581,\n",
       " 'reader_code': 'https://github.com/RaRe-Technologies/gensim-data/releases/download/20-newsgroups/__init__.py',\n",
       " 'license': 'not found',\n",
       " 'fields': {'topic': 'name of topic (20 variant of possible values)',\n",
       "  'set': \"marker of original split (possible values 'train' and 'test')\",\n",
       "  'data': '',\n",
       "  'id': 'original id inferred from folder name'},\n",
       " 'description': 'The notorious collection of approximately 20,000 newsgroup posts, partitioned (nearly) evenly across 20 different newsgroups.',\n",
       " 'checksum': 'c92fd4f6640a86d5ba89eaad818a9891',\n",
       " 'file_name': '20-newsgroups.gz',\n",
       " 'read_more': ['http://qwone.com/~jason/20Newsgroups/'],\n",
       " 'parts': 1}"
      ]
     },
     "execution_count": 54,
     "metadata": {},
     "output_type": "execute_result"
    }
   ],
   "source": [
    "api.info(\"20-newsgroups\")"
   ]
  },
  {
   "cell_type": "code",
   "execution_count": 57,
   "metadata": {},
   "outputs": [
    {
     "name": "stdout",
     "output_type": "stream",
     "text": [
      "<20-newsgroups.Dataset object at 0x122cc10b8>\n"
     ]
    }
   ],
   "source": [
    "dataset = api.load(\"20-newsgroups\")\n",
    "print(dataset)"
   ]
  },
  {
   "cell_type": "code",
   "execution_count": null,
   "metadata": {},
   "outputs": [],
   "source": [
    "#dir(dataset.__iter__())"
   ]
  },
  {
   "cell_type": "code",
   "execution_count": 56,
   "metadata": {},
   "outputs": [
    {
     "name": "stdout",
     "output_type": "stream",
     "text": [
      "{'topic': 'soc.religion.christian', 'set': 'train', 'data': 'From: db7n+@andrew.cmu.edu (D. Andrew Byler)\\nSubject: Re: Serbian genocide Work of God?\\nOrganization: Freshman, Civil Engineering, Carnegie Mellon, Pittsburgh, PA\\nLines: 61\\n\\nVera Shanti Noyes writes;\\n\\n>this is what indicates to me that you may believe in predestination.\\n>am i correct?  i do not believe in predestination -- i believe we all\\n>choose whether or not we will accept God\\'s gift of salvation to us.\\n>again, fundamental difference which can\\'t really be resolved.\\n\\nOf course I believe in Predestination.  It\\'s a very biblical doctrine as\\nRomans 8.28-30 shows (among other passages).  Furthermore, the Church\\nhas always taught predestination, from the very beginning.  But to say\\nthat I believe in Predestination does not mean I do not believe in free\\nwill.  Men freely choose the course of their life, which is also\\naffected by the grace of God.  However, unlike the Calvinists and\\nJansenists, I hold that grace is resistable, otherwise you end up with\\nthe idiocy of denying the universal saving will of God (1 Timothy 2.4). \\nFor God must give enough grace to all to be saved.  But only the elect,\\nwho he foreknew, are predestined and receive the grace of final\\nperserverance, which guarantees heaven.  This does not mean that those\\nwithout that grace can\\'t be saved, it just means that god foreknew their\\nobstinacy and chose not to give it to them, knowing they would not need\\nit, as they had freely chosen hell.\\n\\t\\t\\t\\t\\t\\t\\t  ^^^^^^^^^^^\\nPeople who are saved are saved by the grace of God, and not by their own\\neffort, for it was God who disposed them to Himself, and predestined\\nthem to become saints.  But those who perish in everlasting fire perish\\nbecause they hardened their heart and chose to perish.  Thus, they were\\ndeserving of God;s punishment, as they had rejected their Creator, and\\nsinned against the working of the Holy Spirit.\\n\\n>yes, it is up to God to judge.  but he will only mete out that\\n>punishment at the last judgement. \\n\\nWell, I would hold that as God most certainly gives everybody some\\nblessing for what good they have done (even if it was only a little),\\nfor those He can\\'t bless in the next life, He blesses in this one.  And\\nthose He will not punish in the next life, will be chastised in this one\\nor in Purgatory for their sins.  Every sin incurs some temporal\\npunishment, thus, God will punish it unless satisfaction is made for it\\n(cf. 2 Samuel 12.13-14, David\\'s sin of Adultery and Murder were\\nforgiven, but he was still punished with the death of his child.)  And I\\nneed not point out the idea of punishment because of God\\'s judgement is\\nquite prevelant in the Bible.  Sodom and Gommorrah, Moses barred from\\nthe Holy Land, the slaughter of the Cannanites, Annias and Saphira,\\nJerusalem in 70 AD, etc.\\n\\n> if jesus stopped the stoning of an adulterous woman (perhaps this is\\nnot a >good parallel, but i\\'m going to go with it anyway), why should we\\nnot >stop the murder and violation of people who may (or may not) be more\\n>innocent?\\n\\nWe should stop the slaughter of the innocent (cf Proverbs 24.11-12), but\\ndoes that mean that Christians should support a war in Bosnia with the\\nU.S. or even the U.N. involved?  I do not think so, but I am an\\nisolationist, and disagree with foreign adventures in general.  But in\\nthe case of Bosnia, I frankly see no excuse for us getting militarily\\ninvolved, it would not be a \"just war.\"  \"Blessed\" after all, \"are the\\npeacemakers\" was what Our Lord said, not the interventionists.  Our\\nactions in Bosnia must be for peace, and not for a war which is\\nunrelated to anything to justify it for us.\\n\\nAndy Byler\\n', 'id': '21408'}\n"
     ]
    }
   ],
   "source": [
    "# Need to get the generator from the dataset to use with gensim\n",
    "generator = dataset.__iter__()\n",
    "print(generator.__next__()) # example doc"
   ]
  },
  {
   "cell_type": "code",
   "execution_count": 58,
   "metadata": {},
   "outputs": [],
   "source": [
    "model = Word2Vec(dataset)"
   ]
  },
  {
   "cell_type": "code",
   "execution_count": 70,
   "metadata": {},
   "outputs": [
    {
     "name": "stdout",
     "output_type": "stream",
     "text": [
      "[ 536870912 1073741824 1610612735 2147483647]\n"
     ]
    }
   ],
   "source": [
    "print(model.vocabulary.cum_table)"
   ]
  }
 ],
 "metadata": {
  "kernelspec": {
   "display_name": "Python 3",
   "language": "python",
   "name": "python3"
  },
  "language_info": {
   "codemirror_mode": {
    "name": "ipython",
    "version": 3
   },
   "file_extension": ".py",
   "mimetype": "text/x-python",
   "name": "python",
   "nbconvert_exporter": "python",
   "pygments_lexer": "ipython3",
   "version": "3.7.2"
  }
 },
 "nbformat": 4,
 "nbformat_minor": 2
}
