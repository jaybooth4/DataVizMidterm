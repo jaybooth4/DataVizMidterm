{
 "cells": [
  {
   "cell_type": "code",
   "execution_count": 1,
   "metadata": {},
   "outputs": [],
   "source": [
    "import gensim.downloader as api\n",
    "from gensim.models.word2vec import Word2Vec\n",
    "from gensim.models.phrases import Phrases\n",
    "from gensim.corpora.dictionary import Dictionary\n",
    "from gensim.models.tfidfmodel import TfidfModel\n",
    "from gensim.models import LdaModel"
   ]
  },
  {
   "cell_type": "code",
   "execution_count": 2,
   "metadata": {},
   "outputs": [
    {
     "data": {
      "text/plain": [
       "{'num_records': 18846,\n",
       " 'record_format': 'dict',\n",
       " 'file_size': 14483581,\n",
       " 'reader_code': 'https://github.com/RaRe-Technologies/gensim-data/releases/download/20-newsgroups/__init__.py',\n",
       " 'license': 'not found',\n",
       " 'fields': {'topic': 'name of topic (20 variant of possible values)',\n",
       "  'set': \"marker of original split (possible values 'train' and 'test')\",\n",
       "  'data': '',\n",
       "  'id': 'original id inferred from folder name'},\n",
       " 'description': 'The notorious collection of approximately 20,000 newsgroup posts, partitioned (nearly) evenly across 20 different newsgroups.',\n",
       " 'checksum': 'c92fd4f6640a86d5ba89eaad818a9891',\n",
       " 'file_name': '20-newsgroups.gz',\n",
       " 'read_more': ['http://qwone.com/~jason/20Newsgroups/'],\n",
       " 'parts': 1}"
      ]
     },
     "execution_count": 2,
     "metadata": {},
     "output_type": "execute_result"
    }
   ],
   "source": [
    "api.info(\"20-newsgroups\")"
   ]
  },
  {
   "cell_type": "code",
   "execution_count": 3,
   "metadata": {},
   "outputs": [
    {
     "name": "stdout",
     "output_type": "stream",
     "text": [
      "<20-newsgroups.Dataset object at 0x11e7f9a58>\n"
     ]
    }
   ],
   "source": [
    "# Gensim data returns an iterator interface to the tar file\n",
    "# This is really cool for big files because it doesn't require holding the full dataset in RAM\n",
    "# It also downloads it locally on your machine, whcih you can read directly\n",
    "dataset = api.load(\"20-newsgroups\")\n",
    "print(dataset)"
   ]
  },
  {
   "cell_type": "code",
   "execution_count": 4,
   "metadata": {},
   "outputs": [
    {
     "name": "stdout",
     "output_type": "stream",
     "text": [
      "{'topic': 'soc.religion.christian', 'set': 'train', 'data': 'From: db7n+@andrew.cmu.edu (D. Andrew Byler)\\nSubject: Re: Serbian genocide Work of God?\\nOrganization: Freshman, Civil Engineering, Carnegie Mellon, Pittsburgh, PA\\nLines: 61\\n\\nVera Shanti Noyes writes;\\n\\n>this is what indicates to me that you may believe in predestination.\\n>am i correct?  i do not believe in predestination -- i believe we all\\n>choose whether or not we will accept God\\'s gift of salvation to us.\\n>again, fundamental difference which can\\'t really be resolved.\\n\\nOf course I believe in Predestination.  It\\'s a very biblical doctrine as\\nRomans 8.28-30 shows (among other passages).  Furthermore, the Church\\nhas always taught predestination, from the very beginning.  But to say\\nthat I believe in Predestination does not mean I do not believe in free\\nwill.  Men freely choose the course of their life, which is also\\naffected by the grace of God.  However, unlike the Calvinists and\\nJansenists, I hold that grace is resistable, otherwise you end up with\\nthe idiocy of denying the universal saving will of God (1 Timothy 2.4). \\nFor God must give enough grace to all to be saved.  But only the elect,\\nwho he foreknew, are predestined and receive the grace of final\\nperserverance, which guarantees heaven.  This does not mean that those\\nwithout that grace can\\'t be saved, it just means that god foreknew their\\nobstinacy and chose not to give it to them, knowing they would not need\\nit, as they had freely chosen hell.\\n\\t\\t\\t\\t\\t\\t\\t  ^^^^^^^^^^^\\nPeople who are saved are saved by the grace of God, and not by their own\\neffort, for it was God who disposed them to Himself, and predestined\\nthem to become saints.  But those who perish in everlasting fire perish\\nbecause they hardened their heart and chose to perish.  Thus, they were\\ndeserving of God;s punishment, as they had rejected their Creator, and\\nsinned against the working of the Holy Spirit.\\n\\n>yes, it is up to God to judge.  but he will only mete out that\\n>punishment at the last judgement. \\n\\nWell, I would hold that as God most certainly gives everybody some\\nblessing for what good they have done (even if it was only a little),\\nfor those He can\\'t bless in the next life, He blesses in this one.  And\\nthose He will not punish in the next life, will be chastised in this one\\nor in Purgatory for their sins.  Every sin incurs some temporal\\npunishment, thus, God will punish it unless satisfaction is made for it\\n(cf. 2 Samuel 12.13-14, David\\'s sin of Adultery and Murder were\\nforgiven, but he was still punished with the death of his child.)  And I\\nneed not point out the idea of punishment because of God\\'s judgement is\\nquite prevelant in the Bible.  Sodom and Gommorrah, Moses barred from\\nthe Holy Land, the slaughter of the Cannanites, Annias and Saphira,\\nJerusalem in 70 AD, etc.\\n\\n> if jesus stopped the stoning of an adulterous woman (perhaps this is\\nnot a >good parallel, but i\\'m going to go with it anyway), why should we\\nnot >stop the murder and violation of people who may (or may not) be more\\n>innocent?\\n\\nWe should stop the slaughter of the innocent (cf Proverbs 24.11-12), but\\ndoes that mean that Christians should support a war in Bosnia with the\\nU.S. or even the U.N. involved?  I do not think so, but I am an\\nisolationist, and disagree with foreign adventures in general.  But in\\nthe case of Bosnia, I frankly see no excuse for us getting militarily\\ninvolved, it would not be a \"just war.\"  \"Blessed\" after all, \"are the\\npeacemakers\" was what Our Lord said, not the interventionists.  Our\\nactions in Bosnia must be for peace, and not for a war which is\\nunrelated to anything to justify it for us.\\n\\nAndy Byler\\n', 'id': '21408'}\n"
     ]
    }
   ],
   "source": [
    "# Need to get the generator from the dataset to use with gensim\n",
    "generator = dataset.__iter__()\n",
    "print(generator.__next__()) # example doc"
   ]
  },
  {
   "cell_type": "code",
   "execution_count": 5,
   "metadata": {},
   "outputs": [
    {
     "name": "stdout",
     "output_type": "stream",
     "text": [
      "[ 536870912 1073741824 1610612735 2147483647]\n"
     ]
    }
   ],
   "source": [
    "# Gensim can directly read the iterator\n",
    "model = Word2Vec(dataset)\n",
    "print(model.vocabulary.cum_table)"
   ]
  },
  {
   "cell_type": "markdown",
   "metadata": {},
   "source": [
    "## Pre-processing"
   ]
  },
  {
   "cell_type": "code",
   "execution_count": 6,
   "metadata": {},
   "outputs": [
    {
     "name": "stdout",
     "output_type": "stream",
     "text": [
      "18846\n"
     ]
    }
   ],
   "source": [
    "import json\n",
    "import gzip\n",
    "\n",
    "corpusJson = []\n",
    "file = gzip.open(\"/Users/jaybooth/gensim-data/20-newsgroups/20-newsgroups.gz\")\n",
    "corpusJson = [json.loads(line) for line in file]\n",
    "file.close()\n",
    "print(len(corpusJson))"
   ]
  },
  {
   "cell_type": "code",
   "execution_count": 7,
   "metadata": {},
   "outputs": [
    {
     "name": "stdout",
     "output_type": "stream",
     "text": [
      "{'topic': 'soc.religion.christian', 'set': 'train', 'data': 'From: db7n+@andrew.cmu.edu (D. Andrew Byler)\\nSubject: Re: Serbian genocide Work of God?\\nOrganization: Freshman, Civil Engineering, Carnegie Mellon, Pittsburgh, PA\\nLines: 61\\n\\nVera Shanti Noyes writes;\\n\\n>this is what indicates to me that you may believe in predestination.\\n>am i correct?  i do not believe in predestination -- i believe we all\\n>choose whether or not we will accept God\\'s gift of salvation to us.\\n>again, fundamental difference which can\\'t really be resolved.\\n\\nOf course I believe in Predestination.  It\\'s a very biblical doctrine as\\nRomans 8.28-30 shows (among other passages).  Furthermore, the Church\\nhas always taught predestination, from the very beginning.  But to say\\nthat I believe in Predestination does not mean I do not believe in free\\nwill.  Men freely choose the course of their life, which is also\\naffected by the grace of God.  However, unlike the Calvinists and\\nJansenists, I hold that grace is resistable, otherwise you end up with\\nthe idiocy of denying the universal saving will of God (1 Timothy 2.4). \\nFor God must give enough grace to all to be saved.  But only the elect,\\nwho he foreknew, are predestined and receive the grace of final\\nperserverance, which guarantees heaven.  This does not mean that those\\nwithout that grace can\\'t be saved, it just means that god foreknew their\\nobstinacy and chose not to give it to them, knowing they would not need\\nit, as they had freely chosen hell.\\n\\t\\t\\t\\t\\t\\t\\t  ^^^^^^^^^^^\\nPeople who are saved are saved by the grace of God, and not by their own\\neffort, for it was God who disposed them to Himself, and predestined\\nthem to become saints.  But those who perish in everlasting fire perish\\nbecause they hardened their heart and chose to perish.  Thus, they were\\ndeserving of God;s punishment, as they had rejected their Creator, and\\nsinned against the working of the Holy Spirit.\\n\\n>yes, it is up to God to judge.  but he will only mete out that\\n>punishment at the last judgement. \\n\\nWell, I would hold that as God most certainly gives everybody some\\nblessing for what good they have done (even if it was only a little),\\nfor those He can\\'t bless in the next life, He blesses in this one.  And\\nthose He will not punish in the next life, will be chastised in this one\\nor in Purgatory for their sins.  Every sin incurs some temporal\\npunishment, thus, God will punish it unless satisfaction is made for it\\n(cf. 2 Samuel 12.13-14, David\\'s sin of Adultery and Murder were\\nforgiven, but he was still punished with the death of his child.)  And I\\nneed not point out the idea of punishment because of God\\'s judgement is\\nquite prevelant in the Bible.  Sodom and Gommorrah, Moses barred from\\nthe Holy Land, the slaughter of the Cannanites, Annias and Saphira,\\nJerusalem in 70 AD, etc.\\n\\n> if jesus stopped the stoning of an adulterous woman (perhaps this is\\nnot a >good parallel, but i\\'m going to go with it anyway), why should we\\nnot >stop the murder and violation of people who may (or may not) be more\\n>innocent?\\n\\nWe should stop the slaughter of the innocent (cf Proverbs 24.11-12), but\\ndoes that mean that Christians should support a war in Bosnia with the\\nU.S. or even the U.N. involved?  I do not think so, but I am an\\nisolationist, and disagree with foreign adventures in general.  But in\\nthe case of Bosnia, I frankly see no excuse for us getting militarily\\ninvolved, it would not be a \"just war.\"  \"Blessed\" after all, \"are the\\npeacemakers\" was what Our Lord said, not the interventionists.  Our\\nactions in Bosnia must be for peace, and not for a war which is\\nunrelated to anything to justify it for us.\\n\\nAndy Byler\\n', 'id': '21408'}\n"
     ]
    }
   ],
   "source": [
    "print(corpusJson[0])"
   ]
  },
  {
   "cell_type": "code",
   "execution_count": 8,
   "metadata": {},
   "outputs": [],
   "source": [
    "corpus = list(map(lambda jsonDoc: jsonDoc[\"data\"],corpusJson))\n",
    "corpusTopics = list(map(lambda jsonDoc: jsonDoc[\"topic\"],corpusJson))"
   ]
  },
  {
   "cell_type": "code",
   "execution_count": 9,
   "metadata": {},
   "outputs": [],
   "source": [
    "import spacy\n",
    "nlp = spacy.load(\"en\")"
   ]
  },
  {
   "cell_type": "code",
   "execution_count": 10,
   "metadata": {},
   "outputs": [],
   "source": [
    "my_stop_words = []\n",
    "for stopword in my_stop_words:\n",
    "    lexeme = nlp.vocab[stopword]\n",
    "    lexeme.is_stop = True"
   ]
  },
  {
   "cell_type": "code",
   "execution_count": 11,
   "metadata": {},
   "outputs": [],
   "source": [
    "nlpCorpus = list(map(lambda doc: nlp(doc), corpus[:10]))"
   ]
  },
  {
   "cell_type": "code",
   "execution_count": 13,
   "metadata": {},
   "outputs": [],
   "source": [
    "def filterWords(word):\n",
    "    return word.is_alpha and not word.is_stop\n",
    "\n",
    "def convertWords(word):\n",
    "    return word.lemma_.lower()\n",
    "\n",
    "def cleanDoc(doc):\n",
    "    return list(map(convertWords, filter(filterWords, doc)))\n",
    "\n",
    "cleanCorpus = list(map(lambda doc: cleanDoc(doc), nlpCorpus))"
   ]
  },
  {
   "cell_type": "code",
   "execution_count": 14,
   "metadata": {},
   "outputs": [
    {
     "name": "stdout",
     "output_type": "stream",
     "text": [
      "['from', 'andrew', 'byler', 'subject', 're', 'serbian', 'genocide', 'work', 'god', 'organization', 'freshman', 'civil', 'engineering', 'carnegie', 'mellon', 'pittsburgh', 'pa', 'lines', 'vera', 'shanti', 'noyes', 'write', 'indicate', 'believe', 'predestination', 'correct', 'believe', 'predestination', 'believe', 'choose', 'accept', 'god', 'gift', 'salvation', 'fundamental', 'difference', 'resolve', 'of', 'course', '-pron-', 'believe', 'predestination', '-pron-', 'biblical', 'doctrine', 'romans', 'show', 'passage', 'furthermore', 'church', 'teach', 'predestination', 'beginning', 'but', '-pron-', 'believe', 'predestination', 'mean', '-pron-', 'believe', 'free', 'men', 'freely', 'choose', 'course', 'life', 'affect', 'grace', 'god', 'however', 'unlike', 'calvinists', 'jansenists', '-pron-', 'hold', 'grace', 'resistable', 'end', 'idiocy', 'deny', 'universal', 'saving', 'god', 'timothy', 'for', 'god', 'grace', 'save', 'but', 'elect', 'foreknew', 'predestine', 'receive', 'grace', 'final', 'perserverance', 'guarantee', 'heaven', 'this', 'mean', 'grace', 'save', 'mean', 'god', 'foreknew', 'obstinacy', 'choose', 'know', 'need', 'freely', 'choose', 'hell', 'people', 'save', 'save', 'grace', 'god', 'effort', 'god', 'dispose', '-pron-', 'predestine', 'saint', 'but', 'perish', 'everlasting', 'fire', 'perish', 'harden', 'heart', 'choose', 'perish', 'thus', 'deserving', 'punishment', 'reject', 'creator', 'sin', 'working', 'holy', 'spirit', 'yes', 'god', 'judge', 'mete', 'punishment', 'judgement', 'well', '-pron-', 'hold', 'god', 'certainly', 'give', 'everybody', 'blessing', 'good', 'little', '-pron-', 'bless', 'life', '-pron-', 'bless', 'and', '-pron-', 'punish', 'life', 'chastise', 'purgatory', 'sin', 'every', 'sin', 'incur', 'temporal', 'punishment', 'god', 'punish', 'satisfaction', 'cf', 'samuel', 'david', 'sin', 'adultery', 'murder', 'forgive', 'punish', 'death', 'child', 'and', '-pron-', 'need', 'point', 'idea', 'punishment', 'god', 'judgement', 'prevelant', 'bible', 'sodom', 'gommorrah', 'moses', 'bar', 'holy', 'land', 'slaughter', 'cannanites', 'annias', 'saphira', 'jerusalem', 'ad', 'etc', 'jesus', 'stop', 'stoning', 'adulterous', 'woman', 'good', 'parallel', 'go', 'stop', 'murder', 'violation', 'people', 'innocent', '-pron-', 'stop', 'slaughter', 'innocent', 'cf', 'proverbs', 'mean', 'christians', 'support', 'war', 'bosnia', 'involve', '-pron-', 'think', '-pron-', 'isolationist', 'disagree', 'foreign', 'adventure', 'general', 'but', 'case', 'bosnia', '-pron-', 'frankly', 'excuse', 'get', 'militarily', 'involved', 'war', 'bless', 'peacemaker', '-pron-', 'lord', 'say', 'interventionist', '-pron-', 'action', 'bosnia', 'peace', 'war', 'unrelated', 'justify', 'andy', 'byler']\n"
     ]
    }
   ],
   "source": [
    "print(cleanCorpus[0])"
   ]
  },
  {
   "cell_type": "code",
   "execution_count": 15,
   "metadata": {},
   "outputs": [],
   "source": [
    "# We need to mess around with these\n",
    "threshold = 1\n",
    "minCount = 1\n",
    "bigram = Phrases(cleanCorpus, min_count=minCount, threshold=threshold)"
   ]
  },
  {
   "cell_type": "code",
   "execution_count": 16,
   "metadata": {},
   "outputs": [],
   "source": [
    "cleanBigramCorpus = [bigram[doc] for doc in cleanCorpus]"
   ]
  },
  {
   "cell_type": "code",
   "execution_count": 17,
   "metadata": {},
   "outputs": [
    {
     "data": {
      "text/plain": [
       "['from_andrew',\n",
       " 'byler_subject',\n",
       " 're',\n",
       " 'serbian',\n",
       " 'genocide',\n",
       " 'work',\n",
       " 'god',\n",
       " 'organization_freshman',\n",
       " 'civil_engineering',\n",
       " 'carnegie_mellon']"
      ]
     },
     "execution_count": 17,
     "metadata": {},
     "output_type": "execute_result"
    }
   ],
   "source": [
    "cleanBigramCorpus[0][:10]"
   ]
  },
  {
   "cell_type": "code",
   "execution_count": 18,
   "metadata": {},
   "outputs": [],
   "source": [
    "dictionary = Dictionary(cleanBigramCorpus)\n",
    "bow = [dictionary.doc2bow(doc) for doc in cleanBigramCorpus]"
   ]
  },
  {
   "cell_type": "code",
   "execution_count": 19,
   "metadata": {},
   "outputs": [
    {
     "data": {
      "text/plain": [
       "[(0, 7),\n",
       " (1, 2),\n",
       " (2, 2),\n",
       " (3, 2),\n",
       " (4, 1),\n",
       " (5, 1),\n",
       " (6, 1),\n",
       " (7, 1),\n",
       " (8, 1),\n",
       " (9, 1)]"
      ]
     },
     "execution_count": 19,
     "metadata": {},
     "output_type": "execute_result"
    }
   ],
   "source": [
    "bow[0][:10]"
   ]
  },
  {
   "cell_type": "code",
   "execution_count": 20,
   "metadata": {},
   "outputs": [],
   "source": [
    "model = TfidfModel(bow)  # fit model\n",
    "vector = model[bow[0]]"
   ]
  },
  {
   "cell_type": "code",
   "execution_count": 21,
   "metadata": {},
   "outputs": [
    {
     "name": "stdout",
     "output_type": "stream",
     "text": [
      "[(0, 0.019450470953619004), (1, 0.08489036814489959), (2, 0.12145065971112816), (3, 0.12145065971112816), (4, 0.03175198428161197), (5, 0.03175198428161197), (6, 0.04244518407244979), (7, 0.06072532985556408), (8, 0.06072532985556408), (9, 0.06072532985556408), (10, 0.06072532985556408), (11, 0.06072532985556408), (12, 0.08489036814489959), (13, 0.04244518407244979), (14, 0.06072532985556408), (15, 0.06072532985556408), (16, 0.06072532985556408), (17, 0.04244518407244979), (18, 0.18217598956669226), (19, 0.04244518407244979)]\n",
      "('-pron-', 0)\n",
      "('-pron-_believe', 1)\n",
      "('-pron-_bless', 2)\n",
      "('-pron-_hold', 3)\n",
      "('-pron-_think', 4)\n",
      "('accept', 5)\n",
      "('action', 6)\n",
      "('ad', 7)\n",
      "('adulterous', 8)\n",
      "('adultery', 9)\n",
      "('adventure', 10)\n",
      "('affect', 11)\n",
      "('and_-pron-', 12)\n",
      "('andy_byler', 13)\n",
      "('annias', 14)\n",
      "('bar', 15)\n",
      "('beginning', 16)\n",
      "('believe', 17)\n",
      "('believe_predestination', 18)\n",
      "('bible', 19)\n"
     ]
    }
   ],
   "source": [
    "print(vector[:20])\n",
    "\n",
    "iterator = iter(dictionary.token2id.items())\n",
    "for i in range(20):\n",
    "    print(next(iterator))"
   ]
  },
  {
   "cell_type": "code",
   "execution_count": 22,
   "metadata": {},
   "outputs": [],
   "source": [
    "ldamodel = LdaModel(bow, num_topics=10, id2word=dictionary)"
   ]
  },
  {
   "cell_type": "code",
   "execution_count": 23,
   "metadata": {},
   "outputs": [
    {
     "data": {
      "text/plain": [
       "[(0,\n",
       "  '0.008*\"god\" + 0.007*\"assumption\" + 0.007*\"mean\" + 0.006*\"heaven\" + 0.005*\"-pron-\" + 0.005*\"virgin_mary\" + 0.004*\"pittsburgh_pa\" + 0.004*\"jung\" + 0.004*\"lines\" + 0.004*\"civil_engineering\"'),\n",
       " (1,\n",
       "  '0.023*\"-pron-\" + 0.016*\"response\" + 0.011*\"question\" + 0.011*\"sherlette\" + 0.010*\"post\" + 0.008*\"people\" + 0.008*\"from\" + 0.008*\"subject_re\" + 0.007*\"-pron-_know\" + 0.007*\"sin\"'),\n",
       " (2,\n",
       "  '0.016*\"-pron-\" + 0.010*\"god\" + 0.010*\"if\" + 0.010*\"jesus\" + 0.008*\"the\" + 0.008*\"kingdom_heaven\" + 0.008*\"christians\" + 0.007*\"earth\" + 0.007*\"messiah\" + 0.007*\"write\"'),\n",
       " (3,\n",
       "  '0.028*\"-pron-\" + 0.011*\"god\" + 0.011*\"judge\" + 0.008*\"activity\" + 0.006*\"sin\" + 0.006*\"repent\" + 0.006*\"judgement\" + 0.005*\"christians\" + 0.005*\"national\" + 0.005*\"folk\"'),\n",
       " (4,\n",
       "  '0.011*\"-pron-\" + 0.006*\"god\" + 0.005*\"jesus\" + 0.005*\"the\" + 0.004*\"if\" + 0.004*\"but\" + 0.004*\"year\" + 0.004*\"write\" + 0.004*\"return\" + 0.004*\"jewish_people\"'),\n",
       " (5,\n",
       "  '0.028*\"-pron-\" + 0.020*\"prayer\" + 0.018*\"sin\" + 0.011*\"think\" + 0.011*\"god\" + 0.010*\"prayer_hinder\" + 0.010*\"wife\" + 0.010*\"the\" + 0.009*\"write\" + 0.007*\"verse\"'),\n",
       " (6,\n",
       "  '0.026*\"-pron-\" + 0.016*\"god\" + 0.013*\"creation\" + 0.007*\"accept\" + 0.007*\"if\" + 0.007*\"explanation\" + 0.006*\"choose\" + 0.006*\"jesus\" + 0.005*\"life\" + 0.005*\"there\"'),\n",
       " (7,\n",
       "  '0.023*\"-pron-\" + 0.012*\"god\" + 0.009*\"creation\" + 0.008*\"sin\" + 0.008*\"accept\" + 0.006*\"premise\" + 0.006*\"life\" + 0.005*\"choose\" + 0.005*\"intelligence\" + 0.005*\"write\"'),\n",
       " (8,\n",
       "  '0.029*\"-pron-\" + 0.016*\"god\" + 0.015*\"jews\" + 0.014*\"people\" + 0.012*\"paul\" + 0.011*\"christ\" + 0.011*\"law\" + 0.011*\"say_-pron-\" + 0.010*\"the\" + 0.008*\"say\"'),\n",
       " (9,\n",
       "  '0.014*\"god\" + 0.013*\"assumption\" + 0.013*\"mean\" + 0.010*\"-pron-\" + 0.010*\"heaven\" + 0.009*\"jung\" + 0.009*\"virgin_mary\" + 0.008*\"write\" + 0.007*\"sin\" + 0.006*\"idea\"')]"
      ]
     },
     "execution_count": 23,
     "metadata": {},
     "output_type": "execute_result"
    }
   ],
   "source": [
    "ldamodel.show_topics()"
   ]
  },
  {
   "cell_type": "code",
   "execution_count": null,
   "metadata": {},
   "outputs": [],
   "source": []
  }
 ],
 "metadata": {
  "kernelspec": {
   "display_name": "Python 3",
   "language": "python",
   "name": "python3"
  },
  "language_info": {
   "codemirror_mode": {
    "name": "ipython",
    "version": 3
   },
   "file_extension": ".py",
   "mimetype": "text/x-python",
   "name": "python",
   "nbconvert_exporter": "python",
   "pygments_lexer": "ipython3",
   "version": "3.7.2"
  }
 },
 "nbformat": 4,
 "nbformat_minor": 2
}
